{
 "cells": [
  {
   "cell_type": "code",
   "execution_count": 1,
   "id": "a2591f1b",
   "metadata": {
    "ExecuteTime": {
     "end_time": "2023-03-20T14:56:55.595014Z",
     "start_time": "2023-03-20T14:56:55.582767Z"
    }
   },
   "outputs": [
    {
     "data": {
      "text/html": [
       "\n",
       "<script src=\"https://cdnjs.cloudflare.com/ajax/libs/jquery/2.0.3/jquery.min.\n",
       "js\"></script>\n",
       "<script>\n",
       "code_show=true;\n",
       "function code_toggle() {\n",
       "if (code_show){\n",
       "$('div.jp-CodeCell > div.jp-Cell-inputWrapper').hide();\n",
       "} else {\n",
       "$('div.jp-CodeCell > div.jp-Cell-inputWrapper').show();\n",
       "}\n",
       "code_show = !code_show\n",
       "}\n",
       "$( document ).ready(code_toggle);\n",
       "</script>\n",
       "<form action=\"javascript:code_toggle()\"><input type=\"submit\" \n",
       "value=\"Click here to toggle on/off the raw code.\"></form>\n"
      ],
      "text/plain": [
       "<IPython.core.display.HTML object>"
      ]
     },
     "execution_count": 1,
     "metadata": {},
     "output_type": "execute_result"
    }
   ],
   "source": [
    "from IPython.display import HTML\n",
    "HTML('''\n",
    "<script src=\"https://cdnjs.cloudflare.com/ajax/libs/jquery/2.0.3/jquery.min.\n",
    "js\"></script>\n",
    "<script>\n",
    "code_show=true;\n",
    "function code_toggle() {\n",
    "if (code_show){\n",
    "$('div.jp-CodeCell > div.jp-Cell-inputWrapper').hide();\n",
    "} else {\n",
    "$('div.jp-CodeCell > div.jp-Cell-inputWrapper').show();\n",
    "}\n",
    "code_show = !code_show\n",
    "}\n",
    "$( document ).ready(code_toggle);\n",
    "</script>\n",
    "<form action=\"javascript:code_toggle()\"><input type=\"submit\" \n",
    "value=\"Click here to toggle on/off the raw code.\"></form>\n",
    "''')"
   ]
  },
  {
   "cell_type": "code",
   "execution_count": 2,
   "id": "f9b04a79",
   "metadata": {
    "ExecuteTime": {
     "end_time": "2023-03-20T14:56:55.608765Z",
     "start_time": "2023-03-20T14:56:55.602435Z"
    }
   },
   "outputs": [
    {
     "data": {
      "text/html": [
       "\n",
       "<style>\n",
       ".output_png {\n",
       "    display: table-cell;\n",
       "    text-align: center;\n",
       "    vertical-align: middle;\n",
       "}\n",
       "</style>\n"
      ],
      "text/plain": [
       "<IPython.core.display.HTML object>"
      ]
     },
     "execution_count": 2,
     "metadata": {},
     "output_type": "execute_result"
    }
   ],
   "source": [
    "from IPython.core.display import HTML\n",
    "HTML(\"\"\"\n",
    "<style>\n",
    ".output_png {\n",
    "    display: table-cell;\n",
    "    text-align: center;\n",
    "    vertical-align: middle;\n",
    "}\n",
    "</style>\n",
    "\"\"\")"
   ]
  },
  {
   "cell_type": "markdown",
   "id": "56f12f89",
   "metadata": {},
   "source": [
    "<h1 style=\"background-color:#0531BC; color:#F5F5F1; padding: 20px;\">Title</h1>"
   ]
  },
  {
   "cell_type": "markdown",
   "id": "e67fb4dc",
   "metadata": {},
   "source": [
    "<center><img src=\"./ML2_FinalProject_Banner.png\" width=\"90%\" height=\"90%\"></center>\n",
    "<center>Image 01. Project Title Banner.</center>"
   ]
  },
  {
   "cell_type": "markdown",
   "id": "c12aca93",
   "metadata": {},
   "source": [
    "<h1 style=\"background-color:#0531BC; color:#F5F5F1; padding: 20px;\">Executive Summary</h1>"
   ]
  },
  {
   "cell_type": "markdown",
   "id": "7d62ee21",
   "metadata": {},
   "source": [
    "As the pandemic continues to limit jobs and income opportunities, having other sources of income is important. Aside from the usual salaries of the workforce, people have expanded their income streams through other means, such as *investments*. Depending on the risks, investments can grow your money exponentially or empty your wallet. Ideally, investments should aim to **maximize returns** while **minimizing risk**. Even up to the present, portfolio managers have been using the **Mean-Variance Portfolio** (`MVP`) method of portfolio construction to achieve investment objectives. However, through the years, with the advancement of AI, new and novel ways have since been discovered and built by financial engineers. One such well-known strategy is the **Hierarchical Risk Parity** (`HRP`) method of portfolio construction, formally published by *Lopez de Prado* in 2016; the focal point of the strategy is to utilize graph theory and machine learning to allocate portfolio risk properly.\n",
    "\n",
    "The group's study aims to compare the two portfolio construction methods, MV and HRP, and determine if the HRP portfolio outperforms the MVP method in general market scenarios, albeit limited to a single asset class (US equities). \n",
    "\n",
    "For this study, the team took the data of the S&P 500 stocks from Yahoo finance. The data was the daily stock prices from January 2018 to December 2019. After extracting the data, the team performed exploratory data analysis to clean it and present it visually. The team then prepared and constructed the MVP and HRP portfolios from the asset universe. Afterward, the team performed backtesting to compare the results of each portfolio using Sharpe Ratio. The group utilized machine learning to connect the statistical properties of the securities to the difference in Sharpe Ratios between the two strategies. Lastly, the team used post-hoc methods in **explainable AI** (i.e., `SHAP`)  to interpret the differences in portfolio performance. \n",
    "\n",
    "Explainable AI (XAI) through Shap allows the group to assess the performance of the two portfolio strategies at a granular level. While the Hierarchical Risk Parity portfolio would not replace the Mean-Variance approach anytime soon, empirical tests prove that the HRP strategy provides a *more diversified portfolio* construction than MVP and not at the expense of returns. In addition, using XAI presents to the investor or asset manager a clearer picture of asset allocation and how each portfolio strategy handles an asset class."
   ]
  },
  {
   "cell_type": "markdown",
   "id": "3c848140",
   "metadata": {},
   "source": [
    "<h1 style=\"background-color:#0531BC; color:#F5F5F1; padding: 20px;\">Highlights</h1>"
   ]
  },
  {
   "cell_type": "markdown",
   "id": "9dee2fbc",
   "metadata": {},
   "source": [
    "* The **Hierarchical Risk Parity** Portfolio provides a **more stable diversification strategy** and covers Mean-Variance Portfolio's shortcomings concerning asset allocation.\n",
    "* Hierarchical Risk Parity Portfolio **performs better on out-of-sample data** than the Mean-Variance approach.\n",
    "* The use of machine learning and **explainable AI** allows investors and asset managers alike to **examine various strategies at a granular level**."
   ]
  },
  {
   "cell_type": "markdown",
   "id": "371760c4",
   "metadata": {},
   "source": [
    "<h1 style=\"background-color:#0531BC; color:#F5F5F1; padding: 20px;\">Problem Statement</h1>"
   ]
  },
  {
   "cell_type": "markdown",
   "id": "0b790322",
   "metadata": {},
   "source": [
    "Can the Hierarchical Risk Parity method replace the Mean-Variance approach as the standard for a \"Modern Portfolio\"? In what ways can an \"asset diversification\"-focused approach provide returns which may rival returns-based apprach?"
   ]
  },
  {
   "cell_type": "markdown",
   "id": "dd2e0138",
   "metadata": {},
   "source": [
    "<h1 style=\"background-color:#0531BC; color:#F5F5F1; padding: 20px;\">Motivation</h1>"
   ]
  },
  {
   "cell_type": "markdown",
   "id": "d943d825",
   "metadata": {},
   "source": [
    "Investing in stocks, bonds, and other securities has never been as easily accessible. People can now invest and trade through brokers, websites, and even on their phones. In addition, investment is now included in other products like insurance. Technology has opened the market more than ever.\n",
    "\n",
    "A half-century-old theory is still commonly used in building a portfolio. *Mean-Variance Portfolio (MVP)* is still used widely by the industry because of its simplicity, but with the advancement in Machine Learning and AI, other methods have come up. An example of this new method is the *Hierarchical Risk Parity (HRP) Portfolio*. It is a portfolio-building strategy that utilizes unsupervised learning. Couple with *Explainable AI (XAI)*, people can now analyze the strengths and weaknesses of a portfolio\n",
    "\n",
    "**Insights to Investments** seeks to take a peak behind a machine learning algorithm and explain how and why one portfolio performs better than the other."
   ]
  },
  {
   "cell_type": "markdown",
   "id": "673d6cae",
   "metadata": {},
   "source": [
    "<h1 style=\"background-color:#0531BC; color:#F5F5F1; padding: 20px;\">Introduction</h1>"
   ]
  },
  {
   "cell_type": "markdown",
   "id": "f3aea6a1",
   "metadata": {},
   "source": [
    "*Investing* refers to the act of allocating resources (i.e., money) with the expectation of generating a profit in the future. While on the other hand, *portfolio management* is managing a collection of investments to achieve an objective. This objective is to **maximize return** (the potential money you could gain from the investment) and **minimize risk** (the potential money you could lose). A common practice in the industry is that a professional portfolio manager works on behalf of clients. These portfolio managers build a portfolio based on multiple factors and the client's risk appetite. [[1]](https://www.investopedia.com/terms/p/portfoliomanagement.asp)\n",
    "\n",
    "When talking about portfolio management, these are things that we need to consider: *Asset allocation*, *Diversification*, *Rebalancing*, and *Passive vs. Active Management*. For effective portfolio management, portfolio managers generally distribute the whole investment into several different assets with a specific percentage. To spread the risk across several assets and minimize the effect of unfavorable market conditions. Portfolios have different diversification techniques to achieve it. **Diversification will reduce volatility**, and real diversification happens when investments are allocated across different kinds of securities (i.e., stocks, bonds, and others). *Rebalancing* happens when the portfolio **adjusts its allocations towards its original target allocation** at regular intervals (usually annually). This rebalancing allows to capture of gains and redistributes investment to assets with a high growth potential. [[1]](https://www.investopedia.com/terms/p/portfoliomanagement.asp) Lastly, *Active vs. Passive Management* refers to the strategy of whether the portfolio managers **try to beat the market**. Passive Management, also called *index fund management*, aims to duplicate the results of a specific market, usually indicated by its index. In the Philippines, this index is referred to as the **Philippine Stock Exchange Index (PSEi)**, a collection of 30 listed companies chosen to represent the general movement of the Philippine market. [[2]](https://capital.com/pse-index-psei-definition) On the other hand, Active Management tries to beat the market by strategically buying and selling stocks and other assets. Portfolio managers here must pay more attention to the market trends, shift in the economy, and many other possible indicators of potential changes in the market. [[1]](https://www.investopedia.com/terms/p/portfoliomanagement.asp)\n",
    "\n",
    "There are many techniques to build a portfolio. For the purpose of the project, we will focus on two: the mean-variance portfolio and the hierarchical risk parity portfolio. **Mean-variance Portfolio** or `MVP` is a part of the modern portfolio theory of American economist Harry Markowitz. In MVP, the risk is measured as the expected return variance. Variance measures how spread out the values of the returns are. It measures the **volatility of the asset in the market**. An investor will typically choose the investment with the higher return given the same variance or a lower variance given the same return. The necessary calculation to build MVP involves optimization to find the efficient frontier. [[3]](https://www.guidedchoice.com/video/dr-harry-markowitz-father-of-modern-portfolio-theory/)\n",
    "\n",
    "<center><img src=\"./Efficient_Frontier.jpg\" width=\"60%\" height=\"60%\"></center>\n",
    "<center>Image 02. Mean-Variance Portfolio Efficient Frontier. [3]</center>\n",
    "\n",
    "With the advancement in Machine Learning, other methods came up, such as the *Hierarchical Risk Parity* (`HRP`) portfolio. It was introduced in a 2016 paper by Marcos López de Prado entitled \"Building Diversified Portfolios that Perform Well Out-Of-Sample\". It uses an unsupervised learning algorithm to ensure that only similar equities compete for the same portfolio spot. [[4]](https://developer.nvidia.com/blog/hierarchical-risk-parity-on-rapids-an-ml-approach-to-portfolio-allocation/) The algorithm of HRP is broken down into three major steps: *Hierarchical Tree Clustering*, *Matrix Seriation*, and *Recursive Bisection*. A detailed explanation of the algorithm is explained in the linked reference. [[5]](https://developer.nvidia.com/blog/hierarchical-risk-parity-on-rapids-an-ml-approach-to-portfolio-allocation/) What HRP does is that instead of capital allocation where risk is measured to adjust the individual securities, here in HRP risk is in the context of the whole portfolio. HRP wants to ensure a profit regardless of the market condition by diversifying its investment into many industries. More details about the HRP are found in the original paper. [[6]](https://papers.ssrn.com/sol3/papers.cfm?abstract_id=2708678)\n",
    "\n",
    "The performance of these two portfolios will be compared using the metrics called *Sharpe Ratio*. Proposed by economist William Sharpe, the Sharpe ratio compares the return on an investment and its risk. It assesses the risk and rewards of investment. The exact calculation is given in the image below.\n",
    "\n",
    "<center><img src=\"./Sharpe_Ratio.jpg\" width=\"60%\" height=\"60%\"></center>\n",
    "<center>Image 03. Sharpe Ratio Formula. [7]</center>\n",
    "\n",
    "The numerator is the extra return, the difference between the expected returns and a benchmark (usually the risk-free rate of return). The denominator is the standard deviation of that excess return. [[7]](https://www.investopedia.com/terms/s/sharperatio.asp) The interpretation of its value is how much extra returns you get from the extra risk you take. The higher the value of the Sharpe ratio, the better. A value of *greater than 1* means you are **earning more return than the risk you are taking**, a value of *exactly 1* means you are **earning 1 unit of return for each unit of risk**, and a value of *less than 1* means that you are **earning less return per unit of risk you are taking**."
   ]
  },
  {
   "cell_type": "markdown",
   "id": "2bf33065",
   "metadata": {},
   "source": [
    "<h1 style=\"background-color:#0531BC; color:#F5F5F1; padding: 20px;\">Data Source</h1>"
   ]
  },
  {
   "cell_type": "markdown",
   "id": "160ec722",
   "metadata": {},
   "source": [
    "***\n",
    "<h2 style=\"color:#007CFE\">Data Description</h2>\n",
    "\n",
    "***"
   ]
  },
  {
   "cell_type": "markdown",
   "id": "70f3d25d",
   "metadata": {},
   "source": [
    "Our data source is **Yahoo Finance** (https://finance.yahoo.com/) it delivers credible and reliable daily stock price stats, insights reports, and blog posts along with interviews with leading investment experts. We took the data of the **S&P 500 stocks** for its daily stock prices from *Jan 2018 to Dec 2019*.\n",
    "\n",
    "<br><center>Table 01. Data Features, Description and Type.</center>\n",
    "<table style=\"width:60%\">\n",
    "    <tr style=\"background-color:#007CFE; color:#F5F5F1\">\n",
    "      <th style=\"width:30%; text-align:center\">Variable Name</th>\n",
    "      <th style=\"width:55%; text-align:center\" >Data Description</th>\n",
    "      <th style=\"width:15%; text-align:center\">Data Type</th>\n",
    "    </tr>\n",
    "    <tr>\n",
    "        <td style=\"text-align:left\">Date</td>\n",
    "        <td style=\"text-align:left\">Date of stock price</td>\n",
    "        <td style=\"text-align:left\">Datetime</td>\n",
    "      </tr>\n",
    "   <tr>\n",
    "      <td style=\"text-align:left\">Stock Symbol (502 columns)</td>\n",
    "      <td style=\"text-align:left\">Closing stock price of different companies</td>\n",
    "      <td style=\"text-align:left\">Float</td>\n",
    "    </tr>\n",
    "  </table>"
   ]
  },
  {
   "cell_type": "markdown",
   "id": "b179e30d",
   "metadata": {},
   "source": [
    "***\n",
    "<h2 style=\"color:#007CFE\">Data and Project Limitation</h2>\n",
    "\n",
    "***"
   ]
  },
  {
   "cell_type": "markdown",
   "id": "cf1188f4",
   "metadata": {},
   "source": [
    "The data and project are only limited to equity assets of the `S&P500`, representing the *500 largest companies in the US stock exchange*. Therefore, all portfolio building and analysis will assume that portfolio managers can *only invest in these assets*.\n",
    "\n",
    "Please also note that the steps followed in this notebook are to replicate the paper of López de Prado that aims to build a diversified portfolio [[6]](https://papers.ssrn.com/sol3/papers.cfm?abstract_id=2708678). Hence, no hyperparameter tuning or more advanced exploration was done in our model, and we focused on interpreting the results to prove the theory."
   ]
  },
  {
   "cell_type": "markdown",
   "id": "9a77d949",
   "metadata": {},
   "source": [
    "<h1 style=\"background-color:#0531BC; color:#F5F5F1; padding: 20px;\">Methodology</h1>"
   ]
  },
  {
   "cell_type": "markdown",
   "id": "9e0b41f4",
   "metadata": {},
   "source": [
    "<center><img src=\"./ML2_FinalProject_Methodology.png\" width=\"90%\" height=\"90%\"></center>\n",
    "<center>Image 04. Project Methodology.</center>"
   ]
  },
  {
   "cell_type": "markdown",
   "id": "281ee979",
   "metadata": {},
   "source": [
    "**Data Collection and Preprocessing**\n",
    "\n",
    "We performed *web scraping* to retrieve the daily stock prices of the *S&P 500* at Yahoo Finance and saved it into a CSV file for further analysis and processing.\n",
    "<br><br>\n",
    "\n",
    "**Exploratory Data Analysis**\n",
    "\n",
    "We performed Exploratory Data Analysis (EDA) to understand the raw data if we need to perform further data processing/cleansing, and we've also provided simple and *relevant statistics* about the dataset.\n",
    "<br><br>\n",
    "\n",
    "**Train-Test Split**\n",
    "\n",
    "To prepare for our clustering, as we needed to perform backtesting, we needed to have the train-test split was also where we used the last `25%` of the dataset as our *test set*. We also needed to construct our MVP and HRP datasets from the stocks.\n",
    "<br><br>\n",
    "\n",
    "**Portfolio Building**\n",
    "\n",
    "For MVP, we use the package of `cvxopt` to build the portfolio using optimization. For HRP, we follow the paper.[[6]](https://papers.ssrn.com/sol3/papers.cfm?abstract_id=2708678) First, we need to perform Hierarchical clustering on the prepared dataset. Then,  re-label each value, sort each clustered stock based on distance, calculate the inverse variance portfolio, calculate the variance per cluster, and get the allocation % of each stock and the weights for all types of asset allocations before we can analyze the dataset.\n",
    "<br><br>\n",
    "\n",
    "**Portfolio Summary and Comparison**\n",
    "\n",
    "We performed backtesting with the results of the portfolio building. Then, using the train-test split and *In and Out of Sampling Results*, we plotted the line charts to visualize and easily compare the results between MVP and HRP.\n",
    "<br><br>\n",
    "\n",
    "**Data Preparation for Explainable AI**\n",
    "\n",
    "We need to perform another set of data preparation that would be needed for the `SHAP` analysis, more specifically predicting the `Sharpe ratio`. This involves calculating each stock's mean, standard deviation, drawdown, correlation, and rolling value.\n",
    "<br><br>\n",
    "\n",
    "**Explainable AI**\n",
    "\n",
    "The paper already provided the best model, which is the XGBRegressor. Next, we fit the prepared dataset to forecast the Sharpe ratio. We then use the `TreeExplainer` of `SHAP` to get the top features affecting the portfolio. Finally, we analyzed it using the visualizations of `SHAP` with its summary and dependence plots."
   ]
  },
  {
   "cell_type": "markdown",
   "id": "dd4ffa66",
   "metadata": {},
   "source": [
    "<h1 style=\"background-color:#0531BC; color:#F5F5F1; padding: 20px;\">Data Exploration</h1>"
   ]
  },
  {
   "cell_type": "markdown",
   "id": "969eb916",
   "metadata": {},
   "source": [
    "Install `cvxopt` package (if necessary). This will be used for mean-variance portfolio optimization."
   ]
  },
  {
   "cell_type": "code",
   "execution_count": 3,
   "id": "4e54ec91",
   "metadata": {
    "ExecuteTime": {
     "end_time": "2023-03-20T14:56:55.615137Z",
     "start_time": "2023-03-20T14:56:55.611477Z"
    }
   },
   "outputs": [],
   "source": [
    "# !pip install cvxopt"
   ]
  },
  {
   "cell_type": "code",
   "execution_count": 4,
   "id": "fd775dc2",
   "metadata": {
    "ExecuteTime": {
     "end_time": "2023-03-20T14:56:59.138540Z",
     "start_time": "2023-03-20T14:56:55.617751Z"
    }
   },
   "outputs": [
    {
     "name": "stderr",
     "output_type": "stream",
     "text": [
      "Matplotlib created a temporary config/cache directory at /tmp/matplotlib-dt5ixg0y because the default path (/home/fgarcia/.cache/matplotlib) is not a writable directory; it is highly recommended to set the MPLCONFIGDIR environment variable to a writable directory, in particular to speed up the import of Matplotlib and to better support multiprocessing.\n",
      "/opt/conda/lib/python3.9/site-packages/_distutils_hack/__init__.py:33: UserWarning: Setuptools is replacing distutils.\n",
      "  warnings.warn(\"Setuptools is replacing distutils.\")\n"
     ]
    }
   ],
   "source": [
    "# Basic libraries\n",
    "import numpy as np\n",
    "import pandas as pd\n",
    "import matplotlib.pyplot as plt\n",
    "from pandas import read_csv, set_option\n",
    "from pandas.plotting import scatter_matrix\n",
    "import seaborn as sns\n",
    "from datetime import date\n",
    "import pkg_resources\n",
    "import pip\n",
    "\n",
    "# Import Model Packages \n",
    "import scipy.cluster.hierarchy as sch\n",
    "from sklearn.cluster import AgglomerativeClustering\n",
    "from scipy.cluster.hierarchy import fcluster\n",
    "from scipy.cluster.hierarchy import dendrogram, linkage, cophenet\n",
    "from sklearn.metrics import adjusted_mutual_info_score\n",
    "from sklearn import cluster, covariance, manifold\n",
    "\n",
    "# Package for optimization of mean variance optimization\n",
    "import cvxopt as opt\n",
    "from cvxopt import blas, solvers\n",
    "\n",
    "# Machine Learning Package\n",
    "from sklearn.pipeline import Pipeline\n",
    "from sklearn.preprocessing import RobustScaler\n",
    "from xgboost import XGBRegressor\n",
    "import shap\n",
    "\n",
    "import warnings\n",
    "warnings.filterwarnings('ignore')"
   ]
  },
  {
   "cell_type": "code",
   "execution_count": 5,
   "id": "d332a1bb",
   "metadata": {
    "ExecuteTime": {
     "end_time": "2023-03-20T14:56:59.146570Z",
     "start_time": "2023-03-20T14:56:59.141851Z"
    }
   },
   "outputs": [],
   "source": [
    "# Figure caption\n",
    "fig_num = 1\n",
    "\n",
    "\n",
    "def fig_caption(title, caption):\n",
    "    \"\"\"Print figure caption on jupyter notebook\"\"\"\n",
    "    global fig_num\n",
    "    display(HTML(f\"\"\"<p style=\"font-size:11px;font-style:default;\">\n",
    "                     <center><b>\n",
    "                     Figure {fig_num}. {title}.</b>\n",
    "                     <br>{caption}</center></p>\"\"\"))\n",
    "    fig_num += 1"
   ]
  },
  {
   "cell_type": "markdown",
   "id": "0097f791",
   "metadata": {},
   "source": [
    "***\n",
    "<h2 style=\"color:#007CFE\">Data Collection and Preprocessing</h2>\n",
    "\n",
    "***"
   ]
  },
  {
   "cell_type": "markdown",
   "id": "44e4cee4",
   "metadata": {},
   "source": [
    "First, we load the dataset into a `pandas dataframe`."
   ]
  },
  {
   "cell_type": "code",
   "execution_count": 6,
   "id": "98e3404b",
   "metadata": {
    "ExecuteTime": {
     "end_time": "2023-03-20T14:56:59.232490Z",
     "start_time": "2023-03-20T14:56:59.148451Z"
    }
   },
   "outputs": [
    {
     "name": "stdout",
     "output_type": "stream",
     "text": [
      "Table 02. Raw Data Extracted from Yahoo Finance.\n"
     ]
    },
    {
     "data": {
      "text/html": [
       "<div>\n",
       "<style scoped>\n",
       "    .dataframe tbody tr th:only-of-type {\n",
       "        vertical-align: middle;\n",
       "    }\n",
       "\n",
       "    .dataframe tbody tr th {\n",
       "        vertical-align: top;\n",
       "    }\n",
       "\n",
       "    .dataframe thead th {\n",
       "        text-align: right;\n",
       "    }\n",
       "</style>\n",
       "<table border=\"1\" class=\"dataframe\">\n",
       "  <thead>\n",
       "    <tr style=\"text-align: right;\">\n",
       "      <th></th>\n",
       "      <th>ABT</th>\n",
       "      <th>ABBV</th>\n",
       "      <th>ABMD</th>\n",
       "      <th>ACN</th>\n",
       "      <th>ATVI</th>\n",
       "      <th>ADBE</th>\n",
       "      <th>AMD</th>\n",
       "      <th>AAP</th>\n",
       "      <th>AES</th>\n",
       "      <th>AMG</th>\n",
       "      <th>...</th>\n",
       "      <th>WLTW</th>\n",
       "      <th>WYNN</th>\n",
       "      <th>XEL</th>\n",
       "      <th>XRX</th>\n",
       "      <th>XLNX</th>\n",
       "      <th>XYL</th>\n",
       "      <th>YUM</th>\n",
       "      <th>ZBH</th>\n",
       "      <th>ZION</th>\n",
       "      <th>ZTS</th>\n",
       "    </tr>\n",
       "    <tr>\n",
       "      <th>Date</th>\n",
       "      <th></th>\n",
       "      <th></th>\n",
       "      <th></th>\n",
       "      <th></th>\n",
       "      <th></th>\n",
       "      <th></th>\n",
       "      <th></th>\n",
       "      <th></th>\n",
       "      <th></th>\n",
       "      <th></th>\n",
       "      <th></th>\n",
       "      <th></th>\n",
       "      <th></th>\n",
       "      <th></th>\n",
       "      <th></th>\n",
       "      <th></th>\n",
       "      <th></th>\n",
       "      <th></th>\n",
       "      <th></th>\n",
       "      <th></th>\n",
       "      <th></th>\n",
       "    </tr>\n",
       "  </thead>\n",
       "  <tbody>\n",
       "    <tr>\n",
       "      <th>2018-01-02</th>\n",
       "      <td>58.790001</td>\n",
       "      <td>98.410004</td>\n",
       "      <td>192.490005</td>\n",
       "      <td>153.839996</td>\n",
       "      <td>64.309998</td>\n",
       "      <td>177.699997</td>\n",
       "      <td>10.980000</td>\n",
       "      <td>106.089996</td>\n",
       "      <td>10.88</td>\n",
       "      <td>203.039993</td>\n",
       "      <td>...</td>\n",
       "      <td>146.990005</td>\n",
       "      <td>164.300003</td>\n",
       "      <td>47.810001</td>\n",
       "      <td>29.370001</td>\n",
       "      <td>67.879997</td>\n",
       "      <td>68.070000</td>\n",
       "      <td>81.599998</td>\n",
       "      <td>124.059998</td>\n",
       "      <td>50.700001</td>\n",
       "      <td>71.769997</td>\n",
       "    </tr>\n",
       "    <tr>\n",
       "      <th>2018-01-03</th>\n",
       "      <td>58.919998</td>\n",
       "      <td>99.949997</td>\n",
       "      <td>195.820007</td>\n",
       "      <td>154.550003</td>\n",
       "      <td>65.309998</td>\n",
       "      <td>181.039993</td>\n",
       "      <td>11.550000</td>\n",
       "      <td>107.050003</td>\n",
       "      <td>10.87</td>\n",
       "      <td>202.119995</td>\n",
       "      <td>...</td>\n",
       "      <td>149.740005</td>\n",
       "      <td>162.520004</td>\n",
       "      <td>47.490002</td>\n",
       "      <td>29.330000</td>\n",
       "      <td>69.239998</td>\n",
       "      <td>68.900002</td>\n",
       "      <td>81.529999</td>\n",
       "      <td>124.919998</td>\n",
       "      <td>50.639999</td>\n",
       "      <td>72.099998</td>\n",
       "    </tr>\n",
       "    <tr>\n",
       "      <th>2018-01-04</th>\n",
       "      <td>58.820000</td>\n",
       "      <td>99.379997</td>\n",
       "      <td>199.250000</td>\n",
       "      <td>156.380005</td>\n",
       "      <td>64.660004</td>\n",
       "      <td>183.220001</td>\n",
       "      <td>12.120000</td>\n",
       "      <td>111.000000</td>\n",
       "      <td>10.83</td>\n",
       "      <td>198.539993</td>\n",
       "      <td>...</td>\n",
       "      <td>151.259995</td>\n",
       "      <td>163.399994</td>\n",
       "      <td>47.119999</td>\n",
       "      <td>29.690001</td>\n",
       "      <td>70.489998</td>\n",
       "      <td>69.360001</td>\n",
       "      <td>82.360001</td>\n",
       "      <td>124.739998</td>\n",
       "      <td>50.849998</td>\n",
       "      <td>72.529999</td>\n",
       "    </tr>\n",
       "    <tr>\n",
       "      <th>2018-01-05</th>\n",
       "      <td>58.990002</td>\n",
       "      <td>101.110001</td>\n",
       "      <td>202.320007</td>\n",
       "      <td>157.669998</td>\n",
       "      <td>66.370003</td>\n",
       "      <td>185.339996</td>\n",
       "      <td>11.880000</td>\n",
       "      <td>112.180000</td>\n",
       "      <td>10.87</td>\n",
       "      <td>199.470001</td>\n",
       "      <td>...</td>\n",
       "      <td>152.229996</td>\n",
       "      <td>164.490005</td>\n",
       "      <td>46.790001</td>\n",
       "      <td>29.910000</td>\n",
       "      <td>74.150002</td>\n",
       "      <td>69.230003</td>\n",
       "      <td>82.839996</td>\n",
       "      <td>125.980003</td>\n",
       "      <td>50.869999</td>\n",
       "      <td>73.360001</td>\n",
       "    </tr>\n",
       "    <tr>\n",
       "      <th>2018-01-08</th>\n",
       "      <td>58.820000</td>\n",
       "      <td>99.489998</td>\n",
       "      <td>207.800003</td>\n",
       "      <td>158.929993</td>\n",
       "      <td>66.629997</td>\n",
       "      <td>185.039993</td>\n",
       "      <td>12.280000</td>\n",
       "      <td>111.389999</td>\n",
       "      <td>10.87</td>\n",
       "      <td>200.529999</td>\n",
       "      <td>...</td>\n",
       "      <td>151.410004</td>\n",
       "      <td>162.300003</td>\n",
       "      <td>47.139999</td>\n",
       "      <td>30.260000</td>\n",
       "      <td>74.639999</td>\n",
       "      <td>69.480003</td>\n",
       "      <td>82.980003</td>\n",
       "      <td>126.220001</td>\n",
       "      <td>50.619999</td>\n",
       "      <td>74.239998</td>\n",
       "    </tr>\n",
       "    <tr>\n",
       "      <th>...</th>\n",
       "      <td>...</td>\n",
       "      <td>...</td>\n",
       "      <td>...</td>\n",
       "      <td>...</td>\n",
       "      <td>...</td>\n",
       "      <td>...</td>\n",
       "      <td>...</td>\n",
       "      <td>...</td>\n",
       "      <td>...</td>\n",
       "      <td>...</td>\n",
       "      <td>...</td>\n",
       "      <td>...</td>\n",
       "      <td>...</td>\n",
       "      <td>...</td>\n",
       "      <td>...</td>\n",
       "      <td>...</td>\n",
       "      <td>...</td>\n",
       "      <td>...</td>\n",
       "      <td>...</td>\n",
       "      <td>...</td>\n",
       "      <td>...</td>\n",
       "    </tr>\n",
       "    <tr>\n",
       "      <th>2019-10-07</th>\n",
       "      <td>81.040001</td>\n",
       "      <td>74.330002</td>\n",
       "      <td>164.429993</td>\n",
       "      <td>186.809998</td>\n",
       "      <td>55.410000</td>\n",
       "      <td>276.899994</td>\n",
       "      <td>28.930000</td>\n",
       "      <td>158.270004</td>\n",
       "      <td>15.85</td>\n",
       "      <td>74.830002</td>\n",
       "      <td>...</td>\n",
       "      <td>187.589996</td>\n",
       "      <td>107.019997</td>\n",
       "      <td>64.279999</td>\n",
       "      <td>29.830000</td>\n",
       "      <td>92.629997</td>\n",
       "      <td>75.570000</td>\n",
       "      <td>113.690002</td>\n",
       "      <td>134.500000</td>\n",
       "      <td>43.439999</td>\n",
       "      <td>126.070000</td>\n",
       "    </tr>\n",
       "    <tr>\n",
       "      <th>2019-10-08</th>\n",
       "      <td>78.510002</td>\n",
       "      <td>73.529999</td>\n",
       "      <td>159.490005</td>\n",
       "      <td>182.199997</td>\n",
       "      <td>54.130001</td>\n",
       "      <td>270.829987</td>\n",
       "      <td>28.230000</td>\n",
       "      <td>154.330002</td>\n",
       "      <td>15.51</td>\n",
       "      <td>71.800003</td>\n",
       "      <td>...</td>\n",
       "      <td>184.360001</td>\n",
       "      <td>102.570000</td>\n",
       "      <td>63.590000</td>\n",
       "      <td>28.309999</td>\n",
       "      <td>89.269997</td>\n",
       "      <td>73.430000</td>\n",
       "      <td>112.589996</td>\n",
       "      <td>131.220001</td>\n",
       "      <td>42.209999</td>\n",
       "      <td>125.379997</td>\n",
       "    </tr>\n",
       "    <tr>\n",
       "      <th>2019-10-09</th>\n",
       "      <td>79.500000</td>\n",
       "      <td>73.300003</td>\n",
       "      <td>159.309998</td>\n",
       "      <td>184.339996</td>\n",
       "      <td>53.430000</td>\n",
       "      <td>274.269989</td>\n",
       "      <td>28.459999</td>\n",
       "      <td>154.410004</td>\n",
       "      <td>15.54</td>\n",
       "      <td>72.250000</td>\n",
       "      <td>...</td>\n",
       "      <td>186.199997</td>\n",
       "      <td>104.419998</td>\n",
       "      <td>63.919998</td>\n",
       "      <td>28.760000</td>\n",
       "      <td>90.480003</td>\n",
       "      <td>74.570000</td>\n",
       "      <td>113.330002</td>\n",
       "      <td>133.419998</td>\n",
       "      <td>42.419998</td>\n",
       "      <td>126.430000</td>\n",
       "    </tr>\n",
       "    <tr>\n",
       "      <th>2019-10-10</th>\n",
       "      <td>80.139999</td>\n",
       "      <td>74.449997</td>\n",
       "      <td>162.339996</td>\n",
       "      <td>183.830002</td>\n",
       "      <td>53.689999</td>\n",
       "      <td>274.980011</td>\n",
       "      <td>28.379999</td>\n",
       "      <td>155.949997</td>\n",
       "      <td>15.82</td>\n",
       "      <td>73.059998</td>\n",
       "      <td>...</td>\n",
       "      <td>187.690002</td>\n",
       "      <td>106.059998</td>\n",
       "      <td>63.950001</td>\n",
       "      <td>28.820000</td>\n",
       "      <td>92.809998</td>\n",
       "      <td>75.430000</td>\n",
       "      <td>114.330002</td>\n",
       "      <td>134.070007</td>\n",
       "      <td>43.209999</td>\n",
       "      <td>127.410004</td>\n",
       "    </tr>\n",
       "    <tr>\n",
       "      <th>2019-10-11</th>\n",
       "      <td>79.629997</td>\n",
       "      <td>73.629997</td>\n",
       "      <td>169.639999</td>\n",
       "      <td>184.970001</td>\n",
       "      <td>54.820000</td>\n",
       "      <td>278.290009</td>\n",
       "      <td>29.750000</td>\n",
       "      <td>158.559998</td>\n",
       "      <td>16.01</td>\n",
       "      <td>75.970001</td>\n",
       "      <td>...</td>\n",
       "      <td>188.100006</td>\n",
       "      <td>112.779999</td>\n",
       "      <td>63.330002</td>\n",
       "      <td>29.410000</td>\n",
       "      <td>96.220001</td>\n",
       "      <td>77.629997</td>\n",
       "      <td>114.449997</td>\n",
       "      <td>136.440002</td>\n",
       "      <td>44.090000</td>\n",
       "      <td>128.470001</td>\n",
       "    </tr>\n",
       "  </tbody>\n",
       "</table>\n",
       "<p>448 rows × 502 columns</p>\n",
       "</div>"
      ],
      "text/plain": [
       "                  ABT        ABBV        ABMD         ACN       ATVI  \\\n",
       "Date                                                                   \n",
       "2018-01-02  58.790001   98.410004  192.490005  153.839996  64.309998   \n",
       "2018-01-03  58.919998   99.949997  195.820007  154.550003  65.309998   \n",
       "2018-01-04  58.820000   99.379997  199.250000  156.380005  64.660004   \n",
       "2018-01-05  58.990002  101.110001  202.320007  157.669998  66.370003   \n",
       "2018-01-08  58.820000   99.489998  207.800003  158.929993  66.629997   \n",
       "...               ...         ...         ...         ...        ...   \n",
       "2019-10-07  81.040001   74.330002  164.429993  186.809998  55.410000   \n",
       "2019-10-08  78.510002   73.529999  159.490005  182.199997  54.130001   \n",
       "2019-10-09  79.500000   73.300003  159.309998  184.339996  53.430000   \n",
       "2019-10-10  80.139999   74.449997  162.339996  183.830002  53.689999   \n",
       "2019-10-11  79.629997   73.629997  169.639999  184.970001  54.820000   \n",
       "\n",
       "                  ADBE        AMD         AAP    AES         AMG  ...  \\\n",
       "Date                                                              ...   \n",
       "2018-01-02  177.699997  10.980000  106.089996  10.88  203.039993  ...   \n",
       "2018-01-03  181.039993  11.550000  107.050003  10.87  202.119995  ...   \n",
       "2018-01-04  183.220001  12.120000  111.000000  10.83  198.539993  ...   \n",
       "2018-01-05  185.339996  11.880000  112.180000  10.87  199.470001  ...   \n",
       "2018-01-08  185.039993  12.280000  111.389999  10.87  200.529999  ...   \n",
       "...                ...        ...         ...    ...         ...  ...   \n",
       "2019-10-07  276.899994  28.930000  158.270004  15.85   74.830002  ...   \n",
       "2019-10-08  270.829987  28.230000  154.330002  15.51   71.800003  ...   \n",
       "2019-10-09  274.269989  28.459999  154.410004  15.54   72.250000  ...   \n",
       "2019-10-10  274.980011  28.379999  155.949997  15.82   73.059998  ...   \n",
       "2019-10-11  278.290009  29.750000  158.559998  16.01   75.970001  ...   \n",
       "\n",
       "                  WLTW        WYNN        XEL        XRX       XLNX  \\\n",
       "Date                                                                  \n",
       "2018-01-02  146.990005  164.300003  47.810001  29.370001  67.879997   \n",
       "2018-01-03  149.740005  162.520004  47.490002  29.330000  69.239998   \n",
       "2018-01-04  151.259995  163.399994  47.119999  29.690001  70.489998   \n",
       "2018-01-05  152.229996  164.490005  46.790001  29.910000  74.150002   \n",
       "2018-01-08  151.410004  162.300003  47.139999  30.260000  74.639999   \n",
       "...                ...         ...        ...        ...        ...   \n",
       "2019-10-07  187.589996  107.019997  64.279999  29.830000  92.629997   \n",
       "2019-10-08  184.360001  102.570000  63.590000  28.309999  89.269997   \n",
       "2019-10-09  186.199997  104.419998  63.919998  28.760000  90.480003   \n",
       "2019-10-10  187.690002  106.059998  63.950001  28.820000  92.809998   \n",
       "2019-10-11  188.100006  112.779999  63.330002  29.410000  96.220001   \n",
       "\n",
       "                  XYL         YUM         ZBH       ZION         ZTS  \n",
       "Date                                                                  \n",
       "2018-01-02  68.070000   81.599998  124.059998  50.700001   71.769997  \n",
       "2018-01-03  68.900002   81.529999  124.919998  50.639999   72.099998  \n",
       "2018-01-04  69.360001   82.360001  124.739998  50.849998   72.529999  \n",
       "2018-01-05  69.230003   82.839996  125.980003  50.869999   73.360001  \n",
       "2018-01-08  69.480003   82.980003  126.220001  50.619999   74.239998  \n",
       "...               ...         ...         ...        ...         ...  \n",
       "2019-10-07  75.570000  113.690002  134.500000  43.439999  126.070000  \n",
       "2019-10-08  73.430000  112.589996  131.220001  42.209999  125.379997  \n",
       "2019-10-09  74.570000  113.330002  133.419998  42.419998  126.430000  \n",
       "2019-10-10  75.430000  114.330002  134.070007  43.209999  127.410004  \n",
       "2019-10-11  77.629997  114.449997  136.440002  44.090000  128.470001  \n",
       "\n",
       "[448 rows x 502 columns]"
      ]
     },
     "metadata": {},
     "output_type": "display_data"
    },
    {
     "name": "stdout",
     "output_type": "stream",
     "text": [
      "   The number of rows is: 448\n",
      "The number of columns is: 502\n"
     ]
    }
   ],
   "source": [
    "# load dataset\n",
    "dataset = pd.read_csv('SP500Data.csv', index_col=0)\n",
    "\n",
    "# Display dataframe and shape\n",
    "print(\"Table 02. Raw Data Extracted from Yahoo Finance.\")\n",
    "display(dataset)\n",
    "print(f\"   The number of rows is: {dataset.shape[0]}\")\n",
    "print(f\"The number of columns is: {dataset.shape[1]}\")"
   ]
  },
  {
   "cell_type": "markdown",
   "id": "eb7ff1e1",
   "metadata": {},
   "source": [
    "Show columns (equities) that have missing values."
   ]
  },
  {
   "cell_type": "code",
   "execution_count": 7,
   "id": "524b29e6",
   "metadata": {
    "ExecuteTime": {
     "end_time": "2023-03-20T14:56:59.242160Z",
     "start_time": "2023-03-20T14:56:59.234925Z"
    }
   },
   "outputs": [
    {
     "data": {
      "text/plain": [
       "CTVA    350\n",
       "DOW     304\n",
       "FOXA    298\n",
       "FOX     299\n",
       "dtype: int64"
      ]
     },
     "metadata": {},
     "output_type": "display_data"
    }
   ],
   "source": [
    "missing_col = dataset.isna().sum()\n",
    "display(missing_col[missing_col != 0])"
   ]
  },
  {
   "cell_type": "markdown",
   "id": "480a1bd0",
   "metadata": {},
   "source": [
    "We will **drop** columns that have missing values of more than `30%` of their total."
   ]
  },
  {
   "cell_type": "code",
   "execution_count": 8,
   "id": "2843a27b",
   "metadata": {
    "ExecuteTime": {
     "end_time": "2023-03-20T14:56:59.254119Z",
     "start_time": "2023-03-20T14:56:59.246305Z"
    }
   },
   "outputs": [],
   "source": [
    "missing_fractions = dataset.isnull().mean().sort_values(ascending=False)\n",
    "missing_fractions.head(10)\n",
    "drop_list = sorted(list(missing_fractions[missing_fractions > 0.3].index))\n",
    "dataset.drop(labels=drop_list, axis=1, inplace=True)"
   ]
  },
  {
   "cell_type": "markdown",
   "id": "1606f53f",
   "metadata": {},
   "source": [
    "Impute the remaining columns with null values using `forward fill`."
   ]
  },
  {
   "cell_type": "code",
   "execution_count": 9,
   "id": "708d7d5c",
   "metadata": {
    "ExecuteTime": {
     "end_time": "2023-03-20T14:56:59.281749Z",
     "start_time": "2023-03-20T14:56:59.256751Z"
    }
   },
   "outputs": [
    {
     "name": "stdout",
     "output_type": "stream",
     "text": [
      "Table 03. Cleaned Data of S&P500 Stock Prices.\n"
     ]
    },
    {
     "data": {
      "text/html": [
       "<div>\n",
       "<style scoped>\n",
       "    .dataframe tbody tr th:only-of-type {\n",
       "        vertical-align: middle;\n",
       "    }\n",
       "\n",
       "    .dataframe tbody tr th {\n",
       "        vertical-align: top;\n",
       "    }\n",
       "\n",
       "    .dataframe thead th {\n",
       "        text-align: right;\n",
       "    }\n",
       "</style>\n",
       "<table border=\"1\" class=\"dataframe\">\n",
       "  <thead>\n",
       "    <tr style=\"text-align: right;\">\n",
       "      <th></th>\n",
       "      <th>ABT</th>\n",
       "      <th>ABBV</th>\n",
       "      <th>ABMD</th>\n",
       "      <th>ACN</th>\n",
       "      <th>ATVI</th>\n",
       "      <th>ADBE</th>\n",
       "      <th>AMD</th>\n",
       "      <th>AAP</th>\n",
       "      <th>AES</th>\n",
       "      <th>AMG</th>\n",
       "      <th>...</th>\n",
       "      <th>WLTW</th>\n",
       "      <th>WYNN</th>\n",
       "      <th>XEL</th>\n",
       "      <th>XRX</th>\n",
       "      <th>XLNX</th>\n",
       "      <th>XYL</th>\n",
       "      <th>YUM</th>\n",
       "      <th>ZBH</th>\n",
       "      <th>ZION</th>\n",
       "      <th>ZTS</th>\n",
       "    </tr>\n",
       "    <tr>\n",
       "      <th>Date</th>\n",
       "      <th></th>\n",
       "      <th></th>\n",
       "      <th></th>\n",
       "      <th></th>\n",
       "      <th></th>\n",
       "      <th></th>\n",
       "      <th></th>\n",
       "      <th></th>\n",
       "      <th></th>\n",
       "      <th></th>\n",
       "      <th></th>\n",
       "      <th></th>\n",
       "      <th></th>\n",
       "      <th></th>\n",
       "      <th></th>\n",
       "      <th></th>\n",
       "      <th></th>\n",
       "      <th></th>\n",
       "      <th></th>\n",
       "      <th></th>\n",
       "      <th></th>\n",
       "    </tr>\n",
       "  </thead>\n",
       "  <tbody>\n",
       "    <tr>\n",
       "      <th>2018-01-02</th>\n",
       "      <td>58.790001</td>\n",
       "      <td>98.410004</td>\n",
       "      <td>192.490005</td>\n",
       "      <td>153.839996</td>\n",
       "      <td>64.309998</td>\n",
       "      <td>177.699997</td>\n",
       "      <td>10.980000</td>\n",
       "      <td>106.089996</td>\n",
       "      <td>10.88</td>\n",
       "      <td>203.039993</td>\n",
       "      <td>...</td>\n",
       "      <td>146.990005</td>\n",
       "      <td>164.300003</td>\n",
       "      <td>47.810001</td>\n",
       "      <td>29.370001</td>\n",
       "      <td>67.879997</td>\n",
       "      <td>68.070000</td>\n",
       "      <td>81.599998</td>\n",
       "      <td>124.059998</td>\n",
       "      <td>50.700001</td>\n",
       "      <td>71.769997</td>\n",
       "    </tr>\n",
       "    <tr>\n",
       "      <th>2018-01-03</th>\n",
       "      <td>58.919998</td>\n",
       "      <td>99.949997</td>\n",
       "      <td>195.820007</td>\n",
       "      <td>154.550003</td>\n",
       "      <td>65.309998</td>\n",
       "      <td>181.039993</td>\n",
       "      <td>11.550000</td>\n",
       "      <td>107.050003</td>\n",
       "      <td>10.87</td>\n",
       "      <td>202.119995</td>\n",
       "      <td>...</td>\n",
       "      <td>149.740005</td>\n",
       "      <td>162.520004</td>\n",
       "      <td>47.490002</td>\n",
       "      <td>29.330000</td>\n",
       "      <td>69.239998</td>\n",
       "      <td>68.900002</td>\n",
       "      <td>81.529999</td>\n",
       "      <td>124.919998</td>\n",
       "      <td>50.639999</td>\n",
       "      <td>72.099998</td>\n",
       "    </tr>\n",
       "    <tr>\n",
       "      <th>2018-01-04</th>\n",
       "      <td>58.820000</td>\n",
       "      <td>99.379997</td>\n",
       "      <td>199.250000</td>\n",
       "      <td>156.380005</td>\n",
       "      <td>64.660004</td>\n",
       "      <td>183.220001</td>\n",
       "      <td>12.120000</td>\n",
       "      <td>111.000000</td>\n",
       "      <td>10.83</td>\n",
       "      <td>198.539993</td>\n",
       "      <td>...</td>\n",
       "      <td>151.259995</td>\n",
       "      <td>163.399994</td>\n",
       "      <td>47.119999</td>\n",
       "      <td>29.690001</td>\n",
       "      <td>70.489998</td>\n",
       "      <td>69.360001</td>\n",
       "      <td>82.360001</td>\n",
       "      <td>124.739998</td>\n",
       "      <td>50.849998</td>\n",
       "      <td>72.529999</td>\n",
       "    </tr>\n",
       "    <tr>\n",
       "      <th>2018-01-05</th>\n",
       "      <td>58.990002</td>\n",
       "      <td>101.110001</td>\n",
       "      <td>202.320007</td>\n",
       "      <td>157.669998</td>\n",
       "      <td>66.370003</td>\n",
       "      <td>185.339996</td>\n",
       "      <td>11.880000</td>\n",
       "      <td>112.180000</td>\n",
       "      <td>10.87</td>\n",
       "      <td>199.470001</td>\n",
       "      <td>...</td>\n",
       "      <td>152.229996</td>\n",
       "      <td>164.490005</td>\n",
       "      <td>46.790001</td>\n",
       "      <td>29.910000</td>\n",
       "      <td>74.150002</td>\n",
       "      <td>69.230003</td>\n",
       "      <td>82.839996</td>\n",
       "      <td>125.980003</td>\n",
       "      <td>50.869999</td>\n",
       "      <td>73.360001</td>\n",
       "    </tr>\n",
       "    <tr>\n",
       "      <th>2018-01-08</th>\n",
       "      <td>58.820000</td>\n",
       "      <td>99.489998</td>\n",
       "      <td>207.800003</td>\n",
       "      <td>158.929993</td>\n",
       "      <td>66.629997</td>\n",
       "      <td>185.039993</td>\n",
       "      <td>12.280000</td>\n",
       "      <td>111.389999</td>\n",
       "      <td>10.87</td>\n",
       "      <td>200.529999</td>\n",
       "      <td>...</td>\n",
       "      <td>151.410004</td>\n",
       "      <td>162.300003</td>\n",
       "      <td>47.139999</td>\n",
       "      <td>30.260000</td>\n",
       "      <td>74.639999</td>\n",
       "      <td>69.480003</td>\n",
       "      <td>82.980003</td>\n",
       "      <td>126.220001</td>\n",
       "      <td>50.619999</td>\n",
       "      <td>74.239998</td>\n",
       "    </tr>\n",
       "    <tr>\n",
       "      <th>...</th>\n",
       "      <td>...</td>\n",
       "      <td>...</td>\n",
       "      <td>...</td>\n",
       "      <td>...</td>\n",
       "      <td>...</td>\n",
       "      <td>...</td>\n",
       "      <td>...</td>\n",
       "      <td>...</td>\n",
       "      <td>...</td>\n",
       "      <td>...</td>\n",
       "      <td>...</td>\n",
       "      <td>...</td>\n",
       "      <td>...</td>\n",
       "      <td>...</td>\n",
       "      <td>...</td>\n",
       "      <td>...</td>\n",
       "      <td>...</td>\n",
       "      <td>...</td>\n",
       "      <td>...</td>\n",
       "      <td>...</td>\n",
       "      <td>...</td>\n",
       "    </tr>\n",
       "    <tr>\n",
       "      <th>2019-10-07</th>\n",
       "      <td>81.040001</td>\n",
       "      <td>74.330002</td>\n",
       "      <td>164.429993</td>\n",
       "      <td>186.809998</td>\n",
       "      <td>55.410000</td>\n",
       "      <td>276.899994</td>\n",
       "      <td>28.930000</td>\n",
       "      <td>158.270004</td>\n",
       "      <td>15.85</td>\n",
       "      <td>74.830002</td>\n",
       "      <td>...</td>\n",
       "      <td>187.589996</td>\n",
       "      <td>107.019997</td>\n",
       "      <td>64.279999</td>\n",
       "      <td>29.830000</td>\n",
       "      <td>92.629997</td>\n",
       "      <td>75.570000</td>\n",
       "      <td>113.690002</td>\n",
       "      <td>134.500000</td>\n",
       "      <td>43.439999</td>\n",
       "      <td>126.070000</td>\n",
       "    </tr>\n",
       "    <tr>\n",
       "      <th>2019-10-08</th>\n",
       "      <td>78.510002</td>\n",
       "      <td>73.529999</td>\n",
       "      <td>159.490005</td>\n",
       "      <td>182.199997</td>\n",
       "      <td>54.130001</td>\n",
       "      <td>270.829987</td>\n",
       "      <td>28.230000</td>\n",
       "      <td>154.330002</td>\n",
       "      <td>15.51</td>\n",
       "      <td>71.800003</td>\n",
       "      <td>...</td>\n",
       "      <td>184.360001</td>\n",
       "      <td>102.570000</td>\n",
       "      <td>63.590000</td>\n",
       "      <td>28.309999</td>\n",
       "      <td>89.269997</td>\n",
       "      <td>73.430000</td>\n",
       "      <td>112.589996</td>\n",
       "      <td>131.220001</td>\n",
       "      <td>42.209999</td>\n",
       "      <td>125.379997</td>\n",
       "    </tr>\n",
       "    <tr>\n",
       "      <th>2019-10-09</th>\n",
       "      <td>79.500000</td>\n",
       "      <td>73.300003</td>\n",
       "      <td>159.309998</td>\n",
       "      <td>184.339996</td>\n",
       "      <td>53.430000</td>\n",
       "      <td>274.269989</td>\n",
       "      <td>28.459999</td>\n",
       "      <td>154.410004</td>\n",
       "      <td>15.54</td>\n",
       "      <td>72.250000</td>\n",
       "      <td>...</td>\n",
       "      <td>186.199997</td>\n",
       "      <td>104.419998</td>\n",
       "      <td>63.919998</td>\n",
       "      <td>28.760000</td>\n",
       "      <td>90.480003</td>\n",
       "      <td>74.570000</td>\n",
       "      <td>113.330002</td>\n",
       "      <td>133.419998</td>\n",
       "      <td>42.419998</td>\n",
       "      <td>126.430000</td>\n",
       "    </tr>\n",
       "    <tr>\n",
       "      <th>2019-10-10</th>\n",
       "      <td>80.139999</td>\n",
       "      <td>74.449997</td>\n",
       "      <td>162.339996</td>\n",
       "      <td>183.830002</td>\n",
       "      <td>53.689999</td>\n",
       "      <td>274.980011</td>\n",
       "      <td>28.379999</td>\n",
       "      <td>155.949997</td>\n",
       "      <td>15.82</td>\n",
       "      <td>73.059998</td>\n",
       "      <td>...</td>\n",
       "      <td>187.690002</td>\n",
       "      <td>106.059998</td>\n",
       "      <td>63.950001</td>\n",
       "      <td>28.820000</td>\n",
       "      <td>92.809998</td>\n",
       "      <td>75.430000</td>\n",
       "      <td>114.330002</td>\n",
       "      <td>134.070007</td>\n",
       "      <td>43.209999</td>\n",
       "      <td>127.410004</td>\n",
       "    </tr>\n",
       "    <tr>\n",
       "      <th>2019-10-11</th>\n",
       "      <td>79.629997</td>\n",
       "      <td>73.629997</td>\n",
       "      <td>169.639999</td>\n",
       "      <td>184.970001</td>\n",
       "      <td>54.820000</td>\n",
       "      <td>278.290009</td>\n",
       "      <td>29.750000</td>\n",
       "      <td>158.559998</td>\n",
       "      <td>16.01</td>\n",
       "      <td>75.970001</td>\n",
       "      <td>...</td>\n",
       "      <td>188.100006</td>\n",
       "      <td>112.779999</td>\n",
       "      <td>63.330002</td>\n",
       "      <td>29.410000</td>\n",
       "      <td>96.220001</td>\n",
       "      <td>77.629997</td>\n",
       "      <td>114.449997</td>\n",
       "      <td>136.440002</td>\n",
       "      <td>44.090000</td>\n",
       "      <td>128.470001</td>\n",
       "    </tr>\n",
       "  </tbody>\n",
       "</table>\n",
       "<p>448 rows × 498 columns</p>\n",
       "</div>"
      ],
      "text/plain": [
       "                  ABT        ABBV        ABMD         ACN       ATVI  \\\n",
       "Date                                                                   \n",
       "2018-01-02  58.790001   98.410004  192.490005  153.839996  64.309998   \n",
       "2018-01-03  58.919998   99.949997  195.820007  154.550003  65.309998   \n",
       "2018-01-04  58.820000   99.379997  199.250000  156.380005  64.660004   \n",
       "2018-01-05  58.990002  101.110001  202.320007  157.669998  66.370003   \n",
       "2018-01-08  58.820000   99.489998  207.800003  158.929993  66.629997   \n",
       "...               ...         ...         ...         ...        ...   \n",
       "2019-10-07  81.040001   74.330002  164.429993  186.809998  55.410000   \n",
       "2019-10-08  78.510002   73.529999  159.490005  182.199997  54.130001   \n",
       "2019-10-09  79.500000   73.300003  159.309998  184.339996  53.430000   \n",
       "2019-10-10  80.139999   74.449997  162.339996  183.830002  53.689999   \n",
       "2019-10-11  79.629997   73.629997  169.639999  184.970001  54.820000   \n",
       "\n",
       "                  ADBE        AMD         AAP    AES         AMG  ...  \\\n",
       "Date                                                              ...   \n",
       "2018-01-02  177.699997  10.980000  106.089996  10.88  203.039993  ...   \n",
       "2018-01-03  181.039993  11.550000  107.050003  10.87  202.119995  ...   \n",
       "2018-01-04  183.220001  12.120000  111.000000  10.83  198.539993  ...   \n",
       "2018-01-05  185.339996  11.880000  112.180000  10.87  199.470001  ...   \n",
       "2018-01-08  185.039993  12.280000  111.389999  10.87  200.529999  ...   \n",
       "...                ...        ...         ...    ...         ...  ...   \n",
       "2019-10-07  276.899994  28.930000  158.270004  15.85   74.830002  ...   \n",
       "2019-10-08  270.829987  28.230000  154.330002  15.51   71.800003  ...   \n",
       "2019-10-09  274.269989  28.459999  154.410004  15.54   72.250000  ...   \n",
       "2019-10-10  274.980011  28.379999  155.949997  15.82   73.059998  ...   \n",
       "2019-10-11  278.290009  29.750000  158.559998  16.01   75.970001  ...   \n",
       "\n",
       "                  WLTW        WYNN        XEL        XRX       XLNX  \\\n",
       "Date                                                                  \n",
       "2018-01-02  146.990005  164.300003  47.810001  29.370001  67.879997   \n",
       "2018-01-03  149.740005  162.520004  47.490002  29.330000  69.239998   \n",
       "2018-01-04  151.259995  163.399994  47.119999  29.690001  70.489998   \n",
       "2018-01-05  152.229996  164.490005  46.790001  29.910000  74.150002   \n",
       "2018-01-08  151.410004  162.300003  47.139999  30.260000  74.639999   \n",
       "...                ...         ...        ...        ...        ...   \n",
       "2019-10-07  187.589996  107.019997  64.279999  29.830000  92.629997   \n",
       "2019-10-08  184.360001  102.570000  63.590000  28.309999  89.269997   \n",
       "2019-10-09  186.199997  104.419998  63.919998  28.760000  90.480003   \n",
       "2019-10-10  187.690002  106.059998  63.950001  28.820000  92.809998   \n",
       "2019-10-11  188.100006  112.779999  63.330002  29.410000  96.220001   \n",
       "\n",
       "                  XYL         YUM         ZBH       ZION         ZTS  \n",
       "Date                                                                  \n",
       "2018-01-02  68.070000   81.599998  124.059998  50.700001   71.769997  \n",
       "2018-01-03  68.900002   81.529999  124.919998  50.639999   72.099998  \n",
       "2018-01-04  69.360001   82.360001  124.739998  50.849998   72.529999  \n",
       "2018-01-05  69.230003   82.839996  125.980003  50.869999   73.360001  \n",
       "2018-01-08  69.480003   82.980003  126.220001  50.619999   74.239998  \n",
       "...               ...         ...         ...        ...         ...  \n",
       "2019-10-07  75.570000  113.690002  134.500000  43.439999  126.070000  \n",
       "2019-10-08  73.430000  112.589996  131.220001  42.209999  125.379997  \n",
       "2019-10-09  74.570000  113.330002  133.419998  42.419998  126.430000  \n",
       "2019-10-10  75.430000  114.330002  134.070007  43.209999  127.410004  \n",
       "2019-10-11  77.629997  114.449997  136.440002  44.090000  128.470001  \n",
       "\n",
       "[448 rows x 498 columns]"
      ]
     },
     "metadata": {},
     "output_type": "display_data"
    },
    {
     "name": "stdout",
     "output_type": "stream",
     "text": [
      "   The number of rows is: 448\n",
      "The number of columns is: 498\n"
     ]
    }
   ],
   "source": [
    "# Fill the missing values with the last value available in the dataset.\n",
    "dataset = dataset.fillna(method='ffill')\n",
    "\n",
    "# Display dataframe and shape\n",
    "print(\"Table 03. Cleaned Data of S&P500 Stock Prices.\")\n",
    "display(dataset)\n",
    "print(f\"   The number of rows is: {dataset.shape[0]}\")\n",
    "print(f\"The number of columns is: {dataset.shape[1]}\")"
   ]
  },
  {
   "cell_type": "markdown",
   "id": "19f1e6cb",
   "metadata": {},
   "source": [
    "***\n",
    "<h2 style=\"color:#007CFE\">Exploratory Data Analysis</h2>\n",
    "\n",
    "***"
   ]
  },
  {
   "cell_type": "markdown",
   "id": "8338d5e3",
   "metadata": {},
   "source": [
    "We will check the top and bottom stocks from this cleaned dataset."
   ]
  },
  {
   "cell_type": "code",
   "execution_count": 10,
   "id": "a64167ee",
   "metadata": {
    "ExecuteTime": {
     "end_time": "2023-03-20T14:56:59.333673Z",
     "start_time": "2023-03-20T14:56:59.284050Z"
    }
   },
   "outputs": [
    {
     "name": "stdout",
     "output_type": "stream",
     "text": [
      "Table 04. Stock Returns (%) of the Dataset.\n"
     ]
    },
    {
     "data": {
      "text/html": [
       "<div>\n",
       "<style scoped>\n",
       "    .dataframe tbody tr th:only-of-type {\n",
       "        vertical-align: middle;\n",
       "    }\n",
       "\n",
       "    .dataframe tbody tr th {\n",
       "        vertical-align: top;\n",
       "    }\n",
       "\n",
       "    .dataframe thead th {\n",
       "        text-align: right;\n",
       "    }\n",
       "</style>\n",
       "<table border=\"1\" class=\"dataframe\">\n",
       "  <thead>\n",
       "    <tr style=\"text-align: right;\">\n",
       "      <th></th>\n",
       "      <th>ABT</th>\n",
       "      <th>ABBV</th>\n",
       "      <th>ABMD</th>\n",
       "      <th>ACN</th>\n",
       "      <th>ATVI</th>\n",
       "      <th>ADBE</th>\n",
       "      <th>AMD</th>\n",
       "      <th>AAP</th>\n",
       "      <th>AES</th>\n",
       "      <th>AMG</th>\n",
       "      <th>...</th>\n",
       "      <th>WLTW</th>\n",
       "      <th>WYNN</th>\n",
       "      <th>XEL</th>\n",
       "      <th>XRX</th>\n",
       "      <th>XLNX</th>\n",
       "      <th>XYL</th>\n",
       "      <th>YUM</th>\n",
       "      <th>ZBH</th>\n",
       "      <th>ZION</th>\n",
       "      <th>ZTS</th>\n",
       "    </tr>\n",
       "    <tr>\n",
       "      <th>Date</th>\n",
       "      <th></th>\n",
       "      <th></th>\n",
       "      <th></th>\n",
       "      <th></th>\n",
       "      <th></th>\n",
       "      <th></th>\n",
       "      <th></th>\n",
       "      <th></th>\n",
       "      <th></th>\n",
       "      <th></th>\n",
       "      <th></th>\n",
       "      <th></th>\n",
       "      <th></th>\n",
       "      <th></th>\n",
       "      <th></th>\n",
       "      <th></th>\n",
       "      <th></th>\n",
       "      <th></th>\n",
       "      <th></th>\n",
       "      <th></th>\n",
       "      <th></th>\n",
       "    </tr>\n",
       "  </thead>\n",
       "  <tbody>\n",
       "    <tr>\n",
       "      <th>2018-01-03</th>\n",
       "      <td>0.221121</td>\n",
       "      <td>1.564875</td>\n",
       "      <td>1.729961</td>\n",
       "      <td>0.461523</td>\n",
       "      <td>1.554968</td>\n",
       "      <td>1.879570</td>\n",
       "      <td>5.191263</td>\n",
       "      <td>0.904898</td>\n",
       "      <td>-0.091914</td>\n",
       "      <td>-0.453112</td>\n",
       "      <td>...</td>\n",
       "      <td>1.870875</td>\n",
       "      <td>-1.083383</td>\n",
       "      <td>-0.669315</td>\n",
       "      <td>-0.136197</td>\n",
       "      <td>2.003537</td>\n",
       "      <td>1.219336</td>\n",
       "      <td>-0.085784</td>\n",
       "      <td>0.693213</td>\n",
       "      <td>-0.118346</td>\n",
       "      <td>0.459805</td>\n",
       "    </tr>\n",
       "    <tr>\n",
       "      <th>2018-01-04</th>\n",
       "      <td>-0.169719</td>\n",
       "      <td>-0.570285</td>\n",
       "      <td>1.751605</td>\n",
       "      <td>1.184084</td>\n",
       "      <td>-0.995244</td>\n",
       "      <td>1.204158</td>\n",
       "      <td>4.935062</td>\n",
       "      <td>3.689862</td>\n",
       "      <td>-0.367985</td>\n",
       "      <td>-1.771226</td>\n",
       "      <td>...</td>\n",
       "      <td>1.015085</td>\n",
       "      <td>0.541465</td>\n",
       "      <td>-0.779117</td>\n",
       "      <td>1.227414</td>\n",
       "      <td>1.805315</td>\n",
       "      <td>0.667633</td>\n",
       "      <td>1.018032</td>\n",
       "      <td>-0.144092</td>\n",
       "      <td>0.414690</td>\n",
       "      <td>0.596394</td>\n",
       "    </tr>\n",
       "    <tr>\n",
       "      <th>2018-01-05</th>\n",
       "      <td>0.289021</td>\n",
       "      <td>1.740796</td>\n",
       "      <td>1.540782</td>\n",
       "      <td>0.824909</td>\n",
       "      <td>2.644601</td>\n",
       "      <td>1.157076</td>\n",
       "      <td>-1.980196</td>\n",
       "      <td>1.063063</td>\n",
       "      <td>0.369344</td>\n",
       "      <td>0.468423</td>\n",
       "      <td>...</td>\n",
       "      <td>0.641281</td>\n",
       "      <td>0.667082</td>\n",
       "      <td>-0.700335</td>\n",
       "      <td>0.740988</td>\n",
       "      <td>5.192231</td>\n",
       "      <td>-0.187424</td>\n",
       "      <td>0.582802</td>\n",
       "      <td>0.994072</td>\n",
       "      <td>0.039332</td>\n",
       "      <td>1.144357</td>\n",
       "    </tr>\n",
       "    <tr>\n",
       "      <th>2018-01-08</th>\n",
       "      <td>-0.288188</td>\n",
       "      <td>-1.602218</td>\n",
       "      <td>2.708578</td>\n",
       "      <td>0.799134</td>\n",
       "      <td>0.391735</td>\n",
       "      <td>-0.161866</td>\n",
       "      <td>3.367000</td>\n",
       "      <td>-0.704226</td>\n",
       "      <td>0.000000</td>\n",
       "      <td>0.531407</td>\n",
       "      <td>...</td>\n",
       "      <td>-0.538653</td>\n",
       "      <td>-1.331389</td>\n",
       "      <td>0.748020</td>\n",
       "      <td>1.170178</td>\n",
       "      <td>0.660820</td>\n",
       "      <td>0.361115</td>\n",
       "      <td>0.169009</td>\n",
       "      <td>0.190505</td>\n",
       "      <td>-0.491449</td>\n",
       "      <td>1.199560</td>\n",
       "    </tr>\n",
       "    <tr>\n",
       "      <th>2018-01-09</th>\n",
       "      <td>0.170008</td>\n",
       "      <td>0.753845</td>\n",
       "      <td>0.943211</td>\n",
       "      <td>0.333489</td>\n",
       "      <td>-0.660355</td>\n",
       "      <td>0.897105</td>\n",
       "      <td>-3.745929</td>\n",
       "      <td>-0.807973</td>\n",
       "      <td>-1.011956</td>\n",
       "      <td>-0.129654</td>\n",
       "      <td>...</td>\n",
       "      <td>0.277391</td>\n",
       "      <td>0.677752</td>\n",
       "      <td>-1.166736</td>\n",
       "      <td>-0.231327</td>\n",
       "      <td>0.267949</td>\n",
       "      <td>0.028780</td>\n",
       "      <td>-0.265126</td>\n",
       "      <td>-1.608302</td>\n",
       "      <td>2.350854</td>\n",
       "      <td>1.171879</td>\n",
       "    </tr>\n",
       "    <tr>\n",
       "      <th>...</th>\n",
       "      <td>...</td>\n",
       "      <td>...</td>\n",
       "      <td>...</td>\n",
       "      <td>...</td>\n",
       "      <td>...</td>\n",
       "      <td>...</td>\n",
       "      <td>...</td>\n",
       "      <td>...</td>\n",
       "      <td>...</td>\n",
       "      <td>...</td>\n",
       "      <td>...</td>\n",
       "      <td>...</td>\n",
       "      <td>...</td>\n",
       "      <td>...</td>\n",
       "      <td>...</td>\n",
       "      <td>...</td>\n",
       "      <td>...</td>\n",
       "      <td>...</td>\n",
       "      <td>...</td>\n",
       "      <td>...</td>\n",
       "      <td>...</td>\n",
       "    </tr>\n",
       "    <tr>\n",
       "      <th>2019-10-07</th>\n",
       "      <td>-1.158674</td>\n",
       "      <td>-0.442006</td>\n",
       "      <td>-2.847863</td>\n",
       "      <td>-1.492302</td>\n",
       "      <td>-0.054110</td>\n",
       "      <td>-0.021663</td>\n",
       "      <td>-0.275767</td>\n",
       "      <td>-1.044140</td>\n",
       "      <td>-1.122896</td>\n",
       "      <td>-2.144631</td>\n",
       "      <td>...</td>\n",
       "      <td>-0.561886</td>\n",
       "      <td>-1.735384</td>\n",
       "      <td>-0.541542</td>\n",
       "      <td>0.811084</td>\n",
       "      <td>-1.708405</td>\n",
       "      <td>-0.526526</td>\n",
       "      <td>-0.845980</td>\n",
       "      <td>0.037191</td>\n",
       "      <td>0.555551</td>\n",
       "      <td>-0.771352</td>\n",
       "    </tr>\n",
       "    <tr>\n",
       "      <th>2019-10-08</th>\n",
       "      <td>-3.121914</td>\n",
       "      <td>-1.076286</td>\n",
       "      <td>-3.004310</td>\n",
       "      <td>-2.467748</td>\n",
       "      <td>-2.310050</td>\n",
       "      <td>-2.192130</td>\n",
       "      <td>-2.419636</td>\n",
       "      <td>-2.489418</td>\n",
       "      <td>-2.145111</td>\n",
       "      <td>-4.049176</td>\n",
       "      <td>...</td>\n",
       "      <td>-1.721838</td>\n",
       "      <td>-4.158099</td>\n",
       "      <td>-1.073427</td>\n",
       "      <td>-5.095543</td>\n",
       "      <td>-3.627335</td>\n",
       "      <td>-2.831811</td>\n",
       "      <td>-0.967549</td>\n",
       "      <td>-2.438661</td>\n",
       "      <td>-2.831491</td>\n",
       "      <td>-0.547317</td>\n",
       "    </tr>\n",
       "    <tr>\n",
       "      <th>2019-10-09</th>\n",
       "      <td>1.260983</td>\n",
       "      <td>-0.312792</td>\n",
       "      <td>-0.112865</td>\n",
       "      <td>1.174533</td>\n",
       "      <td>-1.293184</td>\n",
       "      <td>1.270170</td>\n",
       "      <td>0.814734</td>\n",
       "      <td>0.051838</td>\n",
       "      <td>0.193422</td>\n",
       "      <td>0.626737</td>\n",
       "      <td>...</td>\n",
       "      <td>0.998045</td>\n",
       "      <td>1.803645</td>\n",
       "      <td>0.518946</td>\n",
       "      <td>1.589547</td>\n",
       "      <td>1.355446</td>\n",
       "      <td>1.552498</td>\n",
       "      <td>0.657257</td>\n",
       "      <td>1.676571</td>\n",
       "      <td>0.497510</td>\n",
       "      <td>0.837457</td>\n",
       "    </tr>\n",
       "    <tr>\n",
       "      <th>2019-10-10</th>\n",
       "      <td>0.805031</td>\n",
       "      <td>1.568887</td>\n",
       "      <td>1.901951</td>\n",
       "      <td>-0.276660</td>\n",
       "      <td>0.486615</td>\n",
       "      <td>0.258877</td>\n",
       "      <td>-0.281096</td>\n",
       "      <td>0.997340</td>\n",
       "      <td>1.801800</td>\n",
       "      <td>1.121104</td>\n",
       "      <td>...</td>\n",
       "      <td>0.800218</td>\n",
       "      <td>1.570580</td>\n",
       "      <td>0.046938</td>\n",
       "      <td>0.208621</td>\n",
       "      <td>2.575148</td>\n",
       "      <td>1.153280</td>\n",
       "      <td>0.882379</td>\n",
       "      <td>0.487190</td>\n",
       "      <td>1.862331</td>\n",
       "      <td>0.775135</td>\n",
       "    </tr>\n",
       "    <tr>\n",
       "      <th>2019-10-11</th>\n",
       "      <td>-0.636389</td>\n",
       "      <td>-1.101410</td>\n",
       "      <td>4.496737</td>\n",
       "      <td>0.620138</td>\n",
       "      <td>2.104677</td>\n",
       "      <td>1.203723</td>\n",
       "      <td>4.827346</td>\n",
       "      <td>1.673614</td>\n",
       "      <td>1.201015</td>\n",
       "      <td>3.983033</td>\n",
       "      <td>...</td>\n",
       "      <td>0.218447</td>\n",
       "      <td>6.336038</td>\n",
       "      <td>-0.969506</td>\n",
       "      <td>2.047190</td>\n",
       "      <td>3.674177</td>\n",
       "      <td>2.916607</td>\n",
       "      <td>0.104955</td>\n",
       "      <td>1.767730</td>\n",
       "      <td>2.036568</td>\n",
       "      <td>0.831958</td>\n",
       "    </tr>\n",
       "  </tbody>\n",
       "</table>\n",
       "<p>447 rows × 498 columns</p>\n",
       "</div>"
      ],
      "text/plain": [
       "                 ABT      ABBV      ABMD       ACN      ATVI      ADBE  \\\n",
       "Date                                                                     \n",
       "2018-01-03  0.221121  1.564875  1.729961  0.461523  1.554968  1.879570   \n",
       "2018-01-04 -0.169719 -0.570285  1.751605  1.184084 -0.995244  1.204158   \n",
       "2018-01-05  0.289021  1.740796  1.540782  0.824909  2.644601  1.157076   \n",
       "2018-01-08 -0.288188 -1.602218  2.708578  0.799134  0.391735 -0.161866   \n",
       "2018-01-09  0.170008  0.753845  0.943211  0.333489 -0.660355  0.897105   \n",
       "...              ...       ...       ...       ...       ...       ...   \n",
       "2019-10-07 -1.158674 -0.442006 -2.847863 -1.492302 -0.054110 -0.021663   \n",
       "2019-10-08 -3.121914 -1.076286 -3.004310 -2.467748 -2.310050 -2.192130   \n",
       "2019-10-09  1.260983 -0.312792 -0.112865  1.174533 -1.293184  1.270170   \n",
       "2019-10-10  0.805031  1.568887  1.901951 -0.276660  0.486615  0.258877   \n",
       "2019-10-11 -0.636389 -1.101410  4.496737  0.620138  2.104677  1.203723   \n",
       "\n",
       "                 AMD       AAP       AES       AMG  ...      WLTW      WYNN  \\\n",
       "Date                                                ...                       \n",
       "2018-01-03  5.191263  0.904898 -0.091914 -0.453112  ...  1.870875 -1.083383   \n",
       "2018-01-04  4.935062  3.689862 -0.367985 -1.771226  ...  1.015085  0.541465   \n",
       "2018-01-05 -1.980196  1.063063  0.369344  0.468423  ...  0.641281  0.667082   \n",
       "2018-01-08  3.367000 -0.704226  0.000000  0.531407  ... -0.538653 -1.331389   \n",
       "2018-01-09 -3.745929 -0.807973 -1.011956 -0.129654  ...  0.277391  0.677752   \n",
       "...              ...       ...       ...       ...  ...       ...       ...   \n",
       "2019-10-07 -0.275767 -1.044140 -1.122896 -2.144631  ... -0.561886 -1.735384   \n",
       "2019-10-08 -2.419636 -2.489418 -2.145111 -4.049176  ... -1.721838 -4.158099   \n",
       "2019-10-09  0.814734  0.051838  0.193422  0.626737  ...  0.998045  1.803645   \n",
       "2019-10-10 -0.281096  0.997340  1.801800  1.121104  ...  0.800218  1.570580   \n",
       "2019-10-11  4.827346  1.673614  1.201015  3.983033  ...  0.218447  6.336038   \n",
       "\n",
       "                 XEL       XRX      XLNX       XYL       YUM       ZBH  \\\n",
       "Date                                                                     \n",
       "2018-01-03 -0.669315 -0.136197  2.003537  1.219336 -0.085784  0.693213   \n",
       "2018-01-04 -0.779117  1.227414  1.805315  0.667633  1.018032 -0.144092   \n",
       "2018-01-05 -0.700335  0.740988  5.192231 -0.187424  0.582802  0.994072   \n",
       "2018-01-08  0.748020  1.170178  0.660820  0.361115  0.169009  0.190505   \n",
       "2018-01-09 -1.166736 -0.231327  0.267949  0.028780 -0.265126 -1.608302   \n",
       "...              ...       ...       ...       ...       ...       ...   \n",
       "2019-10-07 -0.541542  0.811084 -1.708405 -0.526526 -0.845980  0.037191   \n",
       "2019-10-08 -1.073427 -5.095543 -3.627335 -2.831811 -0.967549 -2.438661   \n",
       "2019-10-09  0.518946  1.589547  1.355446  1.552498  0.657257  1.676571   \n",
       "2019-10-10  0.046938  0.208621  2.575148  1.153280  0.882379  0.487190   \n",
       "2019-10-11 -0.969506  2.047190  3.674177  2.916607  0.104955  1.767730   \n",
       "\n",
       "                ZION       ZTS  \n",
       "Date                            \n",
       "2018-01-03 -0.118346  0.459805  \n",
       "2018-01-04  0.414690  0.596394  \n",
       "2018-01-05  0.039332  1.144357  \n",
       "2018-01-08 -0.491449  1.199560  \n",
       "2018-01-09  2.350854  1.171879  \n",
       "...              ...       ...  \n",
       "2019-10-07  0.555551 -0.771352  \n",
       "2019-10-08 -2.831491 -0.547317  \n",
       "2019-10-09  0.497510  0.837457  \n",
       "2019-10-10  1.862331  0.775135  \n",
       "2019-10-11  2.036568  0.831958  \n",
       "\n",
       "[447 rows x 498 columns]"
      ]
     },
     "metadata": {},
     "output_type": "display_data"
    },
    {
     "name": "stdout",
     "output_type": "stream",
     "text": [
      "   The number of rows is: 447\n",
      "The number of columns is: 498\n"
     ]
    }
   ],
   "source": [
    "df_returns = ((dataset - dataset.shift(+1)) / dataset.shift(+1)) * 100\n",
    "df_returns = df_returns[1:]\n",
    "print(\"Table 04. Stock Returns (%) of the Dataset.\")\n",
    "display(df_returns)\n",
    "print(f\"   The number of rows is: {df_returns.shape[0]}\")\n",
    "print(f\"The number of columns is: {df_returns.shape[1]}\")"
   ]
  },
  {
   "cell_type": "code",
   "execution_count": 11,
   "id": "4964e479",
   "metadata": {
    "ExecuteTime": {
     "end_time": "2023-03-20T14:56:59.344873Z",
     "start_time": "2023-03-20T14:56:59.336988Z"
    }
   },
   "outputs": [],
   "source": [
    "df_top = df_returns.mean(axis=0).to_frame().sort_values(by=0, ascending=False)\n",
    "df_top.columns = ['Returns %']\n",
    "df_top10 = df_top.head(10)"
   ]
  },
  {
   "cell_type": "code",
   "execution_count": 12,
   "id": "c0bd79c3",
   "metadata": {
    "ExecuteTime": {
     "end_time": "2023-03-20T14:56:59.490418Z",
     "start_time": "2023-03-20T14:56:59.349284Z"
    }
   },
   "outputs": [
    {
     "data": {
      "text/html": [
       "<img src=\"Top10_Daily_Returns.png\" alt=\"plots\" style=\"display:block;margin-left:auto;margin-right:auto;width:60%;\">"
      ],
      "text/plain": [
       "<IPython.core.display.HTML object>"
      ]
     },
     "metadata": {},
     "output_type": "display_data"
    },
    {
     "data": {
      "text/html": [
       "<p style=\"font-size:11px;font-style:default;\">\n",
       "                     <center><b>\n",
       "                     Figure 1. Top 10 Stocks Average Daily Return %.</b>\n",
       "                     <br></center></p>"
      ],
      "text/plain": [
       "<IPython.core.display.HTML object>"
      ]
     },
     "metadata": {},
     "output_type": "display_data"
    }
   ],
   "source": [
    "plt.figure(figsize=(10, 6))\n",
    "sns.barplot(x=df_top10['Returns %'], y=df_top10.index,\n",
    "            orient='h', color='#0531BC')\n",
    "plt.title('Top 10 Stocks Average Daily Return %', fontsize=15)\n",
    "plt.xlabel('Returns %')\n",
    "plt.ylabel('Stocks')\n",
    "\n",
    "# Save the plot as a PNG file\n",
    "plt.savefig(\"Top10_Daily_Returns.png\")\n",
    "\n",
    "# Create an HTML img tag to display the image\n",
    "img_tag = (f'<img src=\"Top10_Daily_Returns.png\" alt=\"plots\" style=\"display:'\n",
    "           f'block;margin-left:auto;margin-right:auto;width:60%;\">')\n",
    "\n",
    "# Display the img tag in the Jupyter Notebook\n",
    "display(HTML(img_tag))\n",
    "plt.close()\n",
    "fig_caption('Top 10 Stocks Average Daily Return %', '')"
   ]
  },
  {
   "cell_type": "markdown",
   "id": "1be1967e",
   "metadata": {},
   "source": [
    "These **top 10 stocks**, in terms of *average daily return %*, are the **ideal stocks** to look into for the long term. This top includes the following stocks: Advanced Micro Devices, Inc. (`AMD`), Chipotle Mexican Grill, Inc. (`CMG`), and Keysight Technologies Inc. (`KEYS`). However, one must take into consideration the volatility of these returns."
   ]
  },
  {
   "cell_type": "code",
   "execution_count": 13,
   "id": "eb438c02",
   "metadata": {
    "ExecuteTime": {
     "end_time": "2023-03-20T14:56:59.744186Z",
     "start_time": "2023-03-20T14:56:59.492734Z"
    },
    "scrolled": false
   },
   "outputs": [
    {
     "data": {
      "text/html": [
       "<img src=\"Bottom10_Daily_Returns.png\" alt=\"plots\" style=\"display:block;margin-left:auto;margin-right:auto;width:60%;\">"
      ],
      "text/plain": [
       "<IPython.core.display.HTML object>"
      ]
     },
     "metadata": {},
     "output_type": "display_data"
    },
    {
     "data": {
      "text/html": [
       "<p style=\"font-size:11px;font-style:default;\">\n",
       "                     <center><b>\n",
       "                     Figure 2. Bottom 10 Stocks Average Daily Return %.</b>\n",
       "                     <br></center></p>"
      ],
      "text/plain": [
       "<IPython.core.display.HTML object>"
      ]
     },
     "metadata": {},
     "output_type": "display_data"
    }
   ],
   "source": [
    "df_bot10 = df_top.tail(10)\n",
    "plt.figure(figsize=(10, 6))\n",
    "sns.barplot(x=df_bot10['Returns %'], y=df_bot10.index,\n",
    "            orient='h', color='#0531BC')\n",
    "plt.title('Bottom 10 Stocks Average Daily Return %', fontsize=15)\n",
    "plt.xlabel('Returns %')\n",
    "plt.ylabel('Stocks')\n",
    "\n",
    "# Save the plot as a PNG file\n",
    "plt.savefig(\"Bottom10_Daily_Returns.png\")\n",
    "\n",
    "# Create an HTML img tag to display the image\n",
    "img_tag = (f'<img src=\"Bottom10_Daily_Returns.png\" alt=\"plots\" style=\"display'\n",
    "           f':block;margin-left:auto;margin-right:auto;width:60%;\">')\n",
    "\n",
    "# Display the img tag in the Jupyter Notebook\n",
    "display(HTML(img_tag))\n",
    "plt.close()\n",
    "fig_caption('Bottom 10 Stocks Average Daily Return %', '')"
   ]
  },
  {
   "cell_type": "markdown",
   "id": "8664f920",
   "metadata": {},
   "source": [
    "These **bottom 10 stocks**, in terms of *average daily return %*, are the **NOT ideal stocks** to look into for the long term. This top includes the following stocks: Core Lithium Ltd. (`CXO`), Schlumberger NV (`SLB`), and Invesco Ltd. (`IVZ`). Again, volatility plays a key role in asset selection."
   ]
  },
  {
   "cell_type": "markdown",
   "id": "48f29aa3",
   "metadata": {},
   "source": [
    "<h1 style=\"background-color:#0531BC; color:#F5F5F1; padding: 20px;\">Results and Discussion</h1>"
   ]
  },
  {
   "cell_type": "markdown",
   "id": "9c71a934",
   "metadata": {},
   "source": [
    "***\n",
    "<h2 style=\"color:#007CFE\">Train - Test Split</h2>\n",
    "\n",
    "***"
   ]
  },
  {
   "cell_type": "markdown",
   "id": "f10a4c88",
   "metadata": {},
   "source": [
    "For the purpose of clustering, we will be using annual returns. Additionally, we will train the data, followed by testing. Let us prepare the dataset for training and testing by separating 20% of the dataset for testing, followed by generating the return series."
   ]
  },
  {
   "cell_type": "code",
   "execution_count": 14,
   "id": "7862ed79",
   "metadata": {
    "ExecuteTime": {
     "end_time": "2023-03-20T14:56:59.789039Z",
     "start_time": "2023-03-20T14:56:59.746638Z"
    }
   },
   "outputs": [
    {
     "name": "stdout",
     "output_type": "stream",
     "text": [
      "Table 05. X train set.\n"
     ]
    },
    {
     "data": {
      "text/html": [
       "<div>\n",
       "<style scoped>\n",
       "    .dataframe tbody tr th:only-of-type {\n",
       "        vertical-align: middle;\n",
       "    }\n",
       "\n",
       "    .dataframe tbody tr th {\n",
       "        vertical-align: top;\n",
       "    }\n",
       "\n",
       "    .dataframe thead th {\n",
       "        text-align: right;\n",
       "    }\n",
       "</style>\n",
       "<table border=\"1\" class=\"dataframe\">\n",
       "  <thead>\n",
       "    <tr style=\"text-align: right;\">\n",
       "      <th></th>\n",
       "      <th>ABT</th>\n",
       "      <th>ABBV</th>\n",
       "      <th>ABMD</th>\n",
       "      <th>ACN</th>\n",
       "      <th>ATVI</th>\n",
       "      <th>ADBE</th>\n",
       "      <th>AMD</th>\n",
       "      <th>AAP</th>\n",
       "      <th>AES</th>\n",
       "      <th>AMG</th>\n",
       "      <th>...</th>\n",
       "      <th>WLTW</th>\n",
       "      <th>WYNN</th>\n",
       "      <th>XEL</th>\n",
       "      <th>XRX</th>\n",
       "      <th>XLNX</th>\n",
       "      <th>XYL</th>\n",
       "      <th>YUM</th>\n",
       "      <th>ZBH</th>\n",
       "      <th>ZION</th>\n",
       "      <th>ZTS</th>\n",
       "    </tr>\n",
       "    <tr>\n",
       "      <th>Date</th>\n",
       "      <th></th>\n",
       "      <th></th>\n",
       "      <th></th>\n",
       "      <th></th>\n",
       "      <th></th>\n",
       "      <th></th>\n",
       "      <th></th>\n",
       "      <th></th>\n",
       "      <th></th>\n",
       "      <th></th>\n",
       "      <th></th>\n",
       "      <th></th>\n",
       "      <th></th>\n",
       "      <th></th>\n",
       "      <th></th>\n",
       "      <th></th>\n",
       "      <th></th>\n",
       "      <th></th>\n",
       "      <th></th>\n",
       "      <th></th>\n",
       "      <th></th>\n",
       "    </tr>\n",
       "  </thead>\n",
       "  <tbody>\n",
       "    <tr>\n",
       "      <th>2018-01-03</th>\n",
       "      <td>0.002211</td>\n",
       "      <td>0.015649</td>\n",
       "      <td>0.017300</td>\n",
       "      <td>0.004615</td>\n",
       "      <td>0.015550</td>\n",
       "      <td>0.018796</td>\n",
       "      <td>0.051913</td>\n",
       "      <td>0.009049</td>\n",
       "      <td>-0.000919</td>\n",
       "      <td>-0.004531</td>\n",
       "      <td>...</td>\n",
       "      <td>0.018709</td>\n",
       "      <td>-0.010834</td>\n",
       "      <td>-0.006693</td>\n",
       "      <td>-0.001362</td>\n",
       "      <td>0.020035</td>\n",
       "      <td>0.012193</td>\n",
       "      <td>-0.000858</td>\n",
       "      <td>0.006932</td>\n",
       "      <td>-0.001183</td>\n",
       "      <td>0.004598</td>\n",
       "    </tr>\n",
       "    <tr>\n",
       "      <th>2018-01-04</th>\n",
       "      <td>-0.001697</td>\n",
       "      <td>-0.005703</td>\n",
       "      <td>0.017516</td>\n",
       "      <td>0.011841</td>\n",
       "      <td>-0.009952</td>\n",
       "      <td>0.012042</td>\n",
       "      <td>0.049351</td>\n",
       "      <td>0.036899</td>\n",
       "      <td>-0.003680</td>\n",
       "      <td>-0.017712</td>\n",
       "      <td>...</td>\n",
       "      <td>0.010151</td>\n",
       "      <td>0.005415</td>\n",
       "      <td>-0.007791</td>\n",
       "      <td>0.012274</td>\n",
       "      <td>0.018053</td>\n",
       "      <td>0.006676</td>\n",
       "      <td>0.010180</td>\n",
       "      <td>-0.001441</td>\n",
       "      <td>0.004147</td>\n",
       "      <td>0.005964</td>\n",
       "    </tr>\n",
       "    <tr>\n",
       "      <th>2018-01-05</th>\n",
       "      <td>0.002890</td>\n",
       "      <td>0.017408</td>\n",
       "      <td>0.015408</td>\n",
       "      <td>0.008249</td>\n",
       "      <td>0.026446</td>\n",
       "      <td>0.011571</td>\n",
       "      <td>-0.019802</td>\n",
       "      <td>0.010631</td>\n",
       "      <td>0.003693</td>\n",
       "      <td>0.004684</td>\n",
       "      <td>...</td>\n",
       "      <td>0.006413</td>\n",
       "      <td>0.006671</td>\n",
       "      <td>-0.007003</td>\n",
       "      <td>0.007410</td>\n",
       "      <td>0.051922</td>\n",
       "      <td>-0.001874</td>\n",
       "      <td>0.005828</td>\n",
       "      <td>0.009941</td>\n",
       "      <td>0.000393</td>\n",
       "      <td>0.011444</td>\n",
       "    </tr>\n",
       "    <tr>\n",
       "      <th>2018-01-08</th>\n",
       "      <td>-0.002882</td>\n",
       "      <td>-0.016022</td>\n",
       "      <td>0.027086</td>\n",
       "      <td>0.007991</td>\n",
       "      <td>0.003917</td>\n",
       "      <td>-0.001619</td>\n",
       "      <td>0.033670</td>\n",
       "      <td>-0.007042</td>\n",
       "      <td>0.000000</td>\n",
       "      <td>0.005314</td>\n",
       "      <td>...</td>\n",
       "      <td>-0.005387</td>\n",
       "      <td>-0.013314</td>\n",
       "      <td>0.007480</td>\n",
       "      <td>0.011702</td>\n",
       "      <td>0.006608</td>\n",
       "      <td>0.003611</td>\n",
       "      <td>0.001690</td>\n",
       "      <td>0.001905</td>\n",
       "      <td>-0.004914</td>\n",
       "      <td>0.011996</td>\n",
       "    </tr>\n",
       "    <tr>\n",
       "      <th>2018-01-09</th>\n",
       "      <td>0.001700</td>\n",
       "      <td>0.007538</td>\n",
       "      <td>0.009432</td>\n",
       "      <td>0.003335</td>\n",
       "      <td>-0.006604</td>\n",
       "      <td>0.008971</td>\n",
       "      <td>-0.037459</td>\n",
       "      <td>-0.008080</td>\n",
       "      <td>-0.010120</td>\n",
       "      <td>-0.001297</td>\n",
       "      <td>...</td>\n",
       "      <td>0.002774</td>\n",
       "      <td>0.006778</td>\n",
       "      <td>-0.011667</td>\n",
       "      <td>-0.002313</td>\n",
       "      <td>0.002679</td>\n",
       "      <td>0.000288</td>\n",
       "      <td>-0.002651</td>\n",
       "      <td>-0.016083</td>\n",
       "      <td>0.023509</td>\n",
       "      <td>0.011719</td>\n",
       "    </tr>\n",
       "    <tr>\n",
       "      <th>...</th>\n",
       "      <td>...</td>\n",
       "      <td>...</td>\n",
       "      <td>...</td>\n",
       "      <td>...</td>\n",
       "      <td>...</td>\n",
       "      <td>...</td>\n",
       "      <td>...</td>\n",
       "      <td>...</td>\n",
       "      <td>...</td>\n",
       "      <td>...</td>\n",
       "      <td>...</td>\n",
       "      <td>...</td>\n",
       "      <td>...</td>\n",
       "      <td>...</td>\n",
       "      <td>...</td>\n",
       "      <td>...</td>\n",
       "      <td>...</td>\n",
       "      <td>...</td>\n",
       "      <td>...</td>\n",
       "      <td>...</td>\n",
       "      <td>...</td>\n",
       "    </tr>\n",
       "    <tr>\n",
       "      <th>2019-05-30</th>\n",
       "      <td>0.011233</td>\n",
       "      <td>-0.005765</td>\n",
       "      <td>0.023121</td>\n",
       "      <td>0.006813</td>\n",
       "      <td>-0.009775</td>\n",
       "      <td>0.004133</td>\n",
       "      <td>-0.002136</td>\n",
       "      <td>0.023174</td>\n",
       "      <td>-0.010585</td>\n",
       "      <td>-0.013300</td>\n",
       "      <td>...</td>\n",
       "      <td>0.011384</td>\n",
       "      <td>-0.025876</td>\n",
       "      <td>0.002797</td>\n",
       "      <td>0.000317</td>\n",
       "      <td>0.017366</td>\n",
       "      <td>0.002163</td>\n",
       "      <td>0.019067</td>\n",
       "      <td>0.005970</td>\n",
       "      <td>-0.014571</td>\n",
       "      <td>0.011666</td>\n",
       "    </tr>\n",
       "    <tr>\n",
       "      <th>2019-05-31</th>\n",
       "      <td>-0.005097</td>\n",
       "      <td>-0.011596</td>\n",
       "      <td>-0.016780</td>\n",
       "      <td>-0.004194</td>\n",
       "      <td>-0.004362</td>\n",
       "      <td>-0.013151</td>\n",
       "      <td>-0.022119</td>\n",
       "      <td>-0.027543</td>\n",
       "      <td>-0.005664</td>\n",
       "      <td>-0.026028</td>\n",
       "      <td>...</td>\n",
       "      <td>-0.012325</td>\n",
       "      <td>-0.036794</td>\n",
       "      <td>-0.000349</td>\n",
       "      <td>-0.030101</td>\n",
       "      <td>-0.029777</td>\n",
       "      <td>0.001214</td>\n",
       "      <td>0.007878</td>\n",
       "      <td>0.009213</td>\n",
       "      <td>-0.020246</td>\n",
       "      <td>-0.012509</td>\n",
       "    </tr>\n",
       "    <tr>\n",
       "      <th>2019-06-03</th>\n",
       "      <td>-0.005517</td>\n",
       "      <td>-0.013166</td>\n",
       "      <td>-0.001871</td>\n",
       "      <td>-0.016342</td>\n",
       "      <td>-0.022827</td>\n",
       "      <td>-0.043817</td>\n",
       "      <td>0.006202</td>\n",
       "      <td>-0.011806</td>\n",
       "      <td>0.008228</td>\n",
       "      <td>0.007039</td>\n",
       "      <td>...</td>\n",
       "      <td>0.014587</td>\n",
       "      <td>-0.035032</td>\n",
       "      <td>0.010638</td>\n",
       "      <td>0.012088</td>\n",
       "      <td>-0.000098</td>\n",
       "      <td>0.020210</td>\n",
       "      <td>0.017196</td>\n",
       "      <td>0.003248</td>\n",
       "      <td>0.005805</td>\n",
       "      <td>0.028699</td>\n",
       "    </tr>\n",
       "    <tr>\n",
       "      <th>2019-06-04</th>\n",
       "      <td>0.023115</td>\n",
       "      <td>0.013871</td>\n",
       "      <td>0.021535</td>\n",
       "      <td>0.016042</td>\n",
       "      <td>0.029023</td>\n",
       "      <td>0.037370</td>\n",
       "      <td>0.072154</td>\n",
       "      <td>0.009401</td>\n",
       "      <td>0.009416</td>\n",
       "      <td>0.035422</td>\n",
       "      <td>...</td>\n",
       "      <td>0.006515</td>\n",
       "      <td>0.089794</td>\n",
       "      <td>-0.002934</td>\n",
       "      <td>0.074887</td>\n",
       "      <td>0.044966</td>\n",
       "      <td>0.022187</td>\n",
       "      <td>0.027471</td>\n",
       "      <td>0.027209</td>\n",
       "      <td>0.024931</td>\n",
       "      <td>0.040115</td>\n",
       "    </tr>\n",
       "    <tr>\n",
       "      <th>2019-06-05</th>\n",
       "      <td>0.015879</td>\n",
       "      <td>0.004039</td>\n",
       "      <td>0.006515</td>\n",
       "      <td>0.008934</td>\n",
       "      <td>0.020867</td>\n",
       "      <td>0.015444</td>\n",
       "      <td>-0.002367</td>\n",
       "      <td>0.000000</td>\n",
       "      <td>0.025498</td>\n",
       "      <td>0.007551</td>\n",
       "      <td>...</td>\n",
       "      <td>0.020254</td>\n",
       "      <td>-0.021352</td>\n",
       "      <td>0.026653</td>\n",
       "      <td>0.003604</td>\n",
       "      <td>-0.012161</td>\n",
       "      <td>0.019121</td>\n",
       "      <td>0.002991</td>\n",
       "      <td>0.009624</td>\n",
       "      <td>-0.004955</td>\n",
       "      <td>0.003515</td>\n",
       "    </tr>\n",
       "  </tbody>\n",
       "</table>\n",
       "<p>357 rows × 498 columns</p>\n",
       "</div>"
      ],
      "text/plain": [
       "                 ABT      ABBV      ABMD       ACN      ATVI      ADBE  \\\n",
       "Date                                                                     \n",
       "2018-01-03  0.002211  0.015649  0.017300  0.004615  0.015550  0.018796   \n",
       "2018-01-04 -0.001697 -0.005703  0.017516  0.011841 -0.009952  0.012042   \n",
       "2018-01-05  0.002890  0.017408  0.015408  0.008249  0.026446  0.011571   \n",
       "2018-01-08 -0.002882 -0.016022  0.027086  0.007991  0.003917 -0.001619   \n",
       "2018-01-09  0.001700  0.007538  0.009432  0.003335 -0.006604  0.008971   \n",
       "...              ...       ...       ...       ...       ...       ...   \n",
       "2019-05-30  0.011233 -0.005765  0.023121  0.006813 -0.009775  0.004133   \n",
       "2019-05-31 -0.005097 -0.011596 -0.016780 -0.004194 -0.004362 -0.013151   \n",
       "2019-06-03 -0.005517 -0.013166 -0.001871 -0.016342 -0.022827 -0.043817   \n",
       "2019-06-04  0.023115  0.013871  0.021535  0.016042  0.029023  0.037370   \n",
       "2019-06-05  0.015879  0.004039  0.006515  0.008934  0.020867  0.015444   \n",
       "\n",
       "                 AMD       AAP       AES       AMG  ...      WLTW      WYNN  \\\n",
       "Date                                                ...                       \n",
       "2018-01-03  0.051913  0.009049 -0.000919 -0.004531  ...  0.018709 -0.010834   \n",
       "2018-01-04  0.049351  0.036899 -0.003680 -0.017712  ...  0.010151  0.005415   \n",
       "2018-01-05 -0.019802  0.010631  0.003693  0.004684  ...  0.006413  0.006671   \n",
       "2018-01-08  0.033670 -0.007042  0.000000  0.005314  ... -0.005387 -0.013314   \n",
       "2018-01-09 -0.037459 -0.008080 -0.010120 -0.001297  ...  0.002774  0.006778   \n",
       "...              ...       ...       ...       ...  ...       ...       ...   \n",
       "2019-05-30 -0.002136  0.023174 -0.010585 -0.013300  ...  0.011384 -0.025876   \n",
       "2019-05-31 -0.022119 -0.027543 -0.005664 -0.026028  ... -0.012325 -0.036794   \n",
       "2019-06-03  0.006202 -0.011806  0.008228  0.007039  ...  0.014587 -0.035032   \n",
       "2019-06-04  0.072154  0.009401  0.009416  0.035422  ...  0.006515  0.089794   \n",
       "2019-06-05 -0.002367  0.000000  0.025498  0.007551  ...  0.020254 -0.021352   \n",
       "\n",
       "                 XEL       XRX      XLNX       XYL       YUM       ZBH  \\\n",
       "Date                                                                     \n",
       "2018-01-03 -0.006693 -0.001362  0.020035  0.012193 -0.000858  0.006932   \n",
       "2018-01-04 -0.007791  0.012274  0.018053  0.006676  0.010180 -0.001441   \n",
       "2018-01-05 -0.007003  0.007410  0.051922 -0.001874  0.005828  0.009941   \n",
       "2018-01-08  0.007480  0.011702  0.006608  0.003611  0.001690  0.001905   \n",
       "2018-01-09 -0.011667 -0.002313  0.002679  0.000288 -0.002651 -0.016083   \n",
       "...              ...       ...       ...       ...       ...       ...   \n",
       "2019-05-30  0.002797  0.000317  0.017366  0.002163  0.019067  0.005970   \n",
       "2019-05-31 -0.000349 -0.030101 -0.029777  0.001214  0.007878  0.009213   \n",
       "2019-06-03  0.010638  0.012088 -0.000098  0.020210  0.017196  0.003248   \n",
       "2019-06-04 -0.002934  0.074887  0.044966  0.022187  0.027471  0.027209   \n",
       "2019-06-05  0.026653  0.003604 -0.012161  0.019121  0.002991  0.009624   \n",
       "\n",
       "                ZION       ZTS  \n",
       "Date                            \n",
       "2018-01-03 -0.001183  0.004598  \n",
       "2018-01-04  0.004147  0.005964  \n",
       "2018-01-05  0.000393  0.011444  \n",
       "2018-01-08 -0.004914  0.011996  \n",
       "2018-01-09  0.023509  0.011719  \n",
       "...              ...       ...  \n",
       "2019-05-30 -0.014571  0.011666  \n",
       "2019-05-31 -0.020246 -0.012509  \n",
       "2019-06-03  0.005805  0.028699  \n",
       "2019-06-04  0.024931  0.040115  \n",
       "2019-06-05 -0.004955  0.003515  \n",
       "\n",
       "[357 rows x 498 columns]"
      ]
     },
     "metadata": {},
     "output_type": "display_data"
    },
    {
     "name": "stdout",
     "output_type": "stream",
     "text": [
      "   X train set number of rows is: 357\n",
      "X train set number of columns is: 498\n"
     ]
    }
   ],
   "source": [
    "# Split dataset\n",
    "X = dataset.copy('deep')\n",
    "row = len(X)\n",
    "train_len = int(row*.8)\n",
    "X_train = X.head(train_len)\n",
    "X_test = X.tail(row-train_len)\n",
    "\n",
    "# Calculate percentage return\n",
    "returns = X_train.pct_change().dropna()\n",
    "returns_test = X_test.pct_change().dropna()\n",
    "\n",
    "# Display dataframe and shape\n",
    "print(\"Table 05. X train set.\")\n",
    "display(returns)\n",
    "print(f\"   X train set number of rows is: {returns.shape[0]}\")\n",
    "print(f\"X train set number of columns is: {returns.shape[1]}\")"
   ]
  },
  {
   "cell_type": "code",
   "execution_count": 15,
   "id": "7d666788",
   "metadata": {
    "ExecuteTime": {
     "end_time": "2023-03-20T14:56:59.819714Z",
     "start_time": "2023-03-20T14:56:59.791501Z"
    }
   },
   "outputs": [
    {
     "name": "stdout",
     "output_type": "stream",
     "text": [
      "Table 06. X test set.\n"
     ]
    },
    {
     "data": {
      "text/html": [
       "<div>\n",
       "<style scoped>\n",
       "    .dataframe tbody tr th:only-of-type {\n",
       "        vertical-align: middle;\n",
       "    }\n",
       "\n",
       "    .dataframe tbody tr th {\n",
       "        vertical-align: top;\n",
       "    }\n",
       "\n",
       "    .dataframe thead th {\n",
       "        text-align: right;\n",
       "    }\n",
       "</style>\n",
       "<table border=\"1\" class=\"dataframe\">\n",
       "  <thead>\n",
       "    <tr style=\"text-align: right;\">\n",
       "      <th></th>\n",
       "      <th>ABT</th>\n",
       "      <th>ABBV</th>\n",
       "      <th>ABMD</th>\n",
       "      <th>ACN</th>\n",
       "      <th>ATVI</th>\n",
       "      <th>ADBE</th>\n",
       "      <th>AMD</th>\n",
       "      <th>AAP</th>\n",
       "      <th>AES</th>\n",
       "      <th>AMG</th>\n",
       "      <th>...</th>\n",
       "      <th>WLTW</th>\n",
       "      <th>WYNN</th>\n",
       "      <th>XEL</th>\n",
       "      <th>XRX</th>\n",
       "      <th>XLNX</th>\n",
       "      <th>XYL</th>\n",
       "      <th>YUM</th>\n",
       "      <th>ZBH</th>\n",
       "      <th>ZION</th>\n",
       "      <th>ZTS</th>\n",
       "    </tr>\n",
       "    <tr>\n",
       "      <th>Date</th>\n",
       "      <th></th>\n",
       "      <th></th>\n",
       "      <th></th>\n",
       "      <th></th>\n",
       "      <th></th>\n",
       "      <th></th>\n",
       "      <th></th>\n",
       "      <th></th>\n",
       "      <th></th>\n",
       "      <th></th>\n",
       "      <th></th>\n",
       "      <th></th>\n",
       "      <th></th>\n",
       "      <th></th>\n",
       "      <th></th>\n",
       "      <th></th>\n",
       "      <th></th>\n",
       "      <th></th>\n",
       "      <th></th>\n",
       "      <th></th>\n",
       "      <th></th>\n",
       "    </tr>\n",
       "  </thead>\n",
       "  <tbody>\n",
       "    <tr>\n",
       "      <th>2019-06-07</th>\n",
       "      <td>0.008116</td>\n",
       "      <td>0.004671</td>\n",
       "      <td>-0.004904</td>\n",
       "      <td>0.013969</td>\n",
       "      <td>0.029492</td>\n",
       "      <td>0.012227</td>\n",
       "      <td>0.018542</td>\n",
       "      <td>0.002905</td>\n",
       "      <td>-0.015330</td>\n",
       "      <td>0.003033</td>\n",
       "      <td>...</td>\n",
       "      <td>0.018586</td>\n",
       "      <td>0.009456</td>\n",
       "      <td>-0.006187</td>\n",
       "      <td>0.003820</td>\n",
       "      <td>0.013961</td>\n",
       "      <td>0.005180</td>\n",
       "      <td>0.005995</td>\n",
       "      <td>0.003491</td>\n",
       "      <td>-0.013562</td>\n",
       "      <td>0.010745</td>\n",
       "    </tr>\n",
       "    <tr>\n",
       "      <th>2019-06-10</th>\n",
       "      <td>0.006564</td>\n",
       "      <td>-0.006199</td>\n",
       "      <td>0.017023</td>\n",
       "      <td>0.008310</td>\n",
       "      <td>0.013883</td>\n",
       "      <td>0.007837</td>\n",
       "      <td>0.025301</td>\n",
       "      <td>-0.011780</td>\n",
       "      <td>-0.016168</td>\n",
       "      <td>0.010081</td>\n",
       "      <td>...</td>\n",
       "      <td>0.007652</td>\n",
       "      <td>0.050892</td>\n",
       "      <td>-0.002861</td>\n",
       "      <td>0.015515</td>\n",
       "      <td>0.031538</td>\n",
       "      <td>0.010307</td>\n",
       "      <td>-0.003851</td>\n",
       "      <td>0.008117</td>\n",
       "      <td>0.004583</td>\n",
       "      <td>0.001454</td>\n",
       "    </tr>\n",
       "    <tr>\n",
       "      <th>2019-06-11</th>\n",
       "      <td>-0.001846</td>\n",
       "      <td>0.015854</td>\n",
       "      <td>-0.038175</td>\n",
       "      <td>-0.005801</td>\n",
       "      <td>0.014997</td>\n",
       "      <td>-0.015517</td>\n",
       "      <td>-0.024676</td>\n",
       "      <td>-0.008794</td>\n",
       "      <td>-0.003043</td>\n",
       "      <td>-0.001885</td>\n",
       "      <td>...</td>\n",
       "      <td>0.000000</td>\n",
       "      <td>0.012685</td>\n",
       "      <td>-0.009619</td>\n",
       "      <td>0.009513</td>\n",
       "      <td>0.007125</td>\n",
       "      <td>-0.004728</td>\n",
       "      <td>-0.009940</td>\n",
       "      <td>-0.010106</td>\n",
       "      <td>0.013230</td>\n",
       "      <td>-0.000544</td>\n",
       "    </tr>\n",
       "    <tr>\n",
       "      <th>2019-06-12</th>\n",
       "      <td>0.010232</td>\n",
       "      <td>0.005117</td>\n",
       "      <td>-0.028585</td>\n",
       "      <td>0.006653</td>\n",
       "      <td>-0.034475</td>\n",
       "      <td>0.003080</td>\n",
       "      <td>-0.007097</td>\n",
       "      <td>-0.010712</td>\n",
       "      <td>0.023199</td>\n",
       "      <td>-0.008444</td>\n",
       "      <td>...</td>\n",
       "      <td>-0.001062</td>\n",
       "      <td>-0.028862</td>\n",
       "      <td>0.014142</td>\n",
       "      <td>-0.003141</td>\n",
       "      <td>-0.033402</td>\n",
       "      <td>0.002625</td>\n",
       "      <td>0.012736</td>\n",
       "      <td>0.001743</td>\n",
       "      <td>-0.005628</td>\n",
       "      <td>0.011619</td>\n",
       "    </tr>\n",
       "    <tr>\n",
       "      <th>2019-06-13</th>\n",
       "      <td>0.004149</td>\n",
       "      <td>0.004836</td>\n",
       "      <td>0.003889</td>\n",
       "      <td>0.001950</td>\n",
       "      <td>0.021291</td>\n",
       "      <td>-0.001951</td>\n",
       "      <td>-0.024549</td>\n",
       "      <td>0.000465</td>\n",
       "      <td>0.005967</td>\n",
       "      <td>0.005714</td>\n",
       "      <td>...</td>\n",
       "      <td>0.003190</td>\n",
       "      <td>0.021527</td>\n",
       "      <td>-0.001176</td>\n",
       "      <td>0.007448</td>\n",
       "      <td>0.003798</td>\n",
       "      <td>0.010971</td>\n",
       "      <td>0.000367</td>\n",
       "      <td>-0.007457</td>\n",
       "      <td>0.012678</td>\n",
       "      <td>-0.012653</td>\n",
       "    </tr>\n",
       "    <tr>\n",
       "      <th>...</th>\n",
       "      <td>...</td>\n",
       "      <td>...</td>\n",
       "      <td>...</td>\n",
       "      <td>...</td>\n",
       "      <td>...</td>\n",
       "      <td>...</td>\n",
       "      <td>...</td>\n",
       "      <td>...</td>\n",
       "      <td>...</td>\n",
       "      <td>...</td>\n",
       "      <td>...</td>\n",
       "      <td>...</td>\n",
       "      <td>...</td>\n",
       "      <td>...</td>\n",
       "      <td>...</td>\n",
       "      <td>...</td>\n",
       "      <td>...</td>\n",
       "      <td>...</td>\n",
       "      <td>...</td>\n",
       "      <td>...</td>\n",
       "      <td>...</td>\n",
       "    </tr>\n",
       "    <tr>\n",
       "      <th>2019-10-07</th>\n",
       "      <td>-0.011587</td>\n",
       "      <td>-0.004420</td>\n",
       "      <td>-0.028479</td>\n",
       "      <td>-0.014923</td>\n",
       "      <td>-0.000541</td>\n",
       "      <td>-0.000217</td>\n",
       "      <td>-0.002758</td>\n",
       "      <td>-0.010441</td>\n",
       "      <td>-0.011229</td>\n",
       "      <td>-0.021446</td>\n",
       "      <td>...</td>\n",
       "      <td>-0.005619</td>\n",
       "      <td>-0.017354</td>\n",
       "      <td>-0.005415</td>\n",
       "      <td>0.008111</td>\n",
       "      <td>-0.017084</td>\n",
       "      <td>-0.005265</td>\n",
       "      <td>-0.008460</td>\n",
       "      <td>0.000372</td>\n",
       "      <td>0.005556</td>\n",
       "      <td>-0.007714</td>\n",
       "    </tr>\n",
       "    <tr>\n",
       "      <th>2019-10-08</th>\n",
       "      <td>-0.031219</td>\n",
       "      <td>-0.010763</td>\n",
       "      <td>-0.030043</td>\n",
       "      <td>-0.024677</td>\n",
       "      <td>-0.023101</td>\n",
       "      <td>-0.021921</td>\n",
       "      <td>-0.024196</td>\n",
       "      <td>-0.024894</td>\n",
       "      <td>-0.021451</td>\n",
       "      <td>-0.040492</td>\n",
       "      <td>...</td>\n",
       "      <td>-0.017218</td>\n",
       "      <td>-0.041581</td>\n",
       "      <td>-0.010734</td>\n",
       "      <td>-0.050955</td>\n",
       "      <td>-0.036273</td>\n",
       "      <td>-0.028318</td>\n",
       "      <td>-0.009675</td>\n",
       "      <td>-0.024387</td>\n",
       "      <td>-0.028315</td>\n",
       "      <td>-0.005473</td>\n",
       "    </tr>\n",
       "    <tr>\n",
       "      <th>2019-10-09</th>\n",
       "      <td>0.012610</td>\n",
       "      <td>-0.003128</td>\n",
       "      <td>-0.001129</td>\n",
       "      <td>0.011745</td>\n",
       "      <td>-0.012932</td>\n",
       "      <td>0.012702</td>\n",
       "      <td>0.008147</td>\n",
       "      <td>0.000518</td>\n",
       "      <td>0.001934</td>\n",
       "      <td>0.006267</td>\n",
       "      <td>...</td>\n",
       "      <td>0.009980</td>\n",
       "      <td>0.018036</td>\n",
       "      <td>0.005189</td>\n",
       "      <td>0.015895</td>\n",
       "      <td>0.013554</td>\n",
       "      <td>0.015525</td>\n",
       "      <td>0.006573</td>\n",
       "      <td>0.016766</td>\n",
       "      <td>0.004975</td>\n",
       "      <td>0.008375</td>\n",
       "    </tr>\n",
       "    <tr>\n",
       "      <th>2019-10-10</th>\n",
       "      <td>0.008050</td>\n",
       "      <td>0.015689</td>\n",
       "      <td>0.019020</td>\n",
       "      <td>-0.002767</td>\n",
       "      <td>0.004866</td>\n",
       "      <td>0.002589</td>\n",
       "      <td>-0.002811</td>\n",
       "      <td>0.009973</td>\n",
       "      <td>0.018018</td>\n",
       "      <td>0.011211</td>\n",
       "      <td>...</td>\n",
       "      <td>0.008002</td>\n",
       "      <td>0.015706</td>\n",
       "      <td>0.000469</td>\n",
       "      <td>0.002086</td>\n",
       "      <td>0.025751</td>\n",
       "      <td>0.011533</td>\n",
       "      <td>0.008824</td>\n",
       "      <td>0.004872</td>\n",
       "      <td>0.018623</td>\n",
       "      <td>0.007751</td>\n",
       "    </tr>\n",
       "    <tr>\n",
       "      <th>2019-10-11</th>\n",
       "      <td>-0.006364</td>\n",
       "      <td>-0.011014</td>\n",
       "      <td>0.044967</td>\n",
       "      <td>0.006201</td>\n",
       "      <td>0.021047</td>\n",
       "      <td>0.012037</td>\n",
       "      <td>0.048273</td>\n",
       "      <td>0.016736</td>\n",
       "      <td>0.012010</td>\n",
       "      <td>0.039830</td>\n",
       "      <td>...</td>\n",
       "      <td>0.002184</td>\n",
       "      <td>0.063360</td>\n",
       "      <td>-0.009695</td>\n",
       "      <td>0.020472</td>\n",
       "      <td>0.036742</td>\n",
       "      <td>0.029166</td>\n",
       "      <td>0.001050</td>\n",
       "      <td>0.017677</td>\n",
       "      <td>0.020366</td>\n",
       "      <td>0.008320</td>\n",
       "    </tr>\n",
       "  </tbody>\n",
       "</table>\n",
       "<p>89 rows × 498 columns</p>\n",
       "</div>"
      ],
      "text/plain": [
       "                 ABT      ABBV      ABMD       ACN      ATVI      ADBE  \\\n",
       "Date                                                                     \n",
       "2019-06-07  0.008116  0.004671 -0.004904  0.013969  0.029492  0.012227   \n",
       "2019-06-10  0.006564 -0.006199  0.017023  0.008310  0.013883  0.007837   \n",
       "2019-06-11 -0.001846  0.015854 -0.038175 -0.005801  0.014997 -0.015517   \n",
       "2019-06-12  0.010232  0.005117 -0.028585  0.006653 -0.034475  0.003080   \n",
       "2019-06-13  0.004149  0.004836  0.003889  0.001950  0.021291 -0.001951   \n",
       "...              ...       ...       ...       ...       ...       ...   \n",
       "2019-10-07 -0.011587 -0.004420 -0.028479 -0.014923 -0.000541 -0.000217   \n",
       "2019-10-08 -0.031219 -0.010763 -0.030043 -0.024677 -0.023101 -0.021921   \n",
       "2019-10-09  0.012610 -0.003128 -0.001129  0.011745 -0.012932  0.012702   \n",
       "2019-10-10  0.008050  0.015689  0.019020 -0.002767  0.004866  0.002589   \n",
       "2019-10-11 -0.006364 -0.011014  0.044967  0.006201  0.021047  0.012037   \n",
       "\n",
       "                 AMD       AAP       AES       AMG  ...      WLTW      WYNN  \\\n",
       "Date                                                ...                       \n",
       "2019-06-07  0.018542  0.002905 -0.015330  0.003033  ...  0.018586  0.009456   \n",
       "2019-06-10  0.025301 -0.011780 -0.016168  0.010081  ...  0.007652  0.050892   \n",
       "2019-06-11 -0.024676 -0.008794 -0.003043 -0.001885  ...  0.000000  0.012685   \n",
       "2019-06-12 -0.007097 -0.010712  0.023199 -0.008444  ... -0.001062 -0.028862   \n",
       "2019-06-13 -0.024549  0.000465  0.005967  0.005714  ...  0.003190  0.021527   \n",
       "...              ...       ...       ...       ...  ...       ...       ...   \n",
       "2019-10-07 -0.002758 -0.010441 -0.011229 -0.021446  ... -0.005619 -0.017354   \n",
       "2019-10-08 -0.024196 -0.024894 -0.021451 -0.040492  ... -0.017218 -0.041581   \n",
       "2019-10-09  0.008147  0.000518  0.001934  0.006267  ...  0.009980  0.018036   \n",
       "2019-10-10 -0.002811  0.009973  0.018018  0.011211  ...  0.008002  0.015706   \n",
       "2019-10-11  0.048273  0.016736  0.012010  0.039830  ...  0.002184  0.063360   \n",
       "\n",
       "                 XEL       XRX      XLNX       XYL       YUM       ZBH  \\\n",
       "Date                                                                     \n",
       "2019-06-07 -0.006187  0.003820  0.013961  0.005180  0.005995  0.003491   \n",
       "2019-06-10 -0.002861  0.015515  0.031538  0.010307 -0.003851  0.008117   \n",
       "2019-06-11 -0.009619  0.009513  0.007125 -0.004728 -0.009940 -0.010106   \n",
       "2019-06-12  0.014142 -0.003141 -0.033402  0.002625  0.012736  0.001743   \n",
       "2019-06-13 -0.001176  0.007448  0.003798  0.010971  0.000367 -0.007457   \n",
       "...              ...       ...       ...       ...       ...       ...   \n",
       "2019-10-07 -0.005415  0.008111 -0.017084 -0.005265 -0.008460  0.000372   \n",
       "2019-10-08 -0.010734 -0.050955 -0.036273 -0.028318 -0.009675 -0.024387   \n",
       "2019-10-09  0.005189  0.015895  0.013554  0.015525  0.006573  0.016766   \n",
       "2019-10-10  0.000469  0.002086  0.025751  0.011533  0.008824  0.004872   \n",
       "2019-10-11 -0.009695  0.020472  0.036742  0.029166  0.001050  0.017677   \n",
       "\n",
       "                ZION       ZTS  \n",
       "Date                            \n",
       "2019-06-07 -0.013562  0.010745  \n",
       "2019-06-10  0.004583  0.001454  \n",
       "2019-06-11  0.013230 -0.000544  \n",
       "2019-06-12 -0.005628  0.011619  \n",
       "2019-06-13  0.012678 -0.012653  \n",
       "...              ...       ...  \n",
       "2019-10-07  0.005556 -0.007714  \n",
       "2019-10-08 -0.028315 -0.005473  \n",
       "2019-10-09  0.004975  0.008375  \n",
       "2019-10-10  0.018623  0.007751  \n",
       "2019-10-11  0.020366  0.008320  \n",
       "\n",
       "[89 rows x 498 columns]"
      ]
     },
     "metadata": {},
     "output_type": "display_data"
    },
    {
     "name": "stdout",
     "output_type": "stream",
     "text": [
      "   X test set number of rows is: 89\n",
      "X test set number of columns is: 498\n"
     ]
    }
   ],
   "source": [
    "# Display dataframe and shape\n",
    "print(\"Table 06. X test set.\")\n",
    "display(returns_test)\n",
    "print(f\"   X test set number of rows is: {returns_test.shape[0]}\")\n",
    "print(f\"X test set number of columns is: {returns_test.shape[1]}\")"
   ]
  },
  {
   "cell_type": "markdown",
   "id": "d3b517fb",
   "metadata": {},
   "source": [
    "***\n",
    "<h2 style=\"color:#007CFE\">Mean-Variance Portfolio (MVP) Construction</h2>\n",
    "\n",
    "***"
   ]
  },
  {
   "cell_type": "markdown",
   "id": "67d49c7b",
   "metadata": {},
   "source": [
    "To construct the `MVP` we will be using the `cvxopt` library to do the optimization."
   ]
  },
  {
   "cell_type": "code",
   "execution_count": 16,
   "id": "92e94ef4",
   "metadata": {
    "ExecuteTime": {
     "end_time": "2023-03-20T14:56:59.829180Z",
     "start_time": "2023-03-20T14:56:59.822051Z"
    }
   },
   "outputs": [],
   "source": [
    "def constructMVP(cov):\n",
    "    \"\"\"Construct MVP using optimization.\"\"\"\n",
    "    cov = cov.T.values\n",
    "    n = len(cov)\n",
    "    N = 100\n",
    "    mus = [10 ** (5.0 * t / N - 1.0) for t in range(N)]\n",
    "\n",
    "    # Convert to cvxopt matrices\n",
    "    S = opt.matrix(cov)\n",
    "\n",
    "    pbar = opt.matrix(np.ones(cov.shape[0]))\n",
    "\n",
    "    # Create constraint matrices\n",
    "    G = -opt.matrix(np.eye(n))  # negative n x n identity matrix\n",
    "    h = opt.matrix(0.0, (n, 1))\n",
    "    A = opt.matrix(1.0, (1, n))\n",
    "    b = opt.matrix(1.0)\n",
    "\n",
    "    # Calculate efficient frontier weights using quadratic programming\n",
    "    solvers.options['show_progress'] = False\n",
    "    portfolios = [solvers.qp(mu * S, -pbar, G, h, A, b)['x']\n",
    "                  for mu in mus]\n",
    "\n",
    "    # CALCULATE RISKS AND RETURNS FOR FRONTIER\n",
    "    returns = [blas.dot(pbar, x) for x in portfolios]\n",
    "    risks = [np.sqrt(blas.dot(x, S * x)) for x in portfolios]\n",
    "\n",
    "    # CALCULATE THE 2ND DEGREE POLYNOMIAL OF THE FRONTIER CURVE\n",
    "    m1 = np.polyfit(returns, risks, 2)\n",
    "    x1 = np.sqrt(m1[2] / m1[0])\n",
    "\n",
    "    # CALCULATE THE OPTIMAL PORTFOLIO\n",
    "    wt = solvers.qp(opt.matrix(x1 * S), -pbar, G, h, A, b)['x']\n",
    "\n",
    "    return list(wt)"
   ]
  },
  {
   "cell_type": "code",
   "execution_count": 17,
   "id": "fd9a6b34",
   "metadata": {
    "ExecuteTime": {
     "end_time": "2023-03-20T14:58:41.766980Z",
     "start_time": "2023-03-20T14:56:59.831425Z"
    }
   },
   "outputs": [],
   "source": [
    "# Returns covariance\n",
    "cov = returns.cov()\n",
    "\n",
    "# MVP Portfolio\n",
    "MVP_port = pd.DataFrame(constructMVP(cov), index=cov.index)\n",
    "top_10_MVP = MVP_port.sort_values(by=0, ascending=False)[:10]"
   ]
  },
  {
   "cell_type": "code",
   "execution_count": 18,
   "id": "6b3f6136",
   "metadata": {
    "ExecuteTime": {
     "end_time": "2023-03-20T14:58:42.011614Z",
     "start_time": "2023-03-20T14:58:41.773263Z"
    },
    "scrolled": false
   },
   "outputs": [
    {
     "data": {
      "text/html": [
       "<img src=\"Top10_MVP.png\" alt=\"plots\" style=\"display:block;margin-left:auto;margin-right:auto;width:60%;\">"
      ],
      "text/plain": [
       "<IPython.core.display.HTML object>"
      ]
     },
     "metadata": {},
     "output_type": "display_data"
    },
    {
     "data": {
      "text/html": [
       "<p style=\"font-size:11px;font-style:default;\">\n",
       "                     <center><b>\n",
       "                     Figure 3. Top 10 Stocks in MVP.</b>\n",
       "                     <br></center></p>"
      ],
      "text/plain": [
       "<IPython.core.display.HTML object>"
      ]
     },
     "metadata": {},
     "output_type": "display_data"
    }
   ],
   "source": [
    "# Display the results\n",
    "fig, ax = plt.subplots(figsize=(10, 6))\n",
    "top_10_MVP.sort_values(by=0, ascending=True).plot(kind='barh', ax=ax,\n",
    "                                                  color='#0531BC')\n",
    "ax.set_title('Top 10 Stocks in MVP', size=15)\n",
    "ax.set_ylabel('Stocks Symbol')\n",
    "ax.set_xlabel('Weight in Portfolio')\n",
    "ax.get_legend().remove()\n",
    "\n",
    "# Save the plot as a PNG file\n",
    "plt.savefig(\"Top10_MVP.png\")\n",
    "\n",
    "# Create an HTML img tag to display the image\n",
    "img_tag = (f'<img src=\"Top10_MVP.png\" alt=\"plots\" style=\"display:block;'\n",
    "           f'margin-left:auto;margin-right:auto;width:60%;\">')\n",
    "\n",
    "# Display the img tag in the Jupyter Notebook\n",
    "display(HTML(img_tag))\n",
    "plt.close()\n",
    "fig_caption('Top 10 Stocks in MVP', '')"
   ]
  },
  {
   "cell_type": "markdown",
   "id": "de0def1b",
   "metadata": {},
   "source": [
    "`MVP` allocated its investments across different stocks. As a result, the stock with the highest weight includes the following stocks: Amcor PLC (`AMCR`) - `14.81%` , Duke Energy Corp (`DUK`) - `10.23%`, and Newmont Corporation (`NEM`) - `7.87%`."
   ]
  },
  {
   "cell_type": "markdown",
   "id": "7d16b593",
   "metadata": {},
   "source": [
    "***\n",
    "<h2 style=\"color:#007CFE\">Hierarchical Risk Parity (HRP) Portfolio Construction</h2>\n",
    "\n",
    "***"
   ]
  },
  {
   "cell_type": "markdown",
   "id": "e5b0860e",
   "metadata": {},
   "source": [
    "For the `HRP` portfolio construction we will follow the following steps:\n",
    "* Hierarchical Clustering\n",
    "* Matrix Seriation\n",
    "* Recursive Bisection\n",
    "* Getting of Portfolio Weights for all Types of Allocation"
   ]
  },
  {
   "cell_type": "markdown",
   "id": "4d5e5ff6",
   "metadata": {},
   "source": [
    "<h3 style=\"color:#221F1F\">Hierarchical Clustering</h3>\n",
    "\n",
    "***"
   ]
  },
  {
   "cell_type": "code",
   "execution_count": 19,
   "id": "e19ed664",
   "metadata": {
    "ExecuteTime": {
     "end_time": "2023-03-20T14:58:42.017995Z",
     "start_time": "2023-03-20T14:58:42.013683Z"
    }
   },
   "outputs": [],
   "source": [
    "def correlDist(corr):\n",
    "    \"\"\"Transform correlation matrix into correlation distance using \n",
    "    Gower metric.\"\"\"\n",
    "    dist = ((1 - corr) / 2.)**.5\n",
    "    return dist"
   ]
  },
  {
   "cell_type": "code",
   "execution_count": 20,
   "id": "8ad8338b",
   "metadata": {
    "ExecuteTime": {
     "end_time": "2023-03-20T14:58:42.267348Z",
     "start_time": "2023-03-20T14:58:42.020038Z"
    }
   },
   "outputs": [],
   "source": [
    "# Calulate linkage\n",
    "dist = correlDist(returns.corr())\n",
    "link = linkage(dist, 'ward')"
   ]
  },
  {
   "cell_type": "code",
   "execution_count": 21,
   "id": "8b9c5389",
   "metadata": {
    "ExecuteTime": {
     "end_time": "2023-03-20T14:58:42.890123Z",
     "start_time": "2023-03-20T14:58:42.269572Z"
    }
   },
   "outputs": [
    {
     "data": {
      "text/html": [
       "<img src=\"Dendrogram.png\" alt=\"plots\" style=\"display:block;margin-left:auto;margin-right:auto;width:80%;\">"
      ],
      "text/plain": [
       "<IPython.core.display.HTML object>"
      ]
     },
     "metadata": {},
     "output_type": "display_data"
    },
    {
     "data": {
      "text/html": [
       "<p style=\"font-size:11px;font-style:default;\">\n",
       "                     <center><b>\n",
       "                     Figure 4. Dendrogram of Equity Assets.</b>\n",
       "                     <br></center></p>"
      ],
      "text/plain": [
       "<IPython.core.display.HTML object>"
      ]
     },
     "metadata": {},
     "output_type": "display_data"
    }
   ],
   "source": [
    "# Plot Dendrogram\n",
    "plt.figure(figsize=(12, 8))\n",
    "dendrogram(link, labels=X.columns)\n",
    "plt.xticks([], [])\n",
    "plt.title(\"Dendrogram of Equity Assets\")\n",
    "plt.xlabel('Assets')\n",
    "plt.ylabel('Distance between clusters')\n",
    "\n",
    "# Save the plot as a PNG file\n",
    "plt.savefig(\"Dendrogram.png\")\n",
    "\n",
    "# Create an HTML img tag to display the image\n",
    "img_tag = (f'<img src=\"Dendrogram.png\" alt=\"plots\" style=\"display:block;'\n",
    "           f'margin-left:auto;margin-right:auto;width:80%;\">')\n",
    "\n",
    "# Display the img tag in the Jupyter Notebook\n",
    "display(HTML(img_tag))\n",
    "plt.close()\n",
    "fig_caption('Dendrogram of Equity Assets', '')"
   ]
  },
  {
   "cell_type": "markdown",
   "id": "6770984f",
   "metadata": {},
   "source": [
    "After doing `Hierarchical clustering` the dendrogram above reflects the clustering of different assets."
   ]
  },
  {
   "cell_type": "markdown",
   "id": "c7708fec",
   "metadata": {},
   "source": [
    "<h3 style=\"color:#221F1F\">Matrix Seriation</h3>\n",
    "\n",
    "***"
   ]
  },
  {
   "cell_type": "code",
   "execution_count": 22,
   "id": "0b477b6c",
   "metadata": {
    "ExecuteTime": {
     "end_time": "2023-03-20T14:58:42.903206Z",
     "start_time": "2023-03-20T14:58:42.893579Z"
    }
   },
   "outputs": [],
   "source": [
    "def matrix_diag(link):\n",
    "    \"\"\"Sort clustered items by distance.\"\"\"\n",
    "    link = link.astype(int)\n",
    "    sortIx = pd.Series([link[-1, 0], link[-1, 1]])\n",
    "    numItems = link[-1, 3]  # number of original items\n",
    "    while sortIx.max() >= numItems:\n",
    "        sortIx.index = range(0, sortIx.shape[0] * 2, 2)  # make space\n",
    "        df0 = sortIx[sortIx >= numItems]  # find clusters\n",
    "        i = df0.index\n",
    "        j = df0.values - numItems\n",
    "        sortIx[i] = link[j, 0]  # item 1\n",
    "        df0 = pd.Series(link[j, 1], index=i + 1)\n",
    "        sortIx = sortIx.append(df0)  # item 2\n",
    "        sortIx = sortIx.sort_index()  # re-sort\n",
    "        sortIx.index = range(sortIx.shape[0])  # re-index\n",
    "    return sortIx.tolist()"
   ]
  },
  {
   "cell_type": "code",
   "execution_count": 23,
   "id": "d7e0bc71",
   "metadata": {
    "ExecuteTime": {
     "end_time": "2023-03-20T14:58:43.371321Z",
     "start_time": "2023-03-20T14:58:42.906227Z"
    }
   },
   "outputs": [
    {
     "name": "stdout",
     "output_type": "stream",
     "text": [
      "Get the stocks (shown only are the first 20 stocks in the list):\n",
      "['CMS', 'WEC', 'XEL', 'LNT', 'AEE', 'DUK', 'ED', 'AEP', 'DTE', 'EVRG', 'NI', 'D', 'SO', 'FE', 'PPL', 'CNP', 'AWK', 'ATO', 'EXC', 'PEG']\n"
     ]
    }
   ],
   "source": [
    "# Get stocks\n",
    "corr = returns.corr()\n",
    "print(\"Get the stocks (shown only are the first 20 stocks in the list):\")\n",
    "print(returns.corr().index[matrix_diag(link)].tolist()[:20])"
   ]
  },
  {
   "cell_type": "markdown",
   "id": "9fe19b8c",
   "metadata": {},
   "source": [
    "<h3 style=\"color:#221F1F\">Recursive Bisection</h3>\n",
    "\n",
    "***"
   ]
  },
  {
   "cell_type": "code",
   "execution_count": 24,
   "id": "92089020",
   "metadata": {
    "ExecuteTime": {
     "end_time": "2023-03-20T14:58:43.381669Z",
     "start_time": "2023-03-20T14:58:43.373500Z"
    }
   },
   "outputs": [],
   "source": [
    "def constructIVP(cov, **kargs):\n",
    "    \"\"\"Compute the inverse-variance portfolio.\"\"\"\n",
    "    ivp = 1. / np.diag(cov)\n",
    "    ivp /= ivp.sum()\n",
    "    return ivp\n",
    "\n",
    "\n",
    "def getClusterVar(cov, cItems):\n",
    "    \"\"\"Compute variance per cluster.\"\"\"\n",
    "    cov_ = cov.loc[cItems, cItems]  # matrix slice\n",
    "    w_ = constructIVP(cov_).reshape(-1, 1)\n",
    "    cVar = np.dot(np.dot(w_.T, cov_), w_)[0, 0]\n",
    "    return cVar\n",
    "\n",
    "\n",
    "def recursive_bisection(cov, sortIx):\n",
    "    \"\"\"Compute HRP allocation.\"\"\"\n",
    "    w = pd.Series(1, index=sortIx)\n",
    "    cItems = [sortIx]  # initialize all items in one cluster\n",
    "    while len(cItems) > 0:\n",
    "        cItems = (\n",
    "            [i[j:k] for i in cItems for j, k in (\n",
    "                (0, len(i) // 2),\n",
    "                (len(i) // 2, len(i))\n",
    "            ) if len(i) > 1]  # bi-section\n",
    "        )\n",
    "\n",
    "        for i in range(0, len(cItems), 2):  # parse in pairs\n",
    "            cItems0 = cItems[i]  # cluster 1\n",
    "            cItems1 = cItems[i + 1]  # cluster 2\n",
    "            cVar0 = getClusterVar(cov, cItems0)\n",
    "            cVar1 = getClusterVar(cov, cItems1)\n",
    "            alpha = 1 - cVar0 / (cVar0 + cVar1)\n",
    "            w[cItems0] *= alpha  # update weight 1\n",
    "            w[cItems1] *= 1 - alpha  # update weight 2\n",
    "\n",
    "    return w"
   ]
  },
  {
   "cell_type": "code",
   "execution_count": 25,
   "id": "ba1ff05c",
   "metadata": {
    "ExecuteTime": {
     "end_time": "2023-03-20T14:58:43.622488Z",
     "start_time": "2023-03-20T14:58:43.383962Z"
    }
   },
   "outputs": [],
   "source": [
    "# HRP weights\n",
    "sortIx = returns.corr().index[matrix_diag(link)].tolist()"
   ]
  },
  {
   "cell_type": "code",
   "execution_count": 26,
   "id": "6d84b8e6",
   "metadata": {
    "ExecuteTime": {
     "end_time": "2023-03-20T14:58:43.633560Z",
     "start_time": "2023-03-20T14:58:43.628392Z"
    }
   },
   "outputs": [],
   "source": [
    "def constructIVP(cov, **kargs):\n",
    "    \"\"\"Compute the inverse-variance portfolio.\"\"\"\n",
    "    ivp = 1. / np.diag(cov)\n",
    "    ivp /= ivp.sum()\n",
    "    return ivp\n",
    "\n",
    "\n",
    "def getHRP(cov, corr):\n",
    "    \"\"\"Construct a hierarchical portfolio.\"\"\"\n",
    "    dist = correlDist(corr)\n",
    "    link = sch.linkage(dist, 'single')\n",
    "    sortIx = matrix_diag(link)\n",
    "    sortIx = corr.index[sortIx].tolist()\n",
    "    hrp = recursive_bisection(cov, sortIx)\n",
    "    return hrp.sort_index()"
   ]
  },
  {
   "cell_type": "code",
   "execution_count": 27,
   "id": "16eaf151",
   "metadata": {
    "ExecuteTime": {
     "end_time": "2023-03-20T14:58:46.181216Z",
     "start_time": "2023-03-20T14:58:43.635520Z"
    }
   },
   "outputs": [],
   "source": [
    "# Get the top 10 of HRP portfolio\n",
    "HRP_port = pd.DataFrame(getHRP(cov, corr), index=cov.index)\n",
    "top_10_HRP = HRP_port.sort_values(by=0, ascending=False)[:10]"
   ]
  },
  {
   "cell_type": "code",
   "execution_count": 28,
   "id": "0619cdcd",
   "metadata": {
    "ExecuteTime": {
     "end_time": "2023-03-20T14:58:46.314551Z",
     "start_time": "2023-03-20T14:58:46.184641Z"
    }
   },
   "outputs": [
    {
     "data": {
      "text/html": [
       "<img src=\"Top10_HRP.png\" alt=\"plots\" style=\"display:block;margin-left:auto;margin-right:auto;width:60%;\">"
      ],
      "text/plain": [
       "<IPython.core.display.HTML object>"
      ]
     },
     "metadata": {},
     "output_type": "display_data"
    },
    {
     "data": {
      "text/html": [
       "<p style=\"font-size:11px;font-style:default;\">\n",
       "                     <center><b>\n",
       "                     Figure 5. Top 10 Stocks in HRP Portfolio.</b>\n",
       "                     <br></center></p>"
      ],
      "text/plain": [
       "<IPython.core.display.HTML object>"
      ]
     },
     "metadata": {},
     "output_type": "display_data"
    }
   ],
   "source": [
    "# Display the results\n",
    "fig, ax = plt.subplots(figsize=(10, 6))\n",
    "top_10_HRP.sort_values(by=0, ascending=True).plot(kind='barh', ax=ax,\n",
    "                                                  color='#0531BC')\n",
    "ax.set_title('Top 10 Stocks in HRP Portfolio', size=15)\n",
    "ax.set_ylabel('Stocks Symbol')\n",
    "ax.set_xlabel('Weight in Portfolio')\n",
    "ax.get_legend().remove()\n",
    "\n",
    "# Save the plot as a PNG file\n",
    "plt.savefig(\"Top10_HRP.png\")\n",
    "\n",
    "# Create an HTML img tag to display the image\n",
    "img_tag = (f'<img src=\"Top10_HRP.png\" alt=\"plots\" style=\"display:block;'\n",
    "           f'margin-left:auto;margin-right:auto;width:60%;\">')\n",
    "\n",
    "# Display the img tag in the Jupyter Notebook\n",
    "display(HTML(img_tag))\n",
    "plt.close()\n",
    "fig_caption('Top 10 Stocks in HRP Portfolio', '')"
   ]
  },
  {
   "cell_type": "markdown",
   "id": "d2f93794",
   "metadata": {},
   "source": [
    "`HRP` portfolio allocated its investments across different stocks. As a result, the stock with the highest weight includes the following stocks: Public Service Enterprise Group Inc. (`PEG`) - `1.31%` , Amcor PLC (`AMCR`) - `1.21%`, and CME Group Inc (`CME`) - `1.13%`."
   ]
  },
  {
   "cell_type": "markdown",
   "id": "82170374",
   "metadata": {},
   "source": [
    "***\n",
    "<h2 style=\"color:#007CFE\">Portfolio Summary</h2>\n",
    "\n",
    "***"
   ]
  },
  {
   "cell_type": "code",
   "execution_count": 29,
   "id": "3ecd0231",
   "metadata": {
    "ExecuteTime": {
     "end_time": "2023-03-20T14:58:46.322055Z",
     "start_time": "2023-03-20T14:58:46.316903Z"
    }
   },
   "outputs": [],
   "source": [
    "def get_all_portfolios(returns):\n",
    "    \"\"\"Construct the MVP and HRP portfolio.\"\"\"\n",
    "    cov, corr = returns.cov(), returns.corr()\n",
    "    hrp = getHRP(cov, corr)\n",
    "    mvp = constructMVP(cov)\n",
    "    mvp = pd.Series(mvp, index=cov.index)\n",
    "    portfolios = pd.DataFrame([mvp, hrp], index=['MVP', 'HRP']).T\n",
    "\n",
    "    return portfolios"
   ]
  },
  {
   "cell_type": "code",
   "execution_count": 30,
   "id": "8dabca24",
   "metadata": {
    "ExecuteTime": {
     "end_time": "2023-03-20T15:00:31.692865Z",
     "start_time": "2023-03-20T14:58:46.325506Z"
    }
   },
   "outputs": [
    {
     "name": "stdout",
     "output_type": "stream",
     "text": [
      "Table 07. Weights of each Stock for MVP and HRP.\n"
     ]
    },
    {
     "data": {
      "text/html": [
       "<div>\n",
       "<style scoped>\n",
       "    .dataframe tbody tr th:only-of-type {\n",
       "        vertical-align: middle;\n",
       "    }\n",
       "\n",
       "    .dataframe tbody tr th {\n",
       "        vertical-align: top;\n",
       "    }\n",
       "\n",
       "    .dataframe thead th {\n",
       "        text-align: right;\n",
       "    }\n",
       "</style>\n",
       "<table border=\"1\" class=\"dataframe\">\n",
       "  <thead>\n",
       "    <tr style=\"text-align: right;\">\n",
       "      <th></th>\n",
       "      <th>MVP</th>\n",
       "      <th>HRP</th>\n",
       "    </tr>\n",
       "  </thead>\n",
       "  <tbody>\n",
       "    <tr>\n",
       "      <th>ABT</th>\n",
       "      <td>0.000039</td>\n",
       "      <td>0.001364</td>\n",
       "    </tr>\n",
       "    <tr>\n",
       "      <th>ABBV</th>\n",
       "      <td>0.000039</td>\n",
       "      <td>0.000967</td>\n",
       "    </tr>\n",
       "    <tr>\n",
       "      <th>ABMD</th>\n",
       "      <td>0.000029</td>\n",
       "      <td>0.000625</td>\n",
       "    </tr>\n",
       "    <tr>\n",
       "      <th>ACN</th>\n",
       "      <td>0.000050</td>\n",
       "      <td>0.001253</td>\n",
       "    </tr>\n",
       "    <tr>\n",
       "      <th>ATVI</th>\n",
       "      <td>0.000084</td>\n",
       "      <td>0.000696</td>\n",
       "    </tr>\n",
       "    <tr>\n",
       "      <th>...</th>\n",
       "      <td>...</td>\n",
       "      <td>...</td>\n",
       "    </tr>\n",
       "    <tr>\n",
       "      <th>XYL</th>\n",
       "      <td>0.000047</td>\n",
       "      <td>0.001129</td>\n",
       "    </tr>\n",
       "    <tr>\n",
       "      <th>YUM</th>\n",
       "      <td>0.000378</td>\n",
       "      <td>0.004225</td>\n",
       "    </tr>\n",
       "    <tr>\n",
       "      <th>ZBH</th>\n",
       "      <td>0.000052</td>\n",
       "      <td>0.001659</td>\n",
       "    </tr>\n",
       "    <tr>\n",
       "      <th>ZION</th>\n",
       "      <td>0.000081</td>\n",
       "      <td>0.001053</td>\n",
       "    </tr>\n",
       "    <tr>\n",
       "      <th>ZTS</th>\n",
       "      <td>0.000043</td>\n",
       "      <td>0.001687</td>\n",
       "    </tr>\n",
       "  </tbody>\n",
       "</table>\n",
       "<p>498 rows × 2 columns</p>\n",
       "</div>"
      ],
      "text/plain": [
       "           MVP       HRP\n",
       "ABT   0.000039  0.001364\n",
       "ABBV  0.000039  0.000967\n",
       "ABMD  0.000029  0.000625\n",
       "ACN   0.000050  0.001253\n",
       "ATVI  0.000084  0.000696\n",
       "...        ...       ...\n",
       "XYL   0.000047  0.001129\n",
       "YUM   0.000378  0.004225\n",
       "ZBH   0.000052  0.001659\n",
       "ZION  0.000081  0.001053\n",
       "ZTS   0.000043  0.001687\n",
       "\n",
       "[498 rows x 2 columns]"
      ]
     },
     "metadata": {},
     "output_type": "display_data"
    },
    {
     "name": "stdout",
     "output_type": "stream",
     "text": [
      "   Portfolio number of rows is: 498\n",
      "Portfolio number of columns is: 2\n"
     ]
    }
   ],
   "source": [
    "# Calculate the portfolio weights of MVP and HRP\n",
    "portfolios = get_all_portfolios(returns)\n",
    "\n",
    "# Display dataframe and shape\n",
    "print(\"Table 07. Weights of each Stock for MVP and HRP.\")\n",
    "display(portfolios)\n",
    "print(f\"   Portfolio number of rows is: {portfolios.shape[0]}\")\n",
    "print(f\"Portfolio number of columns is: {portfolios.shape[1]}\")"
   ]
  },
  {
   "cell_type": "markdown",
   "id": "8c8fe7cd",
   "metadata": {},
   "source": [
    "The row here represents the equity stock of a company while the column corresponds to the portfolio strategy (`MVP` or `HRP`). The values are the weights for the respective portfolio strategy."
   ]
  },
  {
   "cell_type": "code",
   "execution_count": 31,
   "id": "9c5dd878",
   "metadata": {
    "ExecuteTime": {
     "end_time": "2023-03-20T15:02:15.490610Z",
     "start_time": "2023-03-20T15:00:31.696696Z"
    }
   },
   "outputs": [],
   "source": [
    "# Get the number of assets with at least 0.1% weight\n",
    "count_MVP = len(list(filter(lambda x: x > 0.001, constructMVP(cov))))\n",
    "count_HRP = len(list(filter(lambda x: x > 0.001, getHRP(cov, corr))))"
   ]
  },
  {
   "cell_type": "code",
   "execution_count": 32,
   "id": "79466bd3",
   "metadata": {
    "ExecuteTime": {
     "end_time": "2023-03-20T15:02:15.606878Z",
     "start_time": "2023-03-20T15:02:15.495047Z"
    }
   },
   "outputs": [
    {
     "data": {
      "text/html": [
       "<img src=\"Stock_Count.png\" alt=\"plots\" style=\"display:block;margin-left:auto;margin-right:auto;width:60%;\">"
      ],
      "text/plain": [
       "<IPython.core.display.HTML object>"
      ]
     },
     "metadata": {},
     "output_type": "display_data"
    },
    {
     "data": {
      "text/html": [
       "<p style=\"font-size:11px;font-style:default;\">\n",
       "                     <center><b>\n",
       "                     Figure 6. Count of Stock with at least 0.1% Weight.</b>\n",
       "                     <br></center></p>"
      ],
      "text/plain": [
       "<IPython.core.display.HTML object>"
      ]
     },
     "metadata": {},
     "output_type": "display_data"
    }
   ],
   "source": [
    "# Display the count of assets per portfolio strategy\n",
    "fig, ax = plt.subplots(figsize=(10, 6))\n",
    "ax.bar(['HRP', 'MVP'], [count_HRP, count_MVP], color='#0531BC')\n",
    "ax.set_title('Count of Stock with at least 0.1% Weight', size=15)\n",
    "ax.set_ylabel('Stock Count')\n",
    "ax.set_xlabel('Portfolio Strategy')\n",
    "\n",
    "# Save the plot as a PNG file\n",
    "plt.savefig(\"Stock_Count.png\")\n",
    "\n",
    "# Create an HTML img tag to display the image\n",
    "img_tag = (f'<img src=\"Stock_Count.png\" alt=\"plots\" style=\"display:block;'\n",
    "           f'margin-left:auto;margin-right:auto;width:60%;\">')\n",
    "\n",
    "# Display the img tag in the Jupyter Notebook\n",
    "display(HTML(img_tag))\n",
    "plt.close()\n",
    "fig_caption('Count of Stock with at least 0.1% Weight', '')"
   ]
  },
  {
   "cell_type": "markdown",
   "id": "c66b31d9",
   "metadata": {
    "ExecuteTime": {
     "end_time": "2023-03-18T08:51:48.358980Z",
     "start_time": "2023-03-18T08:51:45.774137Z"
    }
   },
   "source": [
    "**Diversification** as a main strength is highlighted here in the portfolio composition overview. In terms of total assets included in the portfolio, `MVP` is concentrated on `46` stocks, while the `HRP` portfolio is better spread out at `388`."
   ]
  },
  {
   "cell_type": "code",
   "execution_count": 33,
   "id": "2d0215c6",
   "metadata": {
    "ExecuteTime": {
     "end_time": "2023-03-20T15:02:15.778391Z",
     "start_time": "2023-03-20T15:02:15.611258Z"
    }
   },
   "outputs": [
    {
     "data": {
      "text/html": [
       "<img src=\"MVP_HRP_Compare.png\" alt=\"plots\" style=\"display:block;margin-left:auto;margin-right:auto;width:70%;\">"
      ],
      "text/plain": [
       "<IPython.core.display.HTML object>"
      ]
     },
     "metadata": {},
     "output_type": "display_data"
    },
    {
     "data": {
      "text/html": [
       "<p style=\"font-size:11px;font-style:default;\">\n",
       "                     <center><b>\n",
       "                     Figure 7. Comparison of Portfolio Weights of MVP and HRP.</b>\n",
       "                     <br></center></p>"
      ],
      "text/plain": [
       "<IPython.core.display.HTML object>"
      ]
     },
     "metadata": {},
     "output_type": "display_data"
    }
   ],
   "source": [
    "MVP_HRP_compare = top_10_MVP.copy()\n",
    "MVP_HRP_compare['HRP'] = portfolios.loc[top_10_MVP.index, 'HRP']\n",
    "MVP_HRP_compare = MVP_HRP_compare.rename(columns={0: 'MVP'})\n",
    "MVP_HRP_compare = pd.concat(\n",
    "    [MVP_HRP_compare['HRP'], MVP_HRP_compare['MVP']], axis=1)\n",
    "MVP_HRP_compare\n",
    "fig, ax = plt.subplots(figsize=(10, 6))\n",
    "MVP_HRP_compare.sort_values(by='MVP', ascending=True).plot(\n",
    "    kind='barh', ax=ax, color=['#007CFE', '#0531BC'])\n",
    "ax.set_title('Comparison of Portfolio Weights of MVP and HRP', size=15)\n",
    "ax.set_ylabel('Stock Symbol')\n",
    "ax.set_xlabel('Stock Weight')\n",
    "\n",
    "# Save the plot as a PNG file\n",
    "plt.savefig(\"MVP_HRP_Compare.png\")\n",
    "\n",
    "# Create an HTML img tag to display the image\n",
    "img_tag = (f'<img src=\"MVP_HRP_Compare.png\" alt=\"plots\" style=\"display:block;'\n",
    "           f'margin-left:auto;margin-right:auto;width:70%;\">')\n",
    "\n",
    "# Display the img tag in the Jupyter Notebook\n",
    "display(HTML(img_tag))\n",
    "plt.close()\n",
    "fig_caption('Comparison of Portfolio Weights of MVP and HRP', '')"
   ]
  },
  {
   "cell_type": "markdown",
   "id": "024ea5f0",
   "metadata": {},
   "source": [
    "Based on the top ten stocks with the highest weights, we notice MVP allocates only to 5 industries (with the highest weight at a significant 25%) versus HRP, which allocates more evenly across industries based on risk profile."
   ]
  },
  {
   "cell_type": "markdown",
   "id": "7b67e7e6",
   "metadata": {},
   "source": [
    "***\n",
    "<h2 style=\"color:#007CFE\">Portfolio Comparison</h2>\n",
    "\n",
    "***"
   ]
  },
  {
   "cell_type": "markdown",
   "id": "7c3b352f",
   "metadata": {},
   "source": [
    "<h3 style=\"color:#221F1F\">In-Sample Comparison</h3>\n",
    "\n",
    "***"
   ]
  },
  {
   "cell_type": "code",
   "execution_count": 34,
   "id": "9699a192",
   "metadata": {
    "ExecuteTime": {
     "end_time": "2023-03-20T15:02:15.791001Z",
     "start_time": "2023-03-20T15:02:15.782295Z"
    }
   },
   "outputs": [],
   "source": [
    "Insample_Result = pd.DataFrame(np.dot(returns, np.array(portfolios)),\n",
    "                               columns=['MVP', 'HRP'], index=returns.index)\n",
    "OutOfSample_Result = pd.DataFrame(np.dot(returns_test, np.array(portfolios)),\n",
    "                                  columns=['MVP', 'HRP'],\n",
    "                                  index=returns_test.index)"
   ]
  },
  {
   "cell_type": "code",
   "execution_count": 35,
   "id": "3781d7e6",
   "metadata": {
    "ExecuteTime": {
     "end_time": "2023-03-20T15:02:16.203607Z",
     "start_time": "2023-03-20T15:02:15.865353Z"
    }
   },
   "outputs": [
    {
     "data": {
      "text/html": [
       "<img src=\"InSample_Res.png\" alt=\"plots\" style=\"display:block;margin-left:auto;margin-right:auto;width:90%;\">"
      ],
      "text/plain": [
       "<IPython.core.display.HTML object>"
      ]
     },
     "metadata": {},
     "output_type": "display_data"
    },
    {
     "data": {
      "text/html": [
       "<p style=\"font-size:11px;font-style:default;\">\n",
       "                     <center><b>\n",
       "                     Figure 8. In-Sample Results.</b>\n",
       "                     <br></center></p>"
      ],
      "text/plain": [
       "<IPython.core.display.HTML object>"
      ]
     },
     "metadata": {},
     "output_type": "display_data"
    }
   ],
   "source": [
    "Insample_Result.cumsum().plot(figsize=(13, 5), title=\"In-Sample Results\",\n",
    "                              color=['#0531BC', '#007CFE'])\n",
    "plt.ylabel('Cummulative Returns')\n",
    "\n",
    "# Save the plot as a PNG file\n",
    "plt.savefig(\"InSample_Res.png\")\n",
    "\n",
    "# Create an HTML img tag to display the image\n",
    "img_tag = (f'<img src=\"InSample_Res.png\" alt=\"plots\" style=\"display:block;'\n",
    "           f'margin-left:auto;margin-right:auto;width:90%;\">')\n",
    "\n",
    "# Display the img tag in the Jupyter Notebook\n",
    "display(HTML(img_tag))\n",
    "plt.close()\n",
    "fig_caption('In-Sample Results', '')"
   ]
  },
  {
   "cell_type": "code",
   "execution_count": 36,
   "id": "e1f70f59",
   "metadata": {
    "ExecuteTime": {
     "end_time": "2023-03-20T15:02:16.226559Z",
     "start_time": "2023-03-20T15:02:16.207575Z"
    }
   },
   "outputs": [
    {
     "name": "stdout",
     "output_type": "stream",
     "text": [
      "Table 08. In-Sample standard deviation and Sharpe Ratio Results.\n"
     ]
    },
    {
     "data": {
      "text/html": [
       "<div>\n",
       "<style scoped>\n",
       "    .dataframe tbody tr th:only-of-type {\n",
       "        vertical-align: middle;\n",
       "    }\n",
       "\n",
       "    .dataframe tbody tr th {\n",
       "        vertical-align: top;\n",
       "    }\n",
       "\n",
       "    .dataframe thead th {\n",
       "        text-align: right;\n",
       "    }\n",
       "</style>\n",
       "<table border=\"1\" class=\"dataframe\">\n",
       "  <thead>\n",
       "    <tr style=\"text-align: right;\">\n",
       "      <th></th>\n",
       "      <th>stdev</th>\n",
       "      <th>sharp_ratio</th>\n",
       "    </tr>\n",
       "  </thead>\n",
       "  <tbody>\n",
       "    <tr>\n",
       "      <th>MVP</th>\n",
       "      <td>0.085516</td>\n",
       "      <td>0.785019</td>\n",
       "    </tr>\n",
       "    <tr>\n",
       "      <th>HRP</th>\n",
       "      <td>0.126944</td>\n",
       "      <td>0.523599</td>\n",
       "    </tr>\n",
       "  </tbody>\n",
       "</table>\n",
       "</div>"
      ],
      "text/plain": [
       "        stdev  sharp_ratio\n",
       "MVP  0.085516     0.785019\n",
       "HRP  0.126944     0.523599"
      ]
     },
     "metadata": {},
     "output_type": "display_data"
    }
   ],
   "source": [
    "# In_sample Results\n",
    "stddev = Insample_Result.std() * np.sqrt(252)\n",
    "sharp_ratio = (Insample_Result.mean()*np.sqrt(252))/(Insample_Result).std()\n",
    "Results = pd.DataFrame(dict(stdev=stddev, sharp_ratio=sharp_ratio))\n",
    "print(\"Table 08. In-Sample standard deviation and Sharpe Ratio Results.\")\n",
    "display(Results)"
   ]
  },
  {
   "cell_type": "markdown",
   "id": "30efaa76",
   "metadata": {},
   "source": [
    "*Note: Standard Deviation comparisons shown were made using simple standard deviations of individual securities.*"
   ]
  },
  {
   "cell_type": "markdown",
   "id": "1a64d7a6",
   "metadata": {},
   "source": [
    "Visually, the light-blue line representing the **HRP outperforms**, at least at a glance, the Mean-Variance Portfolio for most of the periods in the training data. Comparisons of cumulative returns see the HRP portfolio above the MVP. However, comparisons of Sharpe Ratios tell a different story: the *MVP portfolio provides a higher Sharpe Ratio than HRP*. Why does the Sharpe ratio provide results opposite to the intuition seen in the graph? Several factors may be at play: 1) The concept of **risk-adjusted returns** used in the Sharpe Ratio is most similar to the concepts used in the mean-variance portfolio, and 2) **asset volatility** here is computed in a naïve manner versus the standard measure of computing portfolio volatility."
   ]
  },
  {
   "cell_type": "markdown",
   "id": "130e5d1b",
   "metadata": {},
   "source": [
    "<h3 style=\"color:#221F1F\">Out-Of-Sample Results</h3>\n",
    "\n",
    "***"
   ]
  },
  {
   "cell_type": "code",
   "execution_count": 37,
   "id": "eb46b373",
   "metadata": {
    "ExecuteTime": {
     "end_time": "2023-03-20T15:02:16.357101Z",
     "start_time": "2023-03-20T15:02:16.229760Z"
    }
   },
   "outputs": [
    {
     "data": {
      "text/html": [
       "<img src=\"OutSample_Res.png\" alt=\"plots\" style=\"display:block;margin-left:auto;margin-right:auto;width:90%;\">"
      ],
      "text/plain": [
       "<IPython.core.display.HTML object>"
      ]
     },
     "metadata": {},
     "output_type": "display_data"
    },
    {
     "data": {
      "text/html": [
       "<p style=\"font-size:11px;font-style:default;\">\n",
       "                     <center><b>\n",
       "                     Figure 9. Out-Of-Sample Results.</b>\n",
       "                     <br></center></p>"
      ],
      "text/plain": [
       "<IPython.core.display.HTML object>"
      ]
     },
     "metadata": {},
     "output_type": "display_data"
    }
   ],
   "source": [
    "OutOfSample_Result.cumsum().plot(figsize=(13, 5),\n",
    "                                 title=\"Out-Of-Sample Results\",\n",
    "                                 color=['#0531BC', '#007CFE'])\n",
    "plt.ylabel('Cummulative Returns')\n",
    "\n",
    "# Save the plot as a PNG file\n",
    "plt.savefig(\"OutSample_Res.png\")\n",
    "\n",
    "# Create an HTML img tag to display the image\n",
    "img_tag = (f'<img src=\"OutSample_Res.png\" alt=\"plots\" style=\"display:block;'\n",
    "           f'margin-left:auto;margin-right:auto;width:90%;\">')\n",
    "\n",
    "# Display the img tag in the Jupyter Notebook\n",
    "display(HTML(img_tag))\n",
    "plt.close()\n",
    "fig_caption('Out-Of-Sample Results', '')"
   ]
  },
  {
   "cell_type": "code",
   "execution_count": 38,
   "id": "78a89b66",
   "metadata": {
    "ExecuteTime": {
     "end_time": "2023-03-20T15:02:16.387447Z",
     "start_time": "2023-03-20T15:02:16.362380Z"
    }
   },
   "outputs": [
    {
     "name": "stdout",
     "output_type": "stream",
     "text": [
      "Table 09. Out-of-Sample standard deviation and Sharpe Ratio Results.\n"
     ]
    },
    {
     "data": {
      "text/html": [
       "<div>\n",
       "<style scoped>\n",
       "    .dataframe tbody tr th:only-of-type {\n",
       "        vertical-align: middle;\n",
       "    }\n",
       "\n",
       "    .dataframe tbody tr th {\n",
       "        vertical-align: top;\n",
       "    }\n",
       "\n",
       "    .dataframe thead th {\n",
       "        text-align: right;\n",
       "    }\n",
       "</style>\n",
       "<table border=\"1\" class=\"dataframe\">\n",
       "  <thead>\n",
       "    <tr style=\"text-align: right;\">\n",
       "      <th></th>\n",
       "      <th>stdev</th>\n",
       "      <th>sharp_ratio</th>\n",
       "    </tr>\n",
       "  </thead>\n",
       "  <tbody>\n",
       "    <tr>\n",
       "      <th>MVP</th>\n",
       "      <td>0.085516</td>\n",
       "      <td>0.785019</td>\n",
       "    </tr>\n",
       "    <tr>\n",
       "      <th>HRP</th>\n",
       "      <td>0.126944</td>\n",
       "      <td>0.523599</td>\n",
       "    </tr>\n",
       "  </tbody>\n",
       "</table>\n",
       "</div>"
      ],
      "text/plain": [
       "        stdev  sharp_ratio\n",
       "MVP  0.085516     0.785019\n",
       "HRP  0.126944     0.523599"
      ]
     },
     "metadata": {},
     "output_type": "display_data"
    }
   ],
   "source": [
    "# Outof_sample Results\n",
    "stddev_oos = OutOfSample_Result.std() * np.sqrt(252)\n",
    "sharp_ratio_oos = ((OutOfSample_Result.mean()*np.sqrt(252))\n",
    "                   / (OutOfSample_Result).std())\n",
    "Results_oos = pd.DataFrame(\n",
    "    dict(stdev_oos=stddev_oos, sharp_ratio_oos=sharp_ratio_oos))\n",
    "print(\"Table 09. Out-of-Sample standard deviation and Sharpe Ratio Results.\")\n",
    "display(Results)"
   ]
  },
  {
   "cell_type": "markdown",
   "id": "ebaa5765",
   "metadata": {},
   "source": [
    "A key attribute proven empirically is that **HRP portfolios perform better than MVP on out-of-sample tests**; running the portfolio on the test period reinforces this claim. Sharpe Ratio is higher in this case for the HRP portfolio. As established earlier, in periods of *higher volatility, the primary strength of HRP is providing more stable returns due to diversification*.\n",
    "\n",
    "So, what now? For most investors, a comparison of Sharpe Ratios is enough. But we are not most people. Access to technologies such as explainable AI allows us to compare these two strategies more granularly and identify key assets and their corresponding statistics."
   ]
  },
  {
   "cell_type": "markdown",
   "id": "3e17102f",
   "metadata": {},
   "source": [
    "***\n",
    "<h2 style=\"color:#007CFE\">Data Preparation for Explainable AI</h2>\n",
    "\n",
    "***"
   ]
  },
  {
   "cell_type": "code",
   "execution_count": 39,
   "id": "0c4d27e8",
   "metadata": {
    "ExecuteTime": {
     "end_time": "2023-03-20T15:02:16.416889Z",
     "start_time": "2023-03-20T15:02:16.392671Z"
    }
   },
   "outputs": [],
   "source": [
    "def clean_df_for_ml(df):\n",
    "    \"\"\"Setting-up the dataset of derived statistical features from the stock\n",
    "    returns data of S&P500.\"\"\"\n",
    "    df['Date'] = pd.to_datetime(df['Date'])\n",
    "    df = df.set_index('Date')\n",
    "\n",
    "    # add statitistics for each asset_i\n",
    "    monthly_df = (\n",
    "        df.groupby(pd.Grouper(freq='M')).agg(\n",
    "            {col: [\n",
    "                ('mean_' + col, 'mean'),\n",
    "                ('std_' + col, 'std'),\n",
    "                ('min-max_' + col, lambda x: x.max() - x.min())\n",
    "            ] for col in df.columns})\n",
    "    )\n",
    "    monthly_df = monthly_df.reset_index()\n",
    "    monthly_df.columns = monthly_df.columns.droplevel()\n",
    "    monthly_df = monthly_df.rename(columns={'': 'Month'})\n",
    "\n",
    "    # Add mean of asset class\n",
    "    monthly_df['mean_mean'] = (df.groupby(pd.Grouper(freq='M'))\n",
    "                               .apply(lambda x: x.mean().mean()).values)\n",
    "\n",
    "    # Add std of asset returns\n",
    "    monthly_df['mean_std'] = (df.groupby(pd.Grouper(freq='M'))\n",
    "                              .apply(lambda x: x.mean().std()).values)\n",
    "\n",
    "    # Add mean of drawdown\n",
    "    monthly_df['mean_dd'] = (df.groupby(pd.Grouper(freq='M'))\n",
    "                             .apply(lambda x: (x.max() - x.min())\n",
    "                                    .mean()).values)\n",
    "    # Correlation\n",
    "    monthly_df['mean_corr'] = (df.groupby(pd.Grouper(freq='M'))\n",
    "                               .apply(lambda x: x.corr().mean().mean())\n",
    "                               .values)\n",
    "\n",
    "    # Add running stats\n",
    "    monthly_df['rolling_mean'] = df.groupby(pd.Grouper(\n",
    "        freq='M')).apply(lambda x: x.mean().mean()).values\n",
    "    rmeans = []\n",
    "    for i in range(len(monthly_df)):\n",
    "        rmean = np.std(monthly_df['rolling_mean'][:i+1])\n",
    "        rmeans.append(rmean)\n",
    "    monthly_df['rolling_mean'] = rmeans\n",
    "\n",
    "    monthly_df['rolling_std'] = df.groupby(pd.Grouper(\n",
    "        freq='M')).apply(lambda x: x.mean().std()).values\n",
    "    rstds = []\n",
    "    for i in range(len(monthly_df)):\n",
    "        rstd = np.std(monthly_df['rolling_std'][:i+1])\n",
    "        rstds.append(rstd)\n",
    "    monthly_df['rolling_std'] = rstds\n",
    "\n",
    "    monthly_df['rolling_corr'] = (df.groupby(pd.Grouper(freq='M'))\n",
    "                                  .apply(lambda x: x.corr().mean().mean())\n",
    "                                  .values)\n",
    "    rcorrs = []\n",
    "    for i in range(len(monthly_df)):\n",
    "        rcorr = np.std(monthly_df['rolling_corr'][:i+1])\n",
    "        rcorrs.append(rcorr)\n",
    "    monthly_df['rolling_corr'] = rcorrs\n",
    "\n",
    "    monthly_df['rolling_dd'] = (df.groupby(pd.Grouper(freq='M'))\n",
    "                                .apply(lambda x: (x.max() - x.min())\n",
    "                                       .mean()).values)\n",
    "    rdds = []\n",
    "    for i in range(len(monthly_df)):\n",
    "        rdd = np.std(monthly_df['rolling_dd'][:i+1])\n",
    "        rdds.append(rdd)\n",
    "    monthly_df['rolling_dd'] = rdds\n",
    "\n",
    "    return monthly_df"
   ]
  },
  {
   "cell_type": "code",
   "execution_count": 40,
   "id": "d0abec56",
   "metadata": {
    "ExecuteTime": {
     "end_time": "2023-03-20T15:02:18.345440Z",
     "start_time": "2023-03-20T15:02:16.420476Z"
    }
   },
   "outputs": [
    {
     "name": "stdout",
     "output_type": "stream",
     "text": [
      "Table 10. Data with statistics on stocks for XAI Analysis.\n"
     ]
    },
    {
     "data": {
      "text/html": [
       "<div>\n",
       "<style scoped>\n",
       "    .dataframe tbody tr th:only-of-type {\n",
       "        vertical-align: middle;\n",
       "    }\n",
       "\n",
       "    .dataframe tbody tr th {\n",
       "        vertical-align: top;\n",
       "    }\n",
       "\n",
       "    .dataframe thead th {\n",
       "        text-align: right;\n",
       "    }\n",
       "</style>\n",
       "<table border=\"1\" class=\"dataframe\">\n",
       "  <thead>\n",
       "    <tr style=\"text-align: right;\">\n",
       "      <th></th>\n",
       "      <th>mean_ABT</th>\n",
       "      <th>std_ABT</th>\n",
       "      <th>min-max_ABT</th>\n",
       "      <th>mean_ABBV</th>\n",
       "      <th>std_ABBV</th>\n",
       "      <th>min-max_ABBV</th>\n",
       "      <th>mean_ABMD</th>\n",
       "      <th>std_ABMD</th>\n",
       "      <th>min-max_ABMD</th>\n",
       "      <th>mean_ACN</th>\n",
       "      <th>...</th>\n",
       "      <th>std_ZTS</th>\n",
       "      <th>min-max_ZTS</th>\n",
       "      <th>mean_mean</th>\n",
       "      <th>mean_std</th>\n",
       "      <th>mean_dd</th>\n",
       "      <th>mean_corr</th>\n",
       "      <th>rolling_mean</th>\n",
       "      <th>rolling_std</th>\n",
       "      <th>rolling_corr</th>\n",
       "      <th>rolling_dd</th>\n",
       "    </tr>\n",
       "    <tr>\n",
       "      <th>Month</th>\n",
       "      <th></th>\n",
       "      <th></th>\n",
       "      <th></th>\n",
       "      <th></th>\n",
       "      <th></th>\n",
       "      <th></th>\n",
       "      <th></th>\n",
       "      <th></th>\n",
       "      <th></th>\n",
       "      <th></th>\n",
       "      <th></th>\n",
       "      <th></th>\n",
       "      <th></th>\n",
       "      <th></th>\n",
       "      <th></th>\n",
       "      <th></th>\n",
       "      <th></th>\n",
       "      <th></th>\n",
       "      <th></th>\n",
       "      <th></th>\n",
       "      <th></th>\n",
       "    </tr>\n",
       "  </thead>\n",
       "  <tbody>\n",
       "    <tr>\n",
       "      <th>2018-01-31</th>\n",
       "      <td>0.002856</td>\n",
       "      <td>0.011830</td>\n",
       "      <td>0.055781</td>\n",
       "      <td>0.007175</td>\n",
       "      <td>0.036130</td>\n",
       "      <td>0.190244</td>\n",
       "      <td>0.010081</td>\n",
       "      <td>0.010656</td>\n",
       "      <td>0.037072</td>\n",
       "      <td>0.002209</td>\n",
       "      <td>...</td>\n",
       "      <td>0.010624</td>\n",
       "      <td>0.036959</td>\n",
       "      <td>0.001854</td>\n",
       "      <td>0.003149</td>\n",
       "      <td>0.056860</td>\n",
       "      <td>0.180422</td>\n",
       "      <td>0.000000</td>\n",
       "      <td>0.000000</td>\n",
       "      <td>0.000000</td>\n",
       "      <td>0.000000</td>\n",
       "    </tr>\n",
       "    <tr>\n",
       "      <th>2018-02-28</th>\n",
       "      <td>-0.001420</td>\n",
       "      <td>0.017721</td>\n",
       "      <td>0.068915</td>\n",
       "      <td>0.001947</td>\n",
       "      <td>0.024170</td>\n",
       "      <td>0.085858</td>\n",
       "      <td>0.007514</td>\n",
       "      <td>0.034190</td>\n",
       "      <td>0.131628</td>\n",
       "      <td>0.000227</td>\n",
       "      <td>...</td>\n",
       "      <td>0.020803</td>\n",
       "      <td>0.092679</td>\n",
       "      <td>-0.002176</td>\n",
       "      <td>0.003304</td>\n",
       "      <td>0.083620</td>\n",
       "      <td>0.543528</td>\n",
       "      <td>0.002015</td>\n",
       "      <td>0.000078</td>\n",
       "      <td>0.181553</td>\n",
       "      <td>0.013380</td>\n",
       "    </tr>\n",
       "    <tr>\n",
       "      <th>2018-03-31</th>\n",
       "      <td>-0.000209</td>\n",
       "      <td>0.015606</td>\n",
       "      <td>0.053488</td>\n",
       "      <td>-0.009062</td>\n",
       "      <td>0.031601</td>\n",
       "      <td>0.152175</td>\n",
       "      <td>0.004058</td>\n",
       "      <td>0.018590</td>\n",
       "      <td>0.070543</td>\n",
       "      <td>-0.001993</td>\n",
       "      <td>...</td>\n",
       "      <td>0.016602</td>\n",
       "      <td>0.063091</td>\n",
       "      <td>-0.000362</td>\n",
       "      <td>0.002471</td>\n",
       "      <td>0.067023</td>\n",
       "      <td>0.441588</td>\n",
       "      <td>0.001648</td>\n",
       "      <td>0.000362</td>\n",
       "      <td>0.152915</td>\n",
       "      <td>0.011030</td>\n",
       "    </tr>\n",
       "    <tr>\n",
       "      <th>2018-04-30</th>\n",
       "      <td>-0.001335</td>\n",
       "      <td>0.015011</td>\n",
       "      <td>0.054058</td>\n",
       "      <td>0.001168</td>\n",
       "      <td>0.021689</td>\n",
       "      <td>0.094332</td>\n",
       "      <td>0.001827</td>\n",
       "      <td>0.021668</td>\n",
       "      <td>0.083031</td>\n",
       "      <td>-0.000602</td>\n",
       "      <td>...</td>\n",
       "      <td>0.013100</td>\n",
       "      <td>0.050972</td>\n",
       "      <td>0.000205</td>\n",
       "      <td>0.003118</td>\n",
       "      <td>0.066615</td>\n",
       "      <td>0.398066</td>\n",
       "      <td>0.001439</td>\n",
       "      <td>0.000319</td>\n",
       "      <td>0.132492</td>\n",
       "      <td>0.009616</td>\n",
       "    </tr>\n",
       "    <tr>\n",
       "      <th>2018-05-31</th>\n",
       "      <td>0.002657</td>\n",
       "      <td>0.012082</td>\n",
       "      <td>0.043392</td>\n",
       "      <td>0.001315</td>\n",
       "      <td>0.020717</td>\n",
       "      <td>0.096683</td>\n",
       "      <td>0.011167</td>\n",
       "      <td>0.028520</td>\n",
       "      <td>0.137568</td>\n",
       "      <td>0.001385</td>\n",
       "      <td>...</td>\n",
       "      <td>0.013333</td>\n",
       "      <td>0.059447</td>\n",
       "      <td>0.000689</td>\n",
       "      <td>0.003242</td>\n",
       "      <td>0.063729</td>\n",
       "      <td>0.218755</td>\n",
       "      <td>0.001327</td>\n",
       "      <td>0.000300</td>\n",
       "      <td>0.137058</td>\n",
       "      <td>0.008812</td>\n",
       "    </tr>\n",
       "    <tr>\n",
       "      <th>2018-06-30</th>\n",
       "      <td>-0.000392</td>\n",
       "      <td>0.007595</td>\n",
       "      <td>0.033191</td>\n",
       "      <td>-0.003066</td>\n",
       "      <td>0.010901</td>\n",
       "      <td>0.039471</td>\n",
       "      <td>0.003575</td>\n",
       "      <td>0.020659</td>\n",
       "      <td>0.076036</td>\n",
       "      <td>0.002466</td>\n",
       "      <td>...</td>\n",
       "      <td>0.010337</td>\n",
       "      <td>0.039441</td>\n",
       "      <td>0.000509</td>\n",
       "      <td>0.002816</td>\n",
       "      <td>0.053663</td>\n",
       "      <td>0.167439</td>\n",
       "      <td>0.001224</td>\n",
       "      <td>0.000288</td>\n",
       "      <td>0.143586</td>\n",
       "      <td>0.009569</td>\n",
       "    </tr>\n",
       "    <tr>\n",
       "      <th>2018-07-31</th>\n",
       "      <td>0.003496</td>\n",
       "      <td>0.011582</td>\n",
       "      <td>0.051349</td>\n",
       "      <td>-0.000027</td>\n",
       "      <td>0.019820</td>\n",
       "      <td>0.072965</td>\n",
       "      <td>-0.006368</td>\n",
       "      <td>0.028986</td>\n",
       "      <td>0.134612</td>\n",
       "      <td>-0.001224</td>\n",
       "      <td>...</td>\n",
       "      <td>0.012461</td>\n",
       "      <td>0.045578</td>\n",
       "      <td>0.001504</td>\n",
       "      <td>0.002903</td>\n",
       "      <td>0.062969</td>\n",
       "      <td>0.130316</td>\n",
       "      <td>0.001232</td>\n",
       "      <td>0.000270</td>\n",
       "      <td>0.149369</td>\n",
       "      <td>0.008896</td>\n",
       "    </tr>\n",
       "    <tr>\n",
       "      <th>2018-08-31</th>\n",
       "      <td>0.000878</td>\n",
       "      <td>0.006995</td>\n",
       "      <td>0.025804</td>\n",
       "      <td>0.001799</td>\n",
       "      <td>0.011595</td>\n",
       "      <td>0.049473</td>\n",
       "      <td>0.006106</td>\n",
       "      <td>0.016633</td>\n",
       "      <td>0.069118</td>\n",
       "      <td>0.002597</td>\n",
       "      <td>...</td>\n",
       "      <td>0.015305</td>\n",
       "      <td>0.089171</td>\n",
       "      <td>0.000811</td>\n",
       "      <td>0.002810</td>\n",
       "      <td>0.055381</td>\n",
       "      <td>0.171057</td>\n",
       "      <td>0.001164</td>\n",
       "      <td>0.000260</td>\n",
       "      <td>0.145813</td>\n",
       "      <td>0.008900</td>\n",
       "    </tr>\n",
       "    <tr>\n",
       "      <th>2018-09-30</th>\n",
       "      <td>0.004966</td>\n",
       "      <td>0.010887</td>\n",
       "      <td>0.051153</td>\n",
       "      <td>-0.000683</td>\n",
       "      <td>0.013786</td>\n",
       "      <td>0.062080</td>\n",
       "      <td>0.005911</td>\n",
       "      <td>0.035187</td>\n",
       "      <td>0.157893</td>\n",
       "      <td>0.000369</td>\n",
       "      <td>...</td>\n",
       "      <td>0.007274</td>\n",
       "      <td>0.021116</td>\n",
       "      <td>-0.000016</td>\n",
       "      <td>0.002817</td>\n",
       "      <td>0.048520</td>\n",
       "      <td>0.097006</td>\n",
       "      <td>0.001105</td>\n",
       "      <td>0.000250</td>\n",
       "      <td>0.149188</td>\n",
       "      <td>0.009657</td>\n",
       "    </tr>\n",
       "    <tr>\n",
       "      <th>2018-10-31</th>\n",
       "      <td>-0.002580</td>\n",
       "      <td>0.015722</td>\n",
       "      <td>0.065996</td>\n",
       "      <td>-0.008215</td>\n",
       "      <td>0.020998</td>\n",
       "      <td>0.076451</td>\n",
       "      <td>-0.011481</td>\n",
       "      <td>0.030794</td>\n",
       "      <td>0.109524</td>\n",
       "      <td>-0.003162</td>\n",
       "      <td>...</td>\n",
       "      <td>0.017188</td>\n",
       "      <td>0.053390</td>\n",
       "      <td>-0.003131</td>\n",
       "      <td>0.003882</td>\n",
       "      <td>0.090479</td>\n",
       "      <td>0.352152</td>\n",
       "      <td>0.001477</td>\n",
       "      <td>0.000365</td>\n",
       "      <td>0.144155</td>\n",
       "      <td>0.012519</td>\n",
       "    </tr>\n",
       "    <tr>\n",
       "      <th>2018-11-30</th>\n",
       "      <td>0.003551</td>\n",
       "      <td>0.017190</td>\n",
       "      <td>0.075393</td>\n",
       "      <td>0.009340</td>\n",
       "      <td>0.019819</td>\n",
       "      <td>0.070890</td>\n",
       "      <td>0.000234</td>\n",
       "      <td>0.053713</td>\n",
       "      <td>0.270876</td>\n",
       "      <td>0.002127</td>\n",
       "      <td>...</td>\n",
       "      <td>0.016545</td>\n",
       "      <td>0.068998</td>\n",
       "      <td>0.001332</td>\n",
       "      <td>0.003546</td>\n",
       "      <td>0.078153</td>\n",
       "      <td>0.292262</td>\n",
       "      <td>0.001460</td>\n",
       "      <td>0.000376</td>\n",
       "      <td>0.137595</td>\n",
       "      <td>0.012531</td>\n",
       "    </tr>\n",
       "    <tr>\n",
       "      <th>2018-12-31</th>\n",
       "      <td>-0.001013</td>\n",
       "      <td>0.021838</td>\n",
       "      <td>0.099224</td>\n",
       "      <td>-0.000965</td>\n",
       "      <td>0.021096</td>\n",
       "      <td>0.095292</td>\n",
       "      <td>-0.000572</td>\n",
       "      <td>0.037232</td>\n",
       "      <td>0.148875</td>\n",
       "      <td>-0.007849</td>\n",
       "      <td>...</td>\n",
       "      <td>0.020937</td>\n",
       "      <td>0.085597</td>\n",
       "      <td>-0.005481</td>\n",
       "      <td>0.003551</td>\n",
       "      <td>0.095951</td>\n",
       "      <td>0.592592</td>\n",
       "      <td>0.002084</td>\n",
       "      <td>0.000381</td>\n",
       "      <td>0.158755</td>\n",
       "      <td>0.014561</td>\n",
       "    </tr>\n",
       "    <tr>\n",
       "      <th>2019-01-31</th>\n",
       "      <td>0.000658</td>\n",
       "      <td>0.021981</td>\n",
       "      <td>0.079419</td>\n",
       "      <td>-0.006228</td>\n",
       "      <td>0.026174</td>\n",
       "      <td>0.094397</td>\n",
       "      <td>0.004040</td>\n",
       "      <td>0.027704</td>\n",
       "      <td>0.102861</td>\n",
       "      <td>0.004163</td>\n",
       "      <td>...</td>\n",
       "      <td>0.015343</td>\n",
       "      <td>0.073799</td>\n",
       "      <td>0.004590</td>\n",
       "      <td>0.003232</td>\n",
       "      <td>0.078317</td>\n",
       "      <td>0.329466</td>\n",
       "      <td>0.002397</td>\n",
       "      <td>0.000367</td>\n",
       "      <td>0.152747</td>\n",
       "      <td>0.014229</td>\n",
       "    </tr>\n",
       "    <tr>\n",
       "      <th>2019-02-28</th>\n",
       "      <td>0.003286</td>\n",
       "      <td>0.008847</td>\n",
       "      <td>0.030874</td>\n",
       "      <td>-0.000644</td>\n",
       "      <td>0.010099</td>\n",
       "      <td>0.040599</td>\n",
       "      <td>-0.002304</td>\n",
       "      <td>0.022300</td>\n",
       "      <td>0.100854</td>\n",
       "      <td>0.002639</td>\n",
       "      <td>...</td>\n",
       "      <td>0.015796</td>\n",
       "      <td>0.072413</td>\n",
       "      <td>0.001855</td>\n",
       "      <td>0.003219</td>\n",
       "      <td>0.057835</td>\n",
       "      <td>0.130689</td>\n",
       "      <td>0.002357</td>\n",
       "      <td>0.000354</td>\n",
       "      <td>0.153596</td>\n",
       "      <td>0.014027</td>\n",
       "    </tr>\n",
       "    <tr>\n",
       "      <th>2019-03-31</th>\n",
       "      <td>0.001453</td>\n",
       "      <td>0.010134</td>\n",
       "      <td>0.041504</td>\n",
       "      <td>0.000851</td>\n",
       "      <td>0.009885</td>\n",
       "      <td>0.035603</td>\n",
       "      <td>-0.007073</td>\n",
       "      <td>0.029534</td>\n",
       "      <td>0.127442</td>\n",
       "      <td>0.004230</td>\n",
       "      <td>...</td>\n",
       "      <td>0.011353</td>\n",
       "      <td>0.042308</td>\n",
       "      <td>0.000411</td>\n",
       "      <td>0.002690</td>\n",
       "      <td>0.056344</td>\n",
       "      <td>0.332419</td>\n",
       "      <td>0.002278</td>\n",
       "      <td>0.000361</td>\n",
       "      <td>0.148783</td>\n",
       "      <td>0.013887</td>\n",
       "    </tr>\n",
       "    <tr>\n",
       "      <th>2019-04-30</th>\n",
       "      <td>-0.000129</td>\n",
       "      <td>0.014264</td>\n",
       "      <td>0.067163</td>\n",
       "      <td>-0.000647</td>\n",
       "      <td>0.011822</td>\n",
       "      <td>0.056151</td>\n",
       "      <td>-0.001173</td>\n",
       "      <td>0.020894</td>\n",
       "      <td>0.087364</td>\n",
       "      <td>0.001781</td>\n",
       "      <td>...</td>\n",
       "      <td>0.010373</td>\n",
       "      <td>0.039118</td>\n",
       "      <td>0.001686</td>\n",
       "      <td>0.003060</td>\n",
       "      <td>0.059423</td>\n",
       "      <td>0.141246</td>\n",
       "      <td>0.002236</td>\n",
       "      <td>0.000350</td>\n",
       "      <td>0.148600</td>\n",
       "      <td>0.013594</td>\n",
       "    </tr>\n",
       "    <tr>\n",
       "      <th>2019-05-31</th>\n",
       "      <td>-0.001955</td>\n",
       "      <td>0.009839</td>\n",
       "      <td>0.045168</td>\n",
       "      <td>-0.001508</td>\n",
       "      <td>0.010364</td>\n",
       "      <td>0.045780</td>\n",
       "      <td>-0.002382</td>\n",
       "      <td>0.021742</td>\n",
       "      <td>0.075116</td>\n",
       "      <td>-0.001119</td>\n",
       "      <td>...</td>\n",
       "      <td>0.008199</td>\n",
       "      <td>0.032329</td>\n",
       "      <td>-0.003296</td>\n",
       "      <td>0.004013</td>\n",
       "      <td>0.064094</td>\n",
       "      <td>0.331833</td>\n",
       "      <td>0.002326</td>\n",
       "      <td>0.000400</td>\n",
       "      <td>0.144631</td>\n",
       "      <td>0.013208</td>\n",
       "    </tr>\n",
       "    <tr>\n",
       "      <th>2019-06-30</th>\n",
       "      <td>0.011159</td>\n",
       "      <td>0.014888</td>\n",
       "      <td>0.028631</td>\n",
       "      <td>0.001581</td>\n",
       "      <td>0.013685</td>\n",
       "      <td>0.027037</td>\n",
       "      <td>0.008727</td>\n",
       "      <td>0.011859</td>\n",
       "      <td>0.023406</td>\n",
       "      <td>0.002878</td>\n",
       "      <td>...</td>\n",
       "      <td>0.018727</td>\n",
       "      <td>0.036601</td>\n",
       "      <td>0.011944</td>\n",
       "      <td>0.008687</td>\n",
       "      <td>0.033932</td>\n",
       "      <td>0.170722</td>\n",
       "      <td>0.003539</td>\n",
       "      <td>0.001323</td>\n",
       "      <td>0.142987</td>\n",
       "      <td>0.014904</td>\n",
       "    </tr>\n",
       "  </tbody>\n",
       "</table>\n",
       "<p>18 rows × 1502 columns</p>\n",
       "</div>"
      ],
      "text/plain": [
       "            mean_ABT   std_ABT  min-max_ABT  mean_ABBV  std_ABBV  \\\n",
       "Month                                                              \n",
       "2018-01-31  0.002856  0.011830     0.055781   0.007175  0.036130   \n",
       "2018-02-28 -0.001420  0.017721     0.068915   0.001947  0.024170   \n",
       "2018-03-31 -0.000209  0.015606     0.053488  -0.009062  0.031601   \n",
       "2018-04-30 -0.001335  0.015011     0.054058   0.001168  0.021689   \n",
       "2018-05-31  0.002657  0.012082     0.043392   0.001315  0.020717   \n",
       "2018-06-30 -0.000392  0.007595     0.033191  -0.003066  0.010901   \n",
       "2018-07-31  0.003496  0.011582     0.051349  -0.000027  0.019820   \n",
       "2018-08-31  0.000878  0.006995     0.025804   0.001799  0.011595   \n",
       "2018-09-30  0.004966  0.010887     0.051153  -0.000683  0.013786   \n",
       "2018-10-31 -0.002580  0.015722     0.065996  -0.008215  0.020998   \n",
       "2018-11-30  0.003551  0.017190     0.075393   0.009340  0.019819   \n",
       "2018-12-31 -0.001013  0.021838     0.099224  -0.000965  0.021096   \n",
       "2019-01-31  0.000658  0.021981     0.079419  -0.006228  0.026174   \n",
       "2019-02-28  0.003286  0.008847     0.030874  -0.000644  0.010099   \n",
       "2019-03-31  0.001453  0.010134     0.041504   0.000851  0.009885   \n",
       "2019-04-30 -0.000129  0.014264     0.067163  -0.000647  0.011822   \n",
       "2019-05-31 -0.001955  0.009839     0.045168  -0.001508  0.010364   \n",
       "2019-06-30  0.011159  0.014888     0.028631   0.001581  0.013685   \n",
       "\n",
       "            min-max_ABBV  mean_ABMD  std_ABMD  min-max_ABMD  mean_ACN  ...  \\\n",
       "Month                                                                  ...   \n",
       "2018-01-31      0.190244   0.010081  0.010656      0.037072  0.002209  ...   \n",
       "2018-02-28      0.085858   0.007514  0.034190      0.131628  0.000227  ...   \n",
       "2018-03-31      0.152175   0.004058  0.018590      0.070543 -0.001993  ...   \n",
       "2018-04-30      0.094332   0.001827  0.021668      0.083031 -0.000602  ...   \n",
       "2018-05-31      0.096683   0.011167  0.028520      0.137568  0.001385  ...   \n",
       "2018-06-30      0.039471   0.003575  0.020659      0.076036  0.002466  ...   \n",
       "2018-07-31      0.072965  -0.006368  0.028986      0.134612 -0.001224  ...   \n",
       "2018-08-31      0.049473   0.006106  0.016633      0.069118  0.002597  ...   \n",
       "2018-09-30      0.062080   0.005911  0.035187      0.157893  0.000369  ...   \n",
       "2018-10-31      0.076451  -0.011481  0.030794      0.109524 -0.003162  ...   \n",
       "2018-11-30      0.070890   0.000234  0.053713      0.270876  0.002127  ...   \n",
       "2018-12-31      0.095292  -0.000572  0.037232      0.148875 -0.007849  ...   \n",
       "2019-01-31      0.094397   0.004040  0.027704      0.102861  0.004163  ...   \n",
       "2019-02-28      0.040599  -0.002304  0.022300      0.100854  0.002639  ...   \n",
       "2019-03-31      0.035603  -0.007073  0.029534      0.127442  0.004230  ...   \n",
       "2019-04-30      0.056151  -0.001173  0.020894      0.087364  0.001781  ...   \n",
       "2019-05-31      0.045780  -0.002382  0.021742      0.075116 -0.001119  ...   \n",
       "2019-06-30      0.027037   0.008727  0.011859      0.023406  0.002878  ...   \n",
       "\n",
       "             std_ZTS  min-max_ZTS  mean_mean  mean_std   mean_dd  mean_corr  \\\n",
       "Month                                                                         \n",
       "2018-01-31  0.010624     0.036959   0.001854  0.003149  0.056860   0.180422   \n",
       "2018-02-28  0.020803     0.092679  -0.002176  0.003304  0.083620   0.543528   \n",
       "2018-03-31  0.016602     0.063091  -0.000362  0.002471  0.067023   0.441588   \n",
       "2018-04-30  0.013100     0.050972   0.000205  0.003118  0.066615   0.398066   \n",
       "2018-05-31  0.013333     0.059447   0.000689  0.003242  0.063729   0.218755   \n",
       "2018-06-30  0.010337     0.039441   0.000509  0.002816  0.053663   0.167439   \n",
       "2018-07-31  0.012461     0.045578   0.001504  0.002903  0.062969   0.130316   \n",
       "2018-08-31  0.015305     0.089171   0.000811  0.002810  0.055381   0.171057   \n",
       "2018-09-30  0.007274     0.021116  -0.000016  0.002817  0.048520   0.097006   \n",
       "2018-10-31  0.017188     0.053390  -0.003131  0.003882  0.090479   0.352152   \n",
       "2018-11-30  0.016545     0.068998   0.001332  0.003546  0.078153   0.292262   \n",
       "2018-12-31  0.020937     0.085597  -0.005481  0.003551  0.095951   0.592592   \n",
       "2019-01-31  0.015343     0.073799   0.004590  0.003232  0.078317   0.329466   \n",
       "2019-02-28  0.015796     0.072413   0.001855  0.003219  0.057835   0.130689   \n",
       "2019-03-31  0.011353     0.042308   0.000411  0.002690  0.056344   0.332419   \n",
       "2019-04-30  0.010373     0.039118   0.001686  0.003060  0.059423   0.141246   \n",
       "2019-05-31  0.008199     0.032329  -0.003296  0.004013  0.064094   0.331833   \n",
       "2019-06-30  0.018727     0.036601   0.011944  0.008687  0.033932   0.170722   \n",
       "\n",
       "            rolling_mean  rolling_std  rolling_corr  rolling_dd  \n",
       "Month                                                            \n",
       "2018-01-31      0.000000     0.000000      0.000000    0.000000  \n",
       "2018-02-28      0.002015     0.000078      0.181553    0.013380  \n",
       "2018-03-31      0.001648     0.000362      0.152915    0.011030  \n",
       "2018-04-30      0.001439     0.000319      0.132492    0.009616  \n",
       "2018-05-31      0.001327     0.000300      0.137058    0.008812  \n",
       "2018-06-30      0.001224     0.000288      0.143586    0.009569  \n",
       "2018-07-31      0.001232     0.000270      0.149369    0.008896  \n",
       "2018-08-31      0.001164     0.000260      0.145813    0.008900  \n",
       "2018-09-30      0.001105     0.000250      0.149188    0.009657  \n",
       "2018-10-31      0.001477     0.000365      0.144155    0.012519  \n",
       "2018-11-30      0.001460     0.000376      0.137595    0.012531  \n",
       "2018-12-31      0.002084     0.000381      0.158755    0.014561  \n",
       "2019-01-31      0.002397     0.000367      0.152747    0.014229  \n",
       "2019-02-28      0.002357     0.000354      0.153596    0.014027  \n",
       "2019-03-31      0.002278     0.000361      0.148783    0.013887  \n",
       "2019-04-30      0.002236     0.000350      0.148600    0.013594  \n",
       "2019-05-31      0.002326     0.000400      0.144631    0.013208  \n",
       "2019-06-30      0.003539     0.001323      0.142987    0.014904  \n",
       "\n",
       "[18 rows x 1502 columns]"
      ]
     },
     "metadata": {},
     "output_type": "display_data"
    },
    {
     "name": "stdout",
     "output_type": "stream",
     "text": [
      "   Prepared dataset number of rows is: 18\n",
      "Prepared dataset number of columns is: 1502\n"
     ]
    }
   ],
   "source": [
    "ret2 = returns.copy()\n",
    "ret2 = ret2.reset_index()\n",
    "ret3 = clean_df_for_ml(ret2)\n",
    "ret3 = ret3.set_index('Month')\n",
    "\n",
    "# Display dataframe and shape\n",
    "print(\"Table 10. Data with statistics on stocks for XAI Analysis.\")\n",
    "display(ret3)\n",
    "print(f\"   Prepared dataset number of rows is: {ret3.shape[0]}\")\n",
    "print(f\"Prepared dataset number of columns is: {ret3.shape[1]}\")"
   ]
  },
  {
   "cell_type": "code",
   "execution_count": 41,
   "id": "66486029",
   "metadata": {
    "ExecuteTime": {
     "end_time": "2023-03-20T15:02:18.431081Z",
     "start_time": "2023-03-20T15:02:18.351081Z"
    }
   },
   "outputs": [
    {
     "name": "stdout",
     "output_type": "stream",
     "text": [
      "The Difference in Shapre ratio between HRP and MVP.\n"
     ]
    },
    {
     "data": {
      "text/plain": [
       "Date\n",
       "2018-01-31    0.600005\n",
       "2018-02-28    0.296332\n",
       "2018-03-31   -0.275855\n",
       "2018-04-30   -0.188617\n",
       "2018-05-31    0.300619\n",
       "2018-06-30   -0.199395\n",
       "2018-07-31    0.540849\n",
       "2018-08-31    1.239637\n",
       "2018-09-30    0.841715\n",
       "2018-10-31   -0.584159\n",
       "2018-11-30   -0.964496\n",
       "2018-12-31   -0.131674\n",
       "2019-01-31    0.617652\n",
       "2019-02-28   -0.335173\n",
       "2019-03-31    0.077104\n",
       "2019-04-30    0.231510\n",
       "2019-05-31   -0.975094\n",
       "2019-06-30   -1.060781\n",
       "Freq: M, dtype: float64"
      ]
     },
     "metadata": {},
     "output_type": "display_data"
    }
   ],
   "source": [
    "def test1(df, col_name):\n",
    "    \"\"\"Calculate the Sharpe Ratio difference of MVP and HRP\"\"\"\n",
    "    df.index = pd.to_datetime(df.index, format='%Y/%m/%d')\n",
    "    df2 = df.groupby(pd.Grouper(freq='M')).mean()\n",
    "    col_n = 'sharpe_ratio_' + col_name\n",
    "    df2[col_n] = df.groupby(pd.Grouper(freq='M')).apply(\n",
    "        lambda x: x.mean()*np.sqrt(12) / x.std()).values\n",
    "    return df2\n",
    "\n",
    "\n",
    "metrics = pd.concat([test1(Insample_Result[['MVP']], 'MVP'),\n",
    "                    test1(Insample_Result[['HRP']], 'HRP')], axis=1)\n",
    "target = metrics['sharpe_ratio_HRP'] - metrics['sharpe_ratio_MVP']\n",
    "print(\"The Difference in Shapre ratio between HRP and MVP.\")\n",
    "display(target)"
   ]
  },
  {
   "cell_type": "markdown",
   "id": "902cbc15",
   "metadata": {},
   "source": [
    "***\n",
    "<h2 style=\"color:#007CFE\">Explainable AI</h2>\n",
    "\n",
    "***"
   ]
  },
  {
   "cell_type": "markdown",
   "id": "82af6580",
   "metadata": {},
   "source": [
    "To understand why `HRP` **performs better** than `MVP`, we performed `XGBRegressor` on our dataset and applied `SHAP`. Shown below are the plots for explainable AI (XAI)."
   ]
  },
  {
   "cell_type": "code",
   "execution_count": 42,
   "id": "a75ebed6",
   "metadata": {
    "ExecuteTime": {
     "end_time": "2023-03-20T15:02:26.367404Z",
     "start_time": "2023-03-20T15:02:18.433452Z"
    }
   },
   "outputs": [],
   "source": [
    "regressor = XGBRegressor()\n",
    "regressor.fit(ret3, target)\n",
    "\n",
    "# Create object that can calculate shap values\n",
    "shap_explainer = shap.TreeExplainer(regressor)\n",
    "\n",
    "# Calculate Shap values\n",
    "shap_values = shap_explainer.shap_values(ret3)"
   ]
  },
  {
   "cell_type": "code",
   "execution_count": 43,
   "id": "d163d0db",
   "metadata": {
    "ExecuteTime": {
     "end_time": "2023-03-20T15:02:26.569371Z",
     "start_time": "2023-03-20T15:02:26.372696Z"
    }
   },
   "outputs": [
    {
     "data": {
      "text/html": [
       "<img src=\"Global_Shap.png\" alt=\"plots\" style=\"display:block;margin-left:auto;margin-right:auto;width:40%;\">"
      ],
      "text/plain": [
       "<IPython.core.display.HTML object>"
      ]
     },
     "metadata": {},
     "output_type": "display_data"
    },
    {
     "data": {
      "text/html": [
       "<p style=\"font-size:11px;font-style:default;\">\n",
       "                     <center><b>\n",
       "                     Figure 10. Global Feature Importance Plot.</b>\n",
       "                     <br></center></p>"
      ],
      "text/plain": [
       "<IPython.core.display.HTML object>"
      ]
     },
     "metadata": {},
     "output_type": "display_data"
    }
   ],
   "source": [
    "features = ret3.columns\n",
    "# Comment-out and load the previously saved image to be able to center-align\n",
    "# shap.summary_plot(shap_values, ret3,\n",
    "#                   feature_names=features, plot_type=\"bar\")\n",
    "\n",
    "# Create an HTML img tag to display the image\n",
    "img_tag = (f'<img src=\"Global_Shap.png\" alt=\"plots\" style=\"display:block;'\n",
    "           f'margin-left:auto;margin-right:auto;width:40%;\">')\n",
    "\n",
    "# Display the img tag in the Jupyter Notebook\n",
    "display(HTML(img_tag))\n",
    "plt.close()\n",
    "fig_caption('Global Feature Importance Plot', '')"
   ]
  },
  {
   "cell_type": "code",
   "execution_count": 44,
   "id": "e6e5242b",
   "metadata": {
    "ExecuteTime": {
     "end_time": "2023-03-20T15:02:26.591872Z",
     "start_time": "2023-03-20T15:02:26.575696Z"
    }
   },
   "outputs": [
    {
     "data": {
      "text/html": [
       "<img src=\"BeeSwarm_Plot_Shap.png\" alt=\"plots\" style=\"display:block;margin-left:auto;margin-right:auto;width:40%;\">"
      ],
      "text/plain": [
       "<IPython.core.display.HTML object>"
      ]
     },
     "metadata": {},
     "output_type": "display_data"
    },
    {
     "data": {
      "text/html": [
       "<p style=\"font-size:11px;font-style:default;\">\n",
       "                     <center><b>\n",
       "                     Figure 11. Bee Swarm Plot.</b>\n",
       "                     <br></center></p>"
      ],
      "text/plain": [
       "<IPython.core.display.HTML object>"
      ]
     },
     "metadata": {},
     "output_type": "display_data"
    }
   ],
   "source": [
    "# Comment-out and load the previously saved image to be able to center-align\n",
    "# shap.summary_plot(shap_values, ret3, feature_names=features)\n",
    "\n",
    "# Create an HTML img tag to display the image\n",
    "img_tag = (f'<img src=\"BeeSwarm_Plot_Shap.png\" alt=\"plots\" style=\"display:'\n",
    "           f'block;margin-left:auto;margin-right:auto;width:40%;\">')\n",
    "\n",
    "# Display the img tag in the Jupyter Notebook\n",
    "display(HTML(img_tag))\n",
    "plt.close()\n",
    "fig_caption('Bee Swarm Plot', '')"
   ]
  },
  {
   "cell_type": "markdown",
   "id": "6fe5421b",
   "metadata": {},
   "source": [
    "Above is the summary plot of the Shap Value results, highlighting the specific asset (`FLT`, `PXD`, `KSS`) statistic that provides the highest marginal difference to the model. We will examine this top three more closely."
   ]
  },
  {
   "cell_type": "code",
   "execution_count": 45,
   "id": "b67d8d2c",
   "metadata": {
    "ExecuteTime": {
     "end_time": "2023-03-20T15:02:26.609999Z",
     "start_time": "2023-03-20T15:02:26.596639Z"
    }
   },
   "outputs": [
    {
     "data": {
      "text/html": [
       "<img src=\"Dependence_Plot_Shap.png\" alt=\"plots\" style=\"display:block;margin-left:auto;margin-right:auto;width:40%;\">"
      ],
      "text/plain": [
       "<IPython.core.display.HTML object>"
      ]
     },
     "metadata": {},
     "output_type": "display_data"
    },
    {
     "data": {
      "text/html": [
       "<p style=\"font-size:11px;font-style:default;\">\n",
       "                     <center><b>\n",
       "                     Figure 12. Dependence Plot.</b>\n",
       "                     <br></center></p>"
      ],
      "text/plain": [
       "<IPython.core.display.HTML object>"
      ]
     },
     "metadata": {},
     "output_type": "display_data"
    }
   ],
   "source": [
    "# Comment-out and load the previously saved image to be able to center-align\n",
    "# shap.dependence_plot(589, shap_values, ret3, feature_names=features)\n",
    "\n",
    "# Create an HTML img tag to display the image\n",
    "img_tag = (f'<img src=\"Dependence_Plot_Shap.png\" alt=\"plots\" style=\"display:'\n",
    "           f'block;margin-left:auto;margin-right:auto;width:40%;\">')\n",
    "\n",
    "# Display the img tag in the Jupyter Notebook\n",
    "display(HTML(img_tag))\n",
    "plt.close()\n",
    "fig_caption('Dependence Plot', '')"
   ]
  },
  {
   "cell_type": "markdown",
   "id": "05080236",
   "metadata": {},
   "source": [
    "Examining more the stock price of FleetCor. Show below are the analysis."
   ]
  },
  {
   "cell_type": "markdown",
   "id": "8f4b1160",
   "metadata": {},
   "source": [
    "<center><img src=\"./FLT_Analysis.png\" width=\"60%\" height=\"60%\"></center>\n",
    "<center>Image 05. Analysis of FleetCor Technologies, Inc. (FLT) Standard Deviation.</center>"
   ]
  },
  {
   "cell_type": "markdown",
   "id": "add93379",
   "metadata": {},
   "source": [
    "Fleetcor is a US tech company. The movement of this stock highlights the **benefits of diversification** HRP provides. As we can see, MVP overweights the stock about `75%` **higher** than HRP. In times of *high volatility*, the MVP portfolio will bear the weight of that loss, vs. a *dampened effect* on HRP. "
   ]
  },
  {
   "cell_type": "markdown",
   "id": "f06a5dd3",
   "metadata": {},
   "source": [
    "<center><img src=\"./PXD_Analysis.png\" width=\"60%\" height=\"60%\"></center>\n",
    "<center>Image 06. Analysis of Pioneer Natural Resources Company (PXD) Standard Deviation.</center>"
   ]
  },
  {
   "cell_type": "markdown",
   "id": "1a72969b",
   "metadata": {},
   "source": [
    "For the second, `SHAP` points toward the stock volatility and `PXD`. However, we see a point toward the MV portfolio in this instance. The mean-variance portfolio allocates practically zero to this particular stock, meaning the *volatility of PXD contributes to the increase* and decrease of the HRP's return. Whereas, for MVP, we can safely ignore its movement. For the HRP scenario, PXD will act as a hedge to another stock in times of volatility."
   ]
  },
  {
   "cell_type": "markdown",
   "id": "8c41f046",
   "metadata": {},
   "source": [
    "<center><img src=\"./KSS_Analysis.png\" width=\"60%\" height=\"60%\"></center>\n",
    "<center>Image 07. Analysis of Kohl's Corporation (KSS) Mean.</center>\n",
    "\n"
   ]
  },
  {
   "cell_type": "markdown",
   "id": "941dcbb1",
   "metadata": {},
   "source": [
    "Performing EDA on the actual stock price, we can see that the return computations are pretty *stable* while at the same time trending upwards. Because allocation is given to KSS' relatively steady returns, an HRP portfolio reaps the benefit, whereas MVP will not."
   ]
  },
  {
   "cell_type": "markdown",
   "id": "9e3d4f1b",
   "metadata": {},
   "source": [
    "<h1 style=\"background-color:#0531BC; color:#F5F5F1; padding: 20px;\">Conclusion</h1>"
   ]
  },
  {
   "cell_type": "markdown",
   "id": "75935e5e",
   "metadata": {},
   "source": [
    "So let's circle back to our main question, can Hierarchical Risk Parity replace the staple used by Modern Portfolio Theory? The thing is, you will never get a straight answer because the **market will always be dynamic**. However, with the help of `XAI`, we've shown that in our portfolio, **HRP provides a more stable diversification** strategy and covers MVP's shortcomings. While not return target-based, it provides diversification, not at the expense of returns. \n",
    "\n",
    "The **mean-variance** strategy is an industry-wide practice because of its **simplicity**, but we believe its also the lack of accessibility of other strategies that drive its prevalence. It used to be that only large firms had access to this technology. But that's not the case at this age. As a result, the playing field is leveled about *knowledge distribution*.\n",
    "\n",
    "HRP is one among many which may be unboxed now due to `XAI`. From just absolute return percentages, we can examine other metrics to help us make better business decisions. For example, financial products may be improved, and financial literacy encouraged. For clients, it's a new opportunity to understand investment strategies. For institutions, it's a way to tailor fit solutions further."
   ]
  },
  {
   "cell_type": "markdown",
   "id": "180c2814",
   "metadata": {},
   "source": [
    "<h1 style=\"background-color:#0531BC; color:#F5F5F1; padding: 20px;\">Recommendation</h1>"
   ]
  },
  {
   "cell_type": "markdown",
   "id": "7ab2c388",
   "metadata": {},
   "source": [
    "The asset universe utilized in this report was limited to just the `S&P500` member stocks from about two years. As a result, performance comparisons of the Hierarchical Risk Parity portfolio against the Mean-Variance portfolio *have a bias toward the latter* (since equities tend toward returns rather than diversification). Often, a market sell-off sees most stocks moving in the same direction.\n",
    "\n",
    "The **true benefits of diversification** are only realized when one **moves beyond a single asset class** (in this case, equities); empirically, it is in this scenario that the HRP outperformance can truly be seen. The group recommends the evaluation of a **multi-asset portfolio** constructed with Hierarchical Risk Parity and **subject to portfolio rebalancing**. Assets such as `fixed income`, `commodities`, and `alternative investments` have been known to have statistical properties which differ greatly from equities. Linkages formed in the clustering step of HRP make these differences known immediately based on the class position in the dendrogram. Assessing this portfolio's performance over the long term versus that of a mean-variance portfolio will provide a deeper understanding of the differences between the two strategies and, consequently, clearer factors obtained from applying explainable AI methods."
   ]
  },
  {
   "cell_type": "markdown",
   "id": "fc5926d5",
   "metadata": {},
   "source": [
    "<h1 style=\"background-color:#0531BC; color:#F5F5F1; padding: 20px;\">References</h1>"
   ]
  },
  {
   "cell_type": "markdown",
   "id": "043198bb",
   "metadata": {},
   "source": [
    "[1] Hayes, A. (2023 February 26). *Portfolio Management: Definition, Types, and Strategies.* Investopedia. Retrieved March 16, 2023 from https://www.investopedia.com/terms/p/portfoliomanagement.asp\n",
    "\n",
    "[2] Capital.com (n.d.). *What is PSE Index (PSEi)?* Retrieved March 17, 2023 from https://capital.com/pse-index-psei-definition\n",
    "\n",
    "[3] GuidedChoice (n.d.). *Harry Markowitz’s Modern Portfolio Theory: The Efficient Frontier.* Retrieved March 17, 2023 from https://www.guidedchoice.com/video/dr-harry-markowitz-father-of-modern-portfolio-theory/\n",
    "\n",
    "[4] Jensen, G. (2022, April 09). *Hierarchical Risk Parity on RAPIDS: An ML Approach to Portfolio Allocation.* Retrieved March 17, 2023 from https://developer.nvidia.com/blog/hierarchical-risk-parity-on-rapids-an-ml-approach-to-portfolio-allocation/\n",
    "\n",
    "[5] Vyas, A. (n.d.). *The Hierarchical Risk Parity Algorithm: An Introduction.* Retrieved March 17, 2023 from https://hudsonthames.org/an-introduction-to-the-hierarchical-risk-parity-algorithm/\n",
    "\n",
    "[6] López de Prado, M. (2016, May 23). *Building Diversified Portfolios that Outperform Out-of-Sample.* Journal of Portfolio Management, 2016, 42(4), 59–69; https://doi.org/10.3905/jpm.2016.42.4.059. Retrived March 17, 2023 from https://papers.ssrn.com/sol3/papers.cfm?abstract_id=2708678\n",
    "\n",
    "[7] Fernando, J. (2022, June 06). *Sharpe Ratio Formula and Definition With Examples.* Retrieved March 17, 2023 from https://www.investopedia.com/terms/s/sharperatio.asp\n",
    "\n",
    "[8] Jaeger, M., Krügel, S., Marinelli, D., Papenbrock, J., Schwendner, P. (2021). Interpretable machine learning for diversified portfolio construction. The Journal of Financial Data Science, 3(3), 31–51. https://doi.org/10.3905/jfds.2021.1.066"
   ]
  }
 ],
 "metadata": {
  "kernelspec": {
   "display_name": "Python 3 (ipykernel)",
   "language": "python",
   "name": "python3"
  },
  "language_info": {
   "codemirror_mode": {
    "name": "ipython",
    "version": 3
   },
   "file_extension": ".py",
   "mimetype": "text/x-python",
   "name": "python",
   "nbconvert_exporter": "python",
   "pygments_lexer": "ipython3",
   "version": "3.9.13"
  },
  "toc": {
   "base_numbering": 1,
   "nav_menu": {},
   "number_sections": true,
   "sideBar": true,
   "skip_h1_title": false,
   "title_cell": "Table of Contents",
   "title_sidebar": "Contents",
   "toc_cell": false,
   "toc_position": {
    "height": "calc(100% - 180px)",
    "left": "10px",
    "top": "150px",
    "width": "233.625px"
   },
   "toc_section_display": true,
   "toc_window_display": true
  }
 },
 "nbformat": 4,
 "nbformat_minor": 5
}
